{
 "cells": [
  {
   "cell_type": "markdown",
   "id": "4f53172e-e29b-4bdf-8193-f89d0641dd30",
   "metadata": {},
   "source": [
    "## Exercise 1: Prime Numbers"
   ]
  },
  {
   "cell_type": "code",
   "execution_count": 1,
   "id": "41c8de88-b124-44d2-acac-899bf34a9cbf",
   "metadata": {},
   "outputs": [
    {
     "name": "stdin",
     "output_type": "stream",
     "text": [
      "Enter the number:  5\n"
     ]
    },
    {
     "name": "stdout",
     "output_type": "stream",
     "text": [
      "Is prime\n"
     ]
    }
   ],
   "source": [
    "n=int(input(\"Enter the number: \")) #Taking the input number\n",
    "if n>1:                            #checking whether the number is greater than 1\n",
    "    for i in range (2,(n//2)+1):   #Iterating the number for checking whether it is divisible by any number other than the same and 1.\n",
    "        if n%i==0:\n",
    "            print(\"Not Prime\")     #If divisible print 'not prime'\n",
    "            break\n",
    "    else:\n",
    "        print(\"Is prime\")          #Else print 'prime'\n",
    "elif n==1:                         #The number is 1 neither prime nor not prime\n",
    "    print('Neither prime nor not prime')\n",
    "        \n",
    "else:\n",
    "    print(\"Not prime\") #If number less than one it is also not prime\n",
    "    "
   ]
  },
  {
   "cell_type": "markdown",
   "id": "e60babe5-d361-49de-9021-9f07a1978265",
   "metadata": {},
   "source": [
    "## Exercise 2: Product of Random Numbers"
   ]
  },
  {
   "cell_type": "code",
   "execution_count": 2,
   "id": "87a63944-5611-4fe5-b586-e5ae82a605aa",
   "metadata": {},
   "outputs": [
    {
     "name": "stdin",
     "output_type": "stream",
     "text": [
      "Enter the product of 70 & 65: 754726284\n"
     ]
    },
    {
     "name": "stdout",
     "output_type": "stream",
     "text": [
      "The answer is wrong\n"
     ]
    }
   ],
   "source": [
    "import numpy as np\n",
    "a=np.random.randint(1,100)  #Get random numbers to a & b\n",
    "b=np.random.randint(1,100)\n",
    "n=int(input(f\"Enter the product of {a} & {b}:\")) #input the product of a & b\n",
    "if n==(a*b):\n",
    "    print(\"The answer is correct\")   #If input answer same as the actual product, print 'correct'\n",
    "else:\n",
    "    print(\"The answer is wrong\")    #Else, print 'wrong'"
   ]
  },
  {
   "cell_type": "markdown",
   "id": "f7555b58-928c-401d-a078-189ca36f7c4d",
   "metadata": {},
   "source": [
    "## Exercise 3: Squares of Even/Odd Numbers"
   ]
  },
  {
   "cell_type": "code",
   "execution_count": 3,
   "id": "1d93fca9-b010-4fdf-b6b6-ef4bdafb47d0",
   "metadata": {},
   "outputs": [
    {
     "name": "stdin",
     "output_type": "stream",
     "text": [
      "Enter O for Odd squares or Enter E for Even squares: o\n"
     ]
    },
    {
     "name": "stdout",
     "output_type": "stream",
     "text": [
      "[10201, 10609, 11025, 11449, 11881, 12321, 12769, 13225, 13689, 14161, 14641, 15129, 15625, 16129, 16641, 17161, 17689, 18225, 18769, 19321, 19881, 20449, 21025, 21609, 22201, 22801, 23409, 24025, 24649, 25281, 25921, 26569, 27225, 27889, 28561, 29241, 29929, 30625, 31329, 32041, 32761, 33489, 34225, 34969, 35721, 36481, 37249, 38025, 38809, 39601]\n"
     ]
    }
   ],
   "source": [
    "even=[]      #Initialize 2 lists to append the numbers as per users interest\n",
    "odd=[]\n",
    "n=input(\"Enter O for Odd squares or Enter E for Even squares:\")\n",
    "for i in range(100,200):                 #Iterate upto a range from 100 to 200\n",
    "    if i%2==0:                           #If divisible by 2, append the value to list called 'even'\n",
    "        even.append(np.power(i,2))\n",
    "    else:                                #Else, append to list called 'odd'\n",
    "        odd.append(np.power(i,2))\n",
    "if n==\"O\" or n==\"o\":                    #Display according to users interest\n",
    "    print(odd)\n",
    "elif n==\"E\" or n==\"e\":\n",
    "    print(even)\n",
    "    exit\n",
    "else:\n",
    "    print(\"Invalid input\")            #Display ' invalid input ' if the user's input is not E,e,O or o"
   ]
  },
  {
   "cell_type": "markdown",
   "id": "09646604-06e5-47a2-b67c-d3c86abd6b8d",
   "metadata": {},
   "source": [
    "## Exercise 4: Word counter"
   ]
  },
  {
   "cell_type": "code",
   "execution_count": 4,
   "id": "f38b5a36-d998-4f5c-a6d9-a0c9a5a31a35",
   "metadata": {},
   "outputs": [
    {
     "name": "stdin",
     "output_type": "stream",
     "text": [
      "Enter the string: gvghd dfseg rwgfwrg dw dw\n"
     ]
    },
    {
     "name": "stdout",
     "output_type": "stream",
     "text": [
      "'gvghd': 1\n",
      "'dfseg': 1\n",
      "'rwgfwrg': 1\n",
      "'dw': 2\n"
     ]
    }
   ],
   "source": [
    "input_text = input(\"Enter the string:\")  #Input the string from user\n",
    "words = input_text.split()               #Split the sentence based on white space\n",
    "word_count = {word: words.count(word) for word in words}  #Iterate each word to get the count\n",
    "for word, count in word_count.items():\n",
    "    print(f\"'{word}': {count}\")          #Print output in the form of dictionary"
   ]
  },
  {
   "cell_type": "markdown",
   "id": "dc42861d-2451-459c-9f40-88a9f524d82b",
   "metadata": {},
   "source": [
    "## Exercise 5: Check for Palindrome"
   ]
  },
  {
   "cell_type": "code",
   "execution_count": 5,
   "id": "adff6425-de1e-4204-a062-798668e7998d",
   "metadata": {},
   "outputs": [
    {
     "name": "stdin",
     "output_type": "stream",
     "text": [
      "Enter a string c,a.';;'$##c\n"
     ]
    },
    {
     "name": "stdout",
     "output_type": "stream",
     "text": [
      "Palindrome\n"
     ]
    }
   ],
   "source": [
    "n=input(\"Enter a string\") #input the string\n",
    "import re\n",
    "cleanString = re.sub('\\W+','', n ) #Rempove all white spaces and special characters usin sub() of re package\n",
    "w=cleanString[::-1]               #Reverse the new string\n",
    "if w==cleanString:                #print palindrome is clean string same as reversed string\n",
    "    print('Palindrome')\n",
    "else:                            #Else, print not palindrome\n",
    "    print(\"Not Palindrome\")"
   ]
  },
  {
   "cell_type": "code",
   "execution_count": null,
   "id": "070d4f1c-3d61-40aa-bc80-dd5ec7d5a0ea",
   "metadata": {},
   "outputs": [],
   "source": []
  }
 ],
 "metadata": {
  "kernelspec": {
   "display_name": "Python 3 (ipykernel)",
   "language": "python",
   "name": "python3"
  },
  "language_info": {
   "codemirror_mode": {
    "name": "ipython",
    "version": 3
   },
   "file_extension": ".py",
   "mimetype": "text/x-python",
   "name": "python",
   "nbconvert_exporter": "python",
   "pygments_lexer": "ipython3",
   "version": "3.11.7"
  }
 },
 "nbformat": 4,
 "nbformat_minor": 5
}
