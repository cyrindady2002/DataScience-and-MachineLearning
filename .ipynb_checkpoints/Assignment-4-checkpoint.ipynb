{
 "cells": [
  {
   "cell_type": "markdown",
   "id": "446dec90-ab0a-42f2-ac70-8e615fdde3e4",
   "metadata": {},
   "source": [
    "## Chi-Square Testing"
   ]
  },
  {
   "cell_type": "code",
   "execution_count": 1,
   "id": "52486ad8-0637-4f01-b17a-7e7554f24f27",
   "metadata": {},
   "outputs": [],
   "source": [
    "import scipy.stats as stats\n",
    "import numpy as np"
   ]
  },
  {
   "cell_type": "code",
   "execution_count": 2,
   "id": "39f9065c-1c6b-4d22-8d4f-ab2797e604f2",
   "metadata": {},
   "outputs": [],
   "source": [
    "## Ho: there's no significant association between the type of smart home device purchased and the customer satisfaction level.\n",
    "## Ha: there's a significant association between the type of smart home device purchased and the customer satisfaction level."
   ]
  },
  {
   "cell_type": "code",
   "execution_count": 3,
   "id": "1662d257-c3b2-4bd9-b7a3-20e8e59b74ae",
   "metadata": {},
   "outputs": [],
   "source": [
    "Smart_thermostat=[50,80,60,30,20]\n",
    "Smart_light=[70,100,90,50,50]"
   ]
  },
  {
   "cell_type": "code",
   "execution_count": 4,
   "id": "88309e9f-876f-4176-8713-a393b6362c9e",
   "metadata": {},
   "outputs": [],
   "source": [
    "Smart_thermostat = np.array(Smart_thermostat)\n",
    "Smart_light = np.array(Smart_light)\n",
    "Smart_light_adjusted = Smart_light * (Smart_thermostat.sum() / Smart_light.sum())\n",
    "## As we can see the sum of thermostat and light readings are different, so we have to bring the sum of one to the required level.\n",
    "## So I selected the reading of light.\n",
    "## To perform this first we have to convert list to array.\n",
    "## We used this data to perform chi-square testing."
   ]
  },
  {
   "cell_type": "code",
   "execution_count": 5,
   "id": "a7e61ea3-9e75-465c-b43e-9f7459ec282d",
   "metadata": {},
   "outputs": [
    {
     "data": {
      "text/plain": [
       "Power_divergenceResult(statistic=8.571428571428573, pvalue=0.07275144416040923)"
      ]
     },
     "execution_count": 5,
     "metadata": {},
     "output_type": "execute_result"
    }
   ],
   "source": [
    "chi_stat=stats.chisquare(Smart_thermostat,Smart_light_adjusted)\n",
    "chi_stat"
   ]
  },
  {
   "cell_type": "code",
   "execution_count": 6,
   "id": "2afef538-c452-4dd1-bbfa-85d4401a0b91",
   "metadata": {},
   "outputs": [
    {
     "data": {
      "text/plain": [
       "9.487729036781154"
      ]
     },
     "execution_count": 6,
     "metadata": {},
     "output_type": "execute_result"
    }
   ],
   "source": [
    "chi_critical=stats.chi2.ppf(.95,4)\n",
    "chi_critical"
   ]
  },
  {
   "cell_type": "code",
   "execution_count": 8,
   "id": "ae722701-36fb-4f51-bb75-595314b2680f",
   "metadata": {},
   "outputs": [],
   "source": [
    "## chi_stats<chi_critical: Fail to reject Ho"
   ]
  },
  {
   "cell_type": "code",
   "execution_count": null,
   "id": "6a8f2b3e-acef-483e-a3ee-9fe04b452c3b",
   "metadata": {},
   "outputs": [],
   "source": []
  }
 ],
 "metadata": {
  "kernelspec": {
   "display_name": "Python 3 (ipykernel)",
   "language": "python",
   "name": "python3"
  },
  "language_info": {
   "codemirror_mode": {
    "name": "ipython",
    "version": 3
   },
   "file_extension": ".py",
   "mimetype": "text/x-python",
   "name": "python",
   "nbconvert_exporter": "python",
   "pygments_lexer": "ipython3",
   "version": "3.11.7"
  }
 },
 "nbformat": 4,
 "nbformat_minor": 5
}
