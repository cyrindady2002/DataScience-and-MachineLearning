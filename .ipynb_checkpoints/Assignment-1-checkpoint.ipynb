{
 "cells": [
  {
   "cell_type": "markdown",
   "id": "4f53172e-e29b-4bdf-8193-f89d0641dd30",
   "metadata": {},
   "source": [
    "## Prime or not\n"
   ]
  },
  {
   "cell_type": "code",
   "execution_count": 1,
   "id": "41c8de88-b124-44d2-acac-899bf34a9cbf",
   "metadata": {},
   "outputs": [
    {
     "name": "stdin",
     "output_type": "stream",
     "text": [
      "Enter the number:  4\n"
     ]
    },
    {
     "name": "stdout",
     "output_type": "stream",
     "text": [
      "Not Prime\n"
     ]
    }
   ],
   "source": [
    "n=int(input(\"Enter the number: \"))\n",
    "if n>1:\n",
    "    for i in range (2,(n//2)+1):\n",
    "        if n%i==0:\n",
    "            print(\"Not Prime\")\n",
    "            break\n",
    "        else:\n",
    "            print(\"Is prime\")\n",
    "else:\n",
    "    print(\"Not prime\")\n",
    "    "
   ]
  },
  {
   "cell_type": "markdown",
   "id": "e60babe5-d361-49de-9021-9f07a1978265",
   "metadata": {},
   "source": [
    "## Random number product"
   ]
  },
  {
   "cell_type": "code",
   "execution_count": 2,
   "id": "87a63944-5611-4fe5-b586-e5ae82a605aa",
   "metadata": {},
   "outputs": [
    {
     "name": "stdin",
     "output_type": "stream",
     "text": [
      "Enter the product of 74 & 84: 679\n"
     ]
    },
    {
     "name": "stdout",
     "output_type": "stream",
     "text": [
      "The answer is wrong\n"
     ]
    }
   ],
   "source": [
    "import numpy as np\n",
    "a=np.random.randint(1,100)\n",
    "b=np.random.randint(1,100)\n",
    "n=int(input(f\"Enter the product of {a} & {b}:\"))\n",
    "if n==(a*b):\n",
    "    print(\"The answer is correct\")\n",
    "else:\n",
    "    print(\"The answer is wrong\")"
   ]
  },
  {
   "cell_type": "markdown",
   "id": "f7555b58-928c-401d-a078-189ca36f7c4d",
   "metadata": {},
   "source": [
    "## Even and odd squares"
   ]
  },
  {
   "cell_type": "code",
   "execution_count": 11,
   "id": "1d93fca9-b010-4fdf-b6b6-ef4bdafb47d0",
   "metadata": {},
   "outputs": [
    {
     "name": "stdin",
     "output_type": "stream",
     "text": [
      "Enter O for Odd squares or Enter E for Even squares: q\n"
     ]
    },
    {
     "name": "stdout",
     "output_type": "stream",
     "text": [
      "Invalid input\n"
     ]
    }
   ],
   "source": [
    "even=[]\n",
    "odd=[]\n",
    "n=input(\"Enter O for Odd squares or Enter E for Even squares:\")\n",
    "for i in range(100,200):\n",
    "    if i%2==0:\n",
    "        even.append(np.power(i,2))\n",
    "    else:\n",
    "        odd.append(np.power(i,2))\n",
    "if n==\"O\" or n==\"o\":\n",
    "    print(odd)\n",
    "elif n==\"E\" or n==\"e\":\n",
    "    print(even)\n",
    "    exit\n",
    "else:\n",
    "    print(\"Invalid input\")"
   ]
  },
  {
   "cell_type": "markdown",
   "id": "09646604-06e5-47a2-b67c-d3c86abd6b8d",
   "metadata": {},
   "source": [
    "## Word counter"
   ]
  },
  {
   "cell_type": "code",
   "execution_count": 16,
   "id": "f38b5a36-d998-4f5c-a6d9-a0c9a5a31a35",
   "metadata": {},
   "outputs": [
    {
     "name": "stdin",
     "output_type": "stream",
     "text": [
      "Enter the string: Hello saramoo this is ponnu\n"
     ]
    },
    {
     "data": {
      "text/plain": [
       "['Hello', 'saramoo', 'this', 'is', 'ponnu']"
      ]
     },
     "execution_count": 16,
     "metadata": {},
     "output_type": "execute_result"
    }
   ],
   "source": [
    "n=input(\"Enter the string:\")\n",
    "w=n.split(\" \")\n",
    "w"
   ]
  },
  {
   "cell_type": "markdown",
   "id": "dc42861d-2451-459c-9f40-88a9f524d82b",
   "metadata": {},
   "source": [
    "## Palindrome or not"
   ]
  },
  {
   "cell_type": "code",
   "execution_count": 15,
   "id": "adff6425-de1e-4204-a062-798668e7998d",
   "metadata": {},
   "outputs": [
    {
     "name": "stdin",
     "output_type": "stream",
     "text": [
      "Enter a string level\n"
     ]
    },
    {
     "name": "stdout",
     "output_type": "stream",
     "text": [
      "Palindrome\n"
     ]
    }
   ],
   "source": [
    "n=input(\"Enter a string\")\n",
    "w=n[::-1]\n",
    "if w==n:\n",
    "    print('Palindrome')\n",
    "else:\n",
    "    print(\"Not Palindrome\")"
   ]
  }
 ],
 "metadata": {
  "kernelspec": {
   "display_name": "Python 3 (ipykernel)",
   "language": "python",
   "name": "python3"
  },
  "language_info": {
   "codemirror_mode": {
    "name": "ipython",
    "version": 3
   },
   "file_extension": ".py",
   "mimetype": "text/x-python",
   "name": "python",
   "nbconvert_exporter": "python",
   "pygments_lexer": "ipython3",
   "version": "3.11.7"
  }
 },
 "nbformat": 4,
 "nbformat_minor": 5
}
