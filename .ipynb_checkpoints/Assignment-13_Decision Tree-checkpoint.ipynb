{
 "cells": [
  {
   "cell_type": "code",
   "execution_count": 1,
   "id": "29808099-d6ac-4a7e-8832-3f99bda2657a",
   "metadata": {},
   "outputs": [],
   "source": [
    "##The objective of this assignment is to apply Decision Tree Classification to a given dataset, analyse the performance of the model, and interpret the results."
   ]
  },
  {
   "cell_type": "code",
   "execution_count": 2,
   "id": "5c65ffdd-1235-417f-b0b4-5c7bfaf800cb",
   "metadata": {},
   "outputs": [],
   "source": [
    "#Data Preparation\n",
    "import pandas as pd\n",
    "import numpy as np\n",
    "import matplotlib.pyplot as plt\n",
    "import seaborn as sns\n",
    "from sklearn.tree import DecisionTreeClassifier,plot_tree\n",
    "from sklearn.model_selection import train_test_split,GridSearchCV\n",
    "from sklearn.metrics import accuracy_score, precision_score, recall_score, f1_score"
   ]
  },
  {
   "cell_type": "code",
   "execution_count": 3,
   "id": "d15ae5ad-a2d6-49fd-8798-8b6a578c7065",
   "metadata": {},
   "outputs": [],
   "source": [
    "import warnings\n",
    "warnings.filterwarnings('ignore')"
   ]
  },
  {
   "cell_type": "code",
   "execution_count": 4,
   "id": "491d1f80-f6db-478e-aac5-a387da965f64",
   "metadata": {},
   "outputs": [],
   "source": [
    "#read the dataset\n",
    "df= pd.read_excel('heart_disease.xlsx',sheet_name='Heart_disease')"
   ]
  },
  {
   "cell_type": "code",
   "execution_count": 5,
   "id": "0c955c3e-19dd-408b-907f-72b6e9628572",
   "metadata": {},
   "outputs": [
    {
     "data": {
      "text/html": [
       "<div>\n",
       "<style scoped>\n",
       "    .dataframe tbody tr th:only-of-type {\n",
       "        vertical-align: middle;\n",
       "    }\n",
       "\n",
       "    .dataframe tbody tr th {\n",
       "        vertical-align: top;\n",
       "    }\n",
       "\n",
       "    .dataframe thead th {\n",
       "        text-align: right;\n",
       "    }\n",
       "</style>\n",
       "<table border=\"1\" class=\"dataframe\">\n",
       "  <thead>\n",
       "    <tr style=\"text-align: right;\">\n",
       "      <th></th>\n",
       "      <th>age</th>\n",
       "      <th>sex</th>\n",
       "      <th>cp</th>\n",
       "      <th>trestbps</th>\n",
       "      <th>chol</th>\n",
       "      <th>fbs</th>\n",
       "      <th>restecg</th>\n",
       "      <th>thalch</th>\n",
       "      <th>exang</th>\n",
       "      <th>oldpeak</th>\n",
       "      <th>slope</th>\n",
       "      <th>thal</th>\n",
       "      <th>num</th>\n",
       "    </tr>\n",
       "  </thead>\n",
       "  <tbody>\n",
       "    <tr>\n",
       "      <th>0</th>\n",
       "      <td>63</td>\n",
       "      <td>Male</td>\n",
       "      <td>typical angina</td>\n",
       "      <td>145</td>\n",
       "      <td>233</td>\n",
       "      <td>True</td>\n",
       "      <td>lv hypertrophy</td>\n",
       "      <td>150</td>\n",
       "      <td>False</td>\n",
       "      <td>2.3</td>\n",
       "      <td>downsloping</td>\n",
       "      <td>fixed defect</td>\n",
       "      <td>0</td>\n",
       "    </tr>\n",
       "    <tr>\n",
       "      <th>1</th>\n",
       "      <td>41</td>\n",
       "      <td>Male</td>\n",
       "      <td>atypical angina</td>\n",
       "      <td>135</td>\n",
       "      <td>203</td>\n",
       "      <td>False</td>\n",
       "      <td>normal</td>\n",
       "      <td>132</td>\n",
       "      <td>False</td>\n",
       "      <td>0.0</td>\n",
       "      <td>flat</td>\n",
       "      <td>fixed defect</td>\n",
       "      <td>0</td>\n",
       "    </tr>\n",
       "    <tr>\n",
       "      <th>2</th>\n",
       "      <td>57</td>\n",
       "      <td>Male</td>\n",
       "      <td>asymptomatic</td>\n",
       "      <td>140</td>\n",
       "      <td>192</td>\n",
       "      <td>False</td>\n",
       "      <td>normal</td>\n",
       "      <td>148</td>\n",
       "      <td>False</td>\n",
       "      <td>0.4</td>\n",
       "      <td>flat</td>\n",
       "      <td>fixed defect</td>\n",
       "      <td>0</td>\n",
       "    </tr>\n",
       "    <tr>\n",
       "      <th>3</th>\n",
       "      <td>52</td>\n",
       "      <td>Male</td>\n",
       "      <td>typical angina</td>\n",
       "      <td>118</td>\n",
       "      <td>186</td>\n",
       "      <td>False</td>\n",
       "      <td>lv hypertrophy</td>\n",
       "      <td>190</td>\n",
       "      <td>False</td>\n",
       "      <td>0.0</td>\n",
       "      <td>flat</td>\n",
       "      <td>fixed defect</td>\n",
       "      <td>0</td>\n",
       "    </tr>\n",
       "    <tr>\n",
       "      <th>4</th>\n",
       "      <td>57</td>\n",
       "      <td>Male</td>\n",
       "      <td>asymptomatic</td>\n",
       "      <td>110</td>\n",
       "      <td>201</td>\n",
       "      <td>False</td>\n",
       "      <td>normal</td>\n",
       "      <td>126</td>\n",
       "      <td>True</td>\n",
       "      <td>1.5</td>\n",
       "      <td>flat</td>\n",
       "      <td>fixed defect</td>\n",
       "      <td>0</td>\n",
       "    </tr>\n",
       "  </tbody>\n",
       "</table>\n",
       "</div>"
      ],
      "text/plain": [
       "   age   sex               cp  trestbps  chol    fbs         restecg  thalch  \\\n",
       "0   63  Male   typical angina       145   233   True  lv hypertrophy     150   \n",
       "1   41  Male  atypical angina       135   203  False          normal     132   \n",
       "2   57  Male     asymptomatic       140   192  False          normal     148   \n",
       "3   52  Male   typical angina       118   186  False  lv hypertrophy     190   \n",
       "4   57  Male     asymptomatic       110   201  False          normal     126   \n",
       "\n",
       "   exang  oldpeak        slope          thal  num  \n",
       "0  False      2.3  downsloping  fixed defect    0  \n",
       "1  False      0.0         flat  fixed defect    0  \n",
       "2  False      0.4         flat  fixed defect    0  \n",
       "3  False      0.0         flat  fixed defect    0  \n",
       "4   True      1.5         flat  fixed defect    0  "
      ]
     },
     "execution_count": 5,
     "metadata": {},
     "output_type": "execute_result"
    }
   ],
   "source": [
    "df.head()"
   ]
  },
  {
   "cell_type": "code",
   "execution_count": 6,
   "id": "b4ad7999-3405-481b-9d34-0da2d4063cf8",
   "metadata": {},
   "outputs": [],
   "source": [
    "df.fillna(df.median(),inplace=True)"
   ]
  },
  {
   "cell_type": "code",
   "execution_count": 7,
   "id": "ffde70f8-b1ad-4512-ac38-421bb0598ecd",
   "metadata": {},
   "outputs": [
    {
     "data": {
      "text/plain": [
       "(908, 13)"
      ]
     },
     "execution_count": 7,
     "metadata": {},
     "output_type": "execute_result"
    }
   ],
   "source": [
    "df.shape"
   ]
  },
  {
   "cell_type": "code",
   "execution_count": 8,
   "id": "ad755b5a-6882-4fe3-8914-2ee0e71be26d",
   "metadata": {},
   "outputs": [
    {
     "data": {
      "text/plain": [
       "Index(['age', 'sex', 'cp', 'trestbps', 'chol', 'fbs', 'restecg', 'thalch',\n",
       "       'exang', 'oldpeak', 'slope', 'thal', 'num'],\n",
       "      dtype='object')"
      ]
     },
     "execution_count": 8,
     "metadata": {},
     "output_type": "execute_result"
    }
   ],
   "source": [
    "df.columns"
   ]
  },
  {
   "cell_type": "code",
   "execution_count": 9,
   "id": "d4e56049-b054-4879-8e13-1412e38e8a17",
   "metadata": {},
   "outputs": [
    {
     "data": {
      "text/plain": [
       "age           int64\n",
       "sex          object\n",
       "cp           object\n",
       "trestbps      int64\n",
       "chol          int64\n",
       "fbs            bool\n",
       "restecg      object\n",
       "thalch        int64\n",
       "exang        object\n",
       "oldpeak     float64\n",
       "slope        object\n",
       "thal         object\n",
       "num           int64\n",
       "dtype: object"
      ]
     },
     "execution_count": 9,
     "metadata": {},
     "output_type": "execute_result"
    }
   ],
   "source": [
    "df.dtypes"
   ]
  },
  {
   "cell_type": "code",
   "execution_count": 12,
   "id": "265051f9-3545-49a9-9c58-52b87f5b69d2",
   "metadata": {},
   "outputs": [],
   "source": [
    "# Correct common typos and convert strings to booleans\n",
    "df['fbs'] = df['fbs'].replace({'FALSE': False, 'TRUE': True, 'TURE': True}).astype(int)\n",
    "df['exang'] = df['exang'].replace({'FALSE': False, 'TRUE': True, 'TURE': True}).astype(int)"
   ]
  },
  {
   "cell_type": "code",
   "execution_count": 13,
   "id": "65c16a14-6647-43dc-8e01-19e2ede2f7c4",
   "metadata": {},
   "outputs": [
    {
     "data": {
      "text/plain": [
       "age           int64\n",
       "sex          object\n",
       "cp           object\n",
       "trestbps      int64\n",
       "chol          int64\n",
       "fbs           int32\n",
       "restecg      object\n",
       "thalch        int64\n",
       "exang         int32\n",
       "oldpeak     float64\n",
       "slope        object\n",
       "thal         object\n",
       "num           int64\n",
       "dtype: object"
      ]
     },
     "execution_count": 13,
     "metadata": {},
     "output_type": "execute_result"
    }
   ],
   "source": [
    "df.dtypes"
   ]
  },
  {
   "cell_type": "code",
   "execution_count": 14,
   "id": "43997220-665f-4b2d-b4b9-ff00de90b2dc",
   "metadata": {},
   "outputs": [],
   "source": [
    "target=df[['restecg']]\n",
    "features=df.drop(columns='restecg')"
   ]
  },
  {
   "cell_type": "code",
   "execution_count": 15,
   "id": "99f0208a-b453-4b12-8ca9-872a32651546",
   "metadata": {},
   "outputs": [
    {
     "data": {
      "text/plain": [
       "restecg         \n",
       "normal              542\n",
       "lv hypertrophy      187\n",
       "st-t abnormality    179\n",
       "dtype: int64"
      ]
     },
     "execution_count": 15,
     "metadata": {},
     "output_type": "execute_result"
    }
   ],
   "source": [
    "target.value_counts()"
   ]
  },
  {
   "cell_type": "code",
   "execution_count": 16,
   "id": "4d385040-e662-42b1-8955-b12fc1e4433b",
   "metadata": {},
   "outputs": [
    {
     "data": {
      "text/plain": [
       "(908, 12)"
      ]
     },
     "execution_count": 16,
     "metadata": {},
     "output_type": "execute_result"
    }
   ],
   "source": [
    "features.shape"
   ]
  },
  {
   "cell_type": "code",
   "execution_count": 17,
   "id": "99c5eaa5-5cff-4deb-9316-1367103ff563",
   "metadata": {},
   "outputs": [
    {
     "data": {
      "text/plain": [
       "age         0\n",
       "sex         0\n",
       "cp          0\n",
       "trestbps    0\n",
       "chol        0\n",
       "fbs         0\n",
       "thalch      0\n",
       "exang       0\n",
       "oldpeak     0\n",
       "slope       0\n",
       "thal        0\n",
       "num         0\n",
       "dtype: int64"
      ]
     },
     "execution_count": 17,
     "metadata": {},
     "output_type": "execute_result"
    }
   ],
   "source": [
    "# Check for missing values\n",
    "features.isnull().sum()"
   ]
  },
  {
   "cell_type": "code",
   "execution_count": 18,
   "id": "03893ac5-51bc-4d32-b9d1-0b7942f8a625",
   "metadata": {},
   "outputs": [
    {
     "data": {
      "image/png": "[encoded data removed]",
      "text/plain": [
       "<Figure size 1000x1000 with 9 Axes>"
      ]
     },
     "metadata": {},
     "output_type": "display_data"
    }
   ],
   "source": [
    "# Visualize distributions of numerical features\n",
    "df.hist(bins=20, figsize=(10, 10))\n",
    "plt.show()"
   ]
  },
  {
   "cell_type": "code",
   "execution_count": 19,
   "id": "1f4a4f00-b6e4-4ee4-97c4-6517ada98d3b",
   "metadata": {},
   "outputs": [
    {
     "data": {
      "text/plain": [
       "age           int64\n",
       "sex          object\n",
       "cp           object\n",
       "trestbps      int64\n",
       "chol          int64\n",
       "fbs           int32\n",
       "restecg      object\n",
       "thalch        int64\n",
       "exang         int32\n",
       "oldpeak     float64\n",
       "slope        object\n",
       "thal         object\n",
       "num           int64\n",
       "dtype: object"
      ]
     },
     "execution_count": 19,
     "metadata": {},
     "output_type": "execute_result"
    }
   ],
   "source": [
    "df.dtypes"
   ]
  },
  {
   "cell_type": "code",
   "execution_count": 20,
   "id": "31abc5ad-6773-46b6-ace8-7eb296cb4ea0",
   "metadata": {},
   "outputs": [],
   "source": [
    "cat_col = [i for i in features.columns if features[i].dtype=='O']\n",
    "df[cat_col] = df[cat_col].astype(str)\n"
   ]
  },
  {
   "cell_type": "code",
   "execution_count": 21,
   "id": "2c6ea329-6cc5-4a29-bc1c-395173df96fe",
   "metadata": {},
   "outputs": [
    {
     "data": {
      "text/plain": [
       "['age', 'trestbps', 'chol', 'fbs', 'thalch', 'exang', 'oldpeak', 'num']"
      ]
     },
     "execution_count": 21,
     "metadata": {},
     "output_type": "execute_result"
    }
   ],
   "source": [
    "num_col = [i for i in features.columns if features[i].dtype!='O']\n",
    "num_col"
   ]
  },
  {
   "cell_type": "code",
   "execution_count": 22,
   "id": "54d12dd7-17be-4288-bd10-e45c8869cbc4",
   "metadata": {},
   "outputs": [
    {
     "data": {
      "text/plain": [
       "age           int64\n",
       "trestbps      int64\n",
       "chol          int64\n",
       "fbs           int32\n",
       "thalch        int64\n",
       "exang         int32\n",
       "oldpeak     float64\n",
       "num           int64\n",
       "dtype: object"
      ]
     },
     "execution_count": 22,
     "metadata": {},
     "output_type": "execute_result"
    }
   ],
   "source": [
    "df[num_col].dtypes"
   ]
  },
  {
   "cell_type": "code",
   "execution_count": 23,
   "id": "a3d4f149-eb6a-441e-8b76-6be4605b1b58",
   "metadata": {},
   "outputs": [
    {
     "data": {
      "image/png": "[encoded data removed]",
      "text/plain": [
       "<Figure size 1000x600 with 2 Axes>"
      ]
     },
     "metadata": {},
     "output_type": "display_data"
    }
   ],
   "source": [
    "# Check correlations\n",
    "plt.figure(figsize=(10, 6))\n",
    "sns.heatmap(df[num_col].corr(), annot=True, cmap='coolwarm')\n",
    "plt.show()"
   ]
  },
  {
   "cell_type": "code",
   "execution_count": 24,
   "id": "4276869a-e422-43e7-aeac-0fda51615b01",
   "metadata": {},
   "outputs": [
    {
     "data": {
      "text/html": [
       "<div>\n",
       "<style scoped>\n",
       "    .dataframe tbody tr th:only-of-type {\n",
       "        vertical-align: middle;\n",
       "    }\n",
       "\n",
       "    .dataframe tbody tr th {\n",
       "        vertical-align: top;\n",
       "    }\n",
       "\n",
       "    .dataframe thead th {\n",
       "        text-align: right;\n",
       "    }\n",
       "</style>\n",
       "<table border=\"1\" class=\"dataframe\">\n",
       "  <thead>\n",
       "    <tr style=\"text-align: right;\">\n",
       "      <th></th>\n",
       "      <th>sex</th>\n",
       "      <th>cp</th>\n",
       "      <th>slope</th>\n",
       "      <th>thal</th>\n",
       "    </tr>\n",
       "  </thead>\n",
       "  <tbody>\n",
       "    <tr>\n",
       "      <th>0</th>\n",
       "      <td>Male</td>\n",
       "      <td>typical angina</td>\n",
       "      <td>downsloping</td>\n",
       "      <td>fixed defect</td>\n",
       "    </tr>\n",
       "    <tr>\n",
       "      <th>1</th>\n",
       "      <td>Male</td>\n",
       "      <td>atypical angina</td>\n",
       "      <td>flat</td>\n",
       "      <td>fixed defect</td>\n",
       "    </tr>\n",
       "    <tr>\n",
       "      <th>2</th>\n",
       "      <td>Male</td>\n",
       "      <td>asymptomatic</td>\n",
       "      <td>flat</td>\n",
       "      <td>fixed defect</td>\n",
       "    </tr>\n",
       "    <tr>\n",
       "      <th>3</th>\n",
       "      <td>Male</td>\n",
       "      <td>typical angina</td>\n",
       "      <td>flat</td>\n",
       "      <td>fixed defect</td>\n",
       "    </tr>\n",
       "    <tr>\n",
       "      <th>4</th>\n",
       "      <td>Male</td>\n",
       "      <td>asymptomatic</td>\n",
       "      <td>flat</td>\n",
       "      <td>fixed defect</td>\n",
       "    </tr>\n",
       "    <tr>\n",
       "      <th>...</th>\n",
       "      <td>...</td>\n",
       "      <td>...</td>\n",
       "      <td>...</td>\n",
       "      <td>...</td>\n",
       "    </tr>\n",
       "    <tr>\n",
       "      <th>903</th>\n",
       "      <td>Male</td>\n",
       "      <td>asymptomatic</td>\n",
       "      <td>upsloping</td>\n",
       "      <td>reversable defect</td>\n",
       "    </tr>\n",
       "    <tr>\n",
       "      <th>904</th>\n",
       "      <td>Male</td>\n",
       "      <td>asymptomatic</td>\n",
       "      <td>flat</td>\n",
       "      <td>reversable defect</td>\n",
       "    </tr>\n",
       "    <tr>\n",
       "      <th>905</th>\n",
       "      <td>Male</td>\n",
       "      <td>non-anginal</td>\n",
       "      <td>downsloping</td>\n",
       "      <td>normal</td>\n",
       "    </tr>\n",
       "    <tr>\n",
       "      <th>906</th>\n",
       "      <td>Male</td>\n",
       "      <td>non-anginal</td>\n",
       "      <td>downsloping</td>\n",
       "      <td>fixed defect</td>\n",
       "    </tr>\n",
       "    <tr>\n",
       "      <th>907</th>\n",
       "      <td>Male</td>\n",
       "      <td>asymptomatic</td>\n",
       "      <td>flat</td>\n",
       "      <td>reversable defect</td>\n",
       "    </tr>\n",
       "  </tbody>\n",
       "</table>\n",
       "<p>908 rows × 4 columns</p>\n",
       "</div>"
      ],
      "text/plain": [
       "      sex               cp        slope               thal\n",
       "0    Male   typical angina  downsloping       fixed defect\n",
       "1    Male  atypical angina         flat       fixed defect\n",
       "2    Male     asymptomatic         flat       fixed defect\n",
       "3    Male   typical angina         flat       fixed defect\n",
       "4    Male     asymptomatic         flat       fixed defect\n",
       "..    ...              ...          ...                ...\n",
       "903  Male     asymptomatic    upsloping  reversable defect\n",
       "904  Male     asymptomatic         flat  reversable defect\n",
       "905  Male      non-anginal  downsloping             normal\n",
       "906  Male      non-anginal  downsloping       fixed defect\n",
       "907  Male     asymptomatic         flat  reversable defect\n",
       "\n",
       "[908 rows x 4 columns]"
      ]
     },
     "execution_count": 24,
     "metadata": {},
     "output_type": "execute_result"
    }
   ],
   "source": [
    "features[cat_col]"
   ]
  },
  {
   "cell_type": "code",
   "execution_count": 25,
   "id": "3aca7287-24ae-41ae-87a4-ca27d736ceab",
   "metadata": {},
   "outputs": [
    {
     "data": {
      "text/plain": [
       "age           int64\n",
       "sex          object\n",
       "cp           object\n",
       "trestbps      int64\n",
       "chol          int64\n",
       "fbs           int32\n",
       "restecg      object\n",
       "thalch        int64\n",
       "exang         int32\n",
       "oldpeak     float64\n",
       "slope        object\n",
       "thal         object\n",
       "num           int64\n",
       "dtype: object"
      ]
     },
     "execution_count": 25,
     "metadata": {},
     "output_type": "execute_result"
    }
   ],
   "source": [
    "df.dtypes"
   ]
  },
  {
   "cell_type": "code",
   "execution_count": 26,
   "id": "dc5164c2-97d5-46d4-9a2e-0edc32dbbe26",
   "metadata": {},
   "outputs": [
    {
     "data": {
      "text/html": [
       "<div>\n",
       "<style scoped>\n",
       "    .dataframe tbody tr th:only-of-type {\n",
       "        vertical-align: middle;\n",
       "    }\n",
       "\n",
       "    .dataframe tbody tr th {\n",
       "        vertical-align: top;\n",
       "    }\n",
       "\n",
       "    .dataframe thead th {\n",
       "        text-align: right;\n",
       "    }\n",
       "</style>\n",
       "<table border=\"1\" class=\"dataframe\">\n",
       "  <thead>\n",
       "    <tr style=\"text-align: right;\">\n",
       "      <th></th>\n",
       "      <th>age</th>\n",
       "      <th>trestbps</th>\n",
       "      <th>chol</th>\n",
       "      <th>fbs</th>\n",
       "      <th>thalch</th>\n",
       "      <th>exang</th>\n",
       "      <th>oldpeak</th>\n",
       "      <th>num</th>\n",
       "    </tr>\n",
       "  </thead>\n",
       "  <tbody>\n",
       "    <tr>\n",
       "      <th>0</th>\n",
       "      <td>63</td>\n",
       "      <td>145</td>\n",
       "      <td>233</td>\n",
       "      <td>1</td>\n",
       "      <td>150</td>\n",
       "      <td>0</td>\n",
       "      <td>2.3</td>\n",
       "      <td>0</td>\n",
       "    </tr>\n",
       "    <tr>\n",
       "      <th>1</th>\n",
       "      <td>41</td>\n",
       "      <td>135</td>\n",
       "      <td>203</td>\n",
       "      <td>0</td>\n",
       "      <td>132</td>\n",
       "      <td>0</td>\n",
       "      <td>0.0</td>\n",
       "      <td>0</td>\n",
       "    </tr>\n",
       "    <tr>\n",
       "      <th>2</th>\n",
       "      <td>57</td>\n",
       "      <td>140</td>\n",
       "      <td>192</td>\n",
       "      <td>0</td>\n",
       "      <td>148</td>\n",
       "      <td>0</td>\n",
       "      <td>0.4</td>\n",
       "      <td>0</td>\n",
       "    </tr>\n",
       "    <tr>\n",
       "      <th>3</th>\n",
       "      <td>52</td>\n",
       "      <td>118</td>\n",
       "      <td>186</td>\n",
       "      <td>0</td>\n",
       "      <td>190</td>\n",
       "      <td>0</td>\n",
       "      <td>0.0</td>\n",
       "      <td>0</td>\n",
       "    </tr>\n",
       "    <tr>\n",
       "      <th>4</th>\n",
       "      <td>57</td>\n",
       "      <td>110</td>\n",
       "      <td>201</td>\n",
       "      <td>0</td>\n",
       "      <td>126</td>\n",
       "      <td>1</td>\n",
       "      <td>1.5</td>\n",
       "      <td>0</td>\n",
       "    </tr>\n",
       "    <tr>\n",
       "      <th>...</th>\n",
       "      <td>...</td>\n",
       "      <td>...</td>\n",
       "      <td>...</td>\n",
       "      <td>...</td>\n",
       "      <td>...</td>\n",
       "      <td>...</td>\n",
       "      <td>...</td>\n",
       "      <td>...</td>\n",
       "    </tr>\n",
       "    <tr>\n",
       "      <th>903</th>\n",
       "      <td>53</td>\n",
       "      <td>125</td>\n",
       "      <td>0</td>\n",
       "      <td>0</td>\n",
       "      <td>120</td>\n",
       "      <td>0</td>\n",
       "      <td>1.5</td>\n",
       "      <td>4</td>\n",
       "    </tr>\n",
       "    <tr>\n",
       "      <th>904</th>\n",
       "      <td>62</td>\n",
       "      <td>166</td>\n",
       "      <td>170</td>\n",
       "      <td>0</td>\n",
       "      <td>120</td>\n",
       "      <td>1</td>\n",
       "      <td>3.0</td>\n",
       "      <td>4</td>\n",
       "    </tr>\n",
       "    <tr>\n",
       "      <th>905</th>\n",
       "      <td>56</td>\n",
       "      <td>170</td>\n",
       "      <td>0</td>\n",
       "      <td>0</td>\n",
       "      <td>123</td>\n",
       "      <td>1</td>\n",
       "      <td>2.5</td>\n",
       "      <td>4</td>\n",
       "    </tr>\n",
       "    <tr>\n",
       "      <th>906</th>\n",
       "      <td>56</td>\n",
       "      <td>144</td>\n",
       "      <td>208</td>\n",
       "      <td>1</td>\n",
       "      <td>105</td>\n",
       "      <td>1</td>\n",
       "      <td>0.5</td>\n",
       "      <td>4</td>\n",
       "    </tr>\n",
       "    <tr>\n",
       "      <th>907</th>\n",
       "      <td>57</td>\n",
       "      <td>142</td>\n",
       "      <td>277</td>\n",
       "      <td>1</td>\n",
       "      <td>182</td>\n",
       "      <td>0</td>\n",
       "      <td>0.5</td>\n",
       "      <td>4</td>\n",
       "    </tr>\n",
       "  </tbody>\n",
       "</table>\n",
       "<p>908 rows × 8 columns</p>\n",
       "</div>"
      ],
      "text/plain": [
       "     age  trestbps  chol  fbs  thalch  exang  oldpeak  num\n",
       "0     63       145   233    1     150      0      2.3    0\n",
       "1     41       135   203    0     132      0      0.0    0\n",
       "2     57       140   192    0     148      0      0.4    0\n",
       "3     52       118   186    0     190      0      0.0    0\n",
       "4     57       110   201    0     126      1      1.5    0\n",
       "..   ...       ...   ...  ...     ...    ...      ...  ...\n",
       "903   53       125     0    0     120      0      1.5    4\n",
       "904   62       166   170    0     120      1      3.0    4\n",
       "905   56       170     0    0     123      1      2.5    4\n",
       "906   56       144   208    1     105      1      0.5    4\n",
       "907   57       142   277    1     182      0      0.5    4\n",
       "\n",
       "[908 rows x 8 columns]"
      ]
     },
     "execution_count": 26,
     "metadata": {},
     "output_type": "execute_result"
    }
   ],
   "source": [
    "features[num_col]"
   ]
  },
  {
   "cell_type": "code",
   "execution_count": 27,
   "id": "7db0b214-ebf9-49e8-8628-407f6852ab70",
   "metadata": {},
   "outputs": [],
   "source": [
    "from sklearn.preprocessing import OrdinalEncoder,StandardScaler\n",
    "from sklearn.pipeline import make_pipeline\n",
    "from sklearn.compose import ColumnTransformer\n",
    "from sklearn.impute import SimpleImputer"
   ]
  },
  {
   "cell_type": "code",
   "execution_count": 28,
   "id": "5d094392-22cc-49b5-916a-54bfaadb9b05",
   "metadata": {},
   "outputs": [],
   "source": [
    "ord_enc = make_pipeline(OrdinalEncoder())"
   ]
  },
  {
   "cell_type": "code",
   "execution_count": 29,
   "id": "d2c6aff4-84c8-4900-b7f6-451177d7fb36",
   "metadata": {},
   "outputs": [],
   "source": [
    "transformer= ColumnTransformer([('ord',ord_enc,cat_col)])"
   ]
  },
  {
   "cell_type": "code",
   "execution_count": 30,
   "id": "d6e94d47-18f2-410f-9c92-18262b84575b",
   "metadata": {},
   "outputs": [
    {
     "data": {
      "text/plain": [
       "<bound method ColumnTransformer.get_feature_names_out of ColumnTransformer(transformers=[('ord',\n",
       "                                 Pipeline(steps=[('ordinalencoder',\n",
       "                                                  OrdinalEncoder())]),\n",
       "                                 ['sex', 'cp', 'slope', 'thal'])])>"
      ]
     },
     "execution_count": 30,
     "metadata": {},
     "output_type": "execute_result"
    }
   ],
   "source": [
    "transformer.get_feature_names_out"
   ]
  },
  {
   "cell_type": "code",
   "execution_count": 31,
   "id": "e760ad21-45da-46fb-acf6-cc5dc32442c9",
   "metadata": {},
   "outputs": [
    {
     "data": {
      "text/html": [
       "<div>\n",
       "<style scoped>\n",
       "    .dataframe tbody tr th:only-of-type {\n",
       "        vertical-align: middle;\n",
       "    }\n",
       "\n",
       "    .dataframe tbody tr th {\n",
       "        vertical-align: top;\n",
       "    }\n",
       "\n",
       "    .dataframe thead th {\n",
       "        text-align: right;\n",
       "    }\n",
       "</style>\n",
       "<table border=\"1\" class=\"dataframe\">\n",
       "  <thead>\n",
       "    <tr style=\"text-align: right;\">\n",
       "      <th></th>\n",
       "      <th>0</th>\n",
       "      <th>1</th>\n",
       "      <th>2</th>\n",
       "      <th>3</th>\n",
       "    </tr>\n",
       "  </thead>\n",
       "  <tbody>\n",
       "    <tr>\n",
       "      <th>0</th>\n",
       "      <td>1.0</td>\n",
       "      <td>3.0</td>\n",
       "      <td>0.0</td>\n",
       "      <td>0.0</td>\n",
       "    </tr>\n",
       "    <tr>\n",
       "      <th>1</th>\n",
       "      <td>1.0</td>\n",
       "      <td>1.0</td>\n",
       "      <td>1.0</td>\n",
       "      <td>0.0</td>\n",
       "    </tr>\n",
       "    <tr>\n",
       "      <th>2</th>\n",
       "      <td>1.0</td>\n",
       "      <td>0.0</td>\n",
       "      <td>1.0</td>\n",
       "      <td>0.0</td>\n",
       "    </tr>\n",
       "    <tr>\n",
       "      <th>3</th>\n",
       "      <td>1.0</td>\n",
       "      <td>3.0</td>\n",
       "      <td>1.0</td>\n",
       "      <td>0.0</td>\n",
       "    </tr>\n",
       "    <tr>\n",
       "      <th>4</th>\n",
       "      <td>1.0</td>\n",
       "      <td>0.0</td>\n",
       "      <td>1.0</td>\n",
       "      <td>0.0</td>\n",
       "    </tr>\n",
       "    <tr>\n",
       "      <th>...</th>\n",
       "      <td>...</td>\n",
       "      <td>...</td>\n",
       "      <td>...</td>\n",
       "      <td>...</td>\n",
       "    </tr>\n",
       "    <tr>\n",
       "      <th>903</th>\n",
       "      <td>1.0</td>\n",
       "      <td>0.0</td>\n",
       "      <td>2.0</td>\n",
       "      <td>2.0</td>\n",
       "    </tr>\n",
       "    <tr>\n",
       "      <th>904</th>\n",
       "      <td>1.0</td>\n",
       "      <td>0.0</td>\n",
       "      <td>1.0</td>\n",
       "      <td>2.0</td>\n",
       "    </tr>\n",
       "    <tr>\n",
       "      <th>905</th>\n",
       "      <td>1.0</td>\n",
       "      <td>2.0</td>\n",
       "      <td>0.0</td>\n",
       "      <td>1.0</td>\n",
       "    </tr>\n",
       "    <tr>\n",
       "      <th>906</th>\n",
       "      <td>1.0</td>\n",
       "      <td>2.0</td>\n",
       "      <td>0.0</td>\n",
       "      <td>0.0</td>\n",
       "    </tr>\n",
       "    <tr>\n",
       "      <th>907</th>\n",
       "      <td>1.0</td>\n",
       "      <td>0.0</td>\n",
       "      <td>1.0</td>\n",
       "      <td>2.0</td>\n",
       "    </tr>\n",
       "  </tbody>\n",
       "</table>\n",
       "<p>908 rows × 4 columns</p>\n",
       "</div>"
      ],
      "text/plain": [
       "       0    1    2    3\n",
       "0    1.0  3.0  0.0  0.0\n",
       "1    1.0  1.0  1.0  0.0\n",
       "2    1.0  0.0  1.0  0.0\n",
       "3    1.0  3.0  1.0  0.0\n",
       "4    1.0  0.0  1.0  0.0\n",
       "..   ...  ...  ...  ...\n",
       "903  1.0  0.0  2.0  2.0\n",
       "904  1.0  0.0  1.0  2.0\n",
       "905  1.0  2.0  0.0  1.0\n",
       "906  1.0  2.0  0.0  0.0\n",
       "907  1.0  0.0  1.0  2.0\n",
       "\n",
       "[908 rows x 4 columns]"
      ]
     },
     "execution_count": 31,
     "metadata": {},
     "output_type": "execute_result"
    }
   ],
   "source": [
    "df1 = pd.DataFrame(transformer.fit_transform(features))\n",
    "df1"
   ]
  },
  {
   "cell_type": "code",
   "execution_count": 32,
   "id": "630779d6-711b-4cd6-8a35-ca78978d0bcb",
   "metadata": {},
   "outputs": [],
   "source": [
    "simple_impute= SimpleImputer(missing_values=np.nan,strategy='most_frequent')"
   ]
  },
  {
   "cell_type": "code",
   "execution_count": 33,
   "id": "5e3809e0-410b-44be-ac6c-012d81b8345d",
   "metadata": {},
   "outputs": [
    {
     "data": {
      "text/html": [
       "<div>\n",
       "<style scoped>\n",
       "    .dataframe tbody tr th:only-of-type {\n",
       "        vertical-align: middle;\n",
       "    }\n",
       "\n",
       "    .dataframe tbody tr th {\n",
       "        vertical-align: top;\n",
       "    }\n",
       "\n",
       "    .dataframe thead th {\n",
       "        text-align: right;\n",
       "    }\n",
       "</style>\n",
       "<table border=\"1\" class=\"dataframe\">\n",
       "  <thead>\n",
       "    <tr style=\"text-align: right;\">\n",
       "      <th></th>\n",
       "      <th>0</th>\n",
       "      <th>1</th>\n",
       "      <th>2</th>\n",
       "      <th>3</th>\n",
       "    </tr>\n",
       "  </thead>\n",
       "  <tbody>\n",
       "    <tr>\n",
       "      <th>0</th>\n",
       "      <td>1.0</td>\n",
       "      <td>3.0</td>\n",
       "      <td>0.0</td>\n",
       "      <td>0.0</td>\n",
       "    </tr>\n",
       "    <tr>\n",
       "      <th>1</th>\n",
       "      <td>1.0</td>\n",
       "      <td>1.0</td>\n",
       "      <td>1.0</td>\n",
       "      <td>0.0</td>\n",
       "    </tr>\n",
       "    <tr>\n",
       "      <th>2</th>\n",
       "      <td>1.0</td>\n",
       "      <td>0.0</td>\n",
       "      <td>1.0</td>\n",
       "      <td>0.0</td>\n",
       "    </tr>\n",
       "    <tr>\n",
       "      <th>3</th>\n",
       "      <td>1.0</td>\n",
       "      <td>3.0</td>\n",
       "      <td>1.0</td>\n",
       "      <td>0.0</td>\n",
       "    </tr>\n",
       "    <tr>\n",
       "      <th>4</th>\n",
       "      <td>1.0</td>\n",
       "      <td>0.0</td>\n",
       "      <td>1.0</td>\n",
       "      <td>0.0</td>\n",
       "    </tr>\n",
       "    <tr>\n",
       "      <th>...</th>\n",
       "      <td>...</td>\n",
       "      <td>...</td>\n",
       "      <td>...</td>\n",
       "      <td>...</td>\n",
       "    </tr>\n",
       "    <tr>\n",
       "      <th>903</th>\n",
       "      <td>1.0</td>\n",
       "      <td>0.0</td>\n",
       "      <td>2.0</td>\n",
       "      <td>2.0</td>\n",
       "    </tr>\n",
       "    <tr>\n",
       "      <th>904</th>\n",
       "      <td>1.0</td>\n",
       "      <td>0.0</td>\n",
       "      <td>1.0</td>\n",
       "      <td>2.0</td>\n",
       "    </tr>\n",
       "    <tr>\n",
       "      <th>905</th>\n",
       "      <td>1.0</td>\n",
       "      <td>2.0</td>\n",
       "      <td>0.0</td>\n",
       "      <td>1.0</td>\n",
       "    </tr>\n",
       "    <tr>\n",
       "      <th>906</th>\n",
       "      <td>1.0</td>\n",
       "      <td>2.0</td>\n",
       "      <td>0.0</td>\n",
       "      <td>0.0</td>\n",
       "    </tr>\n",
       "    <tr>\n",
       "      <th>907</th>\n",
       "      <td>1.0</td>\n",
       "      <td>0.0</td>\n",
       "      <td>1.0</td>\n",
       "      <td>2.0</td>\n",
       "    </tr>\n",
       "  </tbody>\n",
       "</table>\n",
       "<p>908 rows × 4 columns</p>\n",
       "</div>"
      ],
      "text/plain": [
       "       0    1    2    3\n",
       "0    1.0  3.0  0.0  0.0\n",
       "1    1.0  1.0  1.0  0.0\n",
       "2    1.0  0.0  1.0  0.0\n",
       "3    1.0  3.0  1.0  0.0\n",
       "4    1.0  0.0  1.0  0.0\n",
       "..   ...  ...  ...  ...\n",
       "903  1.0  0.0  2.0  2.0\n",
       "904  1.0  0.0  1.0  2.0\n",
       "905  1.0  2.0  0.0  1.0\n",
       "906  1.0  2.0  0.0  0.0\n",
       "907  1.0  0.0  1.0  2.0\n",
       "\n",
       "[908 rows x 4 columns]"
      ]
     },
     "execution_count": 33,
     "metadata": {},
     "output_type": "execute_result"
    }
   ],
   "source": [
    "df1 =pd.DataFrame(simple_impute.fit_transform(df1))\n",
    "df1"
   ]
  },
  {
   "cell_type": "code",
   "execution_count": 34,
   "id": "b6a640a6-1320-444b-b6ce-b155aec71753",
   "metadata": {},
   "outputs": [],
   "source": [
    "simple_impute1=SimpleImputer(missing_values=np.nan,strategy='median')"
   ]
  },
  {
   "cell_type": "code",
   "execution_count": 35,
   "id": "b6a48d37-9a0b-4d68-abde-7b8b835b8700",
   "metadata": {},
   "outputs": [],
   "source": [
    "df2=pd.DataFrame(simple_impute1.fit_transform(features[num_col]))"
   ]
  },
  {
   "cell_type": "code",
   "execution_count": 36,
   "id": "4d510876-7155-4a57-acef-2ffd53a85bd6",
   "metadata": {},
   "outputs": [],
   "source": [
    "stand_sca = StandardScaler()"
   ]
  },
  {
   "cell_type": "code",
   "execution_count": 37,
   "id": "a4251d8f-aa8c-49e9-8947-6aaa0d70d333",
   "metadata": {},
   "outputs": [],
   "source": [
    "df2=pd.DataFrame(stand_sca.fit_transform(df2))"
   ]
  },
  {
   "cell_type": "code",
   "execution_count": 38,
   "id": "f5a4357d-779a-4639-9129-6536ed446041",
   "metadata": {},
   "outputs": [
    {
     "data": {
      "text/html": [
       "<div>\n",
       "<style scoped>\n",
       "    .dataframe tbody tr th:only-of-type {\n",
       "        vertical-align: middle;\n",
       "    }\n",
       "\n",
       "    .dataframe tbody tr th {\n",
       "        vertical-align: top;\n",
       "    }\n",
       "\n",
       "    .dataframe thead th {\n",
       "        text-align: right;\n",
       "    }\n",
       "</style>\n",
       "<table border=\"1\" class=\"dataframe\">\n",
       "  <thead>\n",
       "    <tr style=\"text-align: right;\">\n",
       "      <th></th>\n",
       "      <th>0</th>\n",
       "      <th>1</th>\n",
       "      <th>2</th>\n",
       "      <th>3</th>\n",
       "      <th>4</th>\n",
       "      <th>5</th>\n",
       "      <th>6</th>\n",
       "      <th>7</th>\n",
       "    </tr>\n",
       "  </thead>\n",
       "  <tbody>\n",
       "    <tr>\n",
       "      <th>0</th>\n",
       "      <td>1.006027</td>\n",
       "      <td>0.567394</td>\n",
       "      <td>0.281297</td>\n",
       "      <td>1.976894</td>\n",
       "      <td>0.524183</td>\n",
       "      <td>-0.834983</td>\n",
       "      <td>1.354403</td>\n",
       "      <td>-0.881977</td>\n",
       "    </tr>\n",
       "    <tr>\n",
       "      <th>1</th>\n",
       "      <td>-1.397560</td>\n",
       "      <td>0.076967</td>\n",
       "      <td>0.013526</td>\n",
       "      <td>-0.505844</td>\n",
       "      <td>-0.147705</td>\n",
       "      <td>-0.834983</td>\n",
       "      <td>-0.815718</td>\n",
       "      <td>-0.881977</td>\n",
       "    </tr>\n",
       "    <tr>\n",
       "      <th>2</th>\n",
       "      <td>0.350503</td>\n",
       "      <td>0.322181</td>\n",
       "      <td>-0.084656</td>\n",
       "      <td>-0.505844</td>\n",
       "      <td>0.449529</td>\n",
       "      <td>-0.834983</td>\n",
       "      <td>-0.438305</td>\n",
       "      <td>-0.881977</td>\n",
       "    </tr>\n",
       "    <tr>\n",
       "      <th>3</th>\n",
       "      <td>-0.195767</td>\n",
       "      <td>-0.756760</td>\n",
       "      <td>-0.138211</td>\n",
       "      <td>-0.505844</td>\n",
       "      <td>2.017268</td>\n",
       "      <td>-0.834983</td>\n",
       "      <td>-0.815718</td>\n",
       "      <td>-0.881977</td>\n",
       "    </tr>\n",
       "    <tr>\n",
       "      <th>4</th>\n",
       "      <td>0.350503</td>\n",
       "      <td>-1.149102</td>\n",
       "      <td>-0.004325</td>\n",
       "      <td>-0.505844</td>\n",
       "      <td>-0.371668</td>\n",
       "      <td>1.197629</td>\n",
       "      <td>0.599578</td>\n",
       "      <td>-0.881977</td>\n",
       "    </tr>\n",
       "    <tr>\n",
       "      <th>...</th>\n",
       "      <td>...</td>\n",
       "      <td>...</td>\n",
       "      <td>...</td>\n",
       "      <td>...</td>\n",
       "      <td>...</td>\n",
       "      <td>...</td>\n",
       "      <td>...</td>\n",
       "      <td>...</td>\n",
       "    </tr>\n",
       "    <tr>\n",
       "      <th>903</th>\n",
       "      <td>-0.086513</td>\n",
       "      <td>-0.413461</td>\n",
       "      <td>-1.798388</td>\n",
       "      <td>-0.505844</td>\n",
       "      <td>-0.595631</td>\n",
       "      <td>-0.834983</td>\n",
       "      <td>0.599578</td>\n",
       "      <td>2.615119</td>\n",
       "    </tr>\n",
       "    <tr>\n",
       "      <th>904</th>\n",
       "      <td>0.896773</td>\n",
       "      <td>1.597292</td>\n",
       "      <td>-0.281021</td>\n",
       "      <td>-0.505844</td>\n",
       "      <td>-0.595631</td>\n",
       "      <td>1.197629</td>\n",
       "      <td>2.014874</td>\n",
       "      <td>2.615119</td>\n",
       "    </tr>\n",
       "    <tr>\n",
       "      <th>905</th>\n",
       "      <td>0.241249</td>\n",
       "      <td>1.793463</td>\n",
       "      <td>-1.798388</td>\n",
       "      <td>-0.505844</td>\n",
       "      <td>-0.483649</td>\n",
       "      <td>1.197629</td>\n",
       "      <td>1.543109</td>\n",
       "      <td>2.615119</td>\n",
       "    </tr>\n",
       "    <tr>\n",
       "      <th>906</th>\n",
       "      <td>0.241249</td>\n",
       "      <td>0.518352</td>\n",
       "      <td>0.058155</td>\n",
       "      <td>1.976894</td>\n",
       "      <td>-1.155538</td>\n",
       "      <td>1.197629</td>\n",
       "      <td>-0.343952</td>\n",
       "      <td>2.615119</td>\n",
       "    </tr>\n",
       "    <tr>\n",
       "      <th>907</th>\n",
       "      <td>0.350503</td>\n",
       "      <td>0.420266</td>\n",
       "      <td>0.674027</td>\n",
       "      <td>1.976894</td>\n",
       "      <td>1.718651</td>\n",
       "      <td>-0.834983</td>\n",
       "      <td>-0.343952</td>\n",
       "      <td>2.615119</td>\n",
       "    </tr>\n",
       "  </tbody>\n",
       "</table>\n",
       "<p>908 rows × 8 columns</p>\n",
       "</div>"
      ],
      "text/plain": [
       "            0         1         2         3         4         5         6  \\\n",
       "0    1.006027  0.567394  0.281297  1.976894  0.524183 -0.834983  1.354403   \n",
       "1   -1.397560  0.076967  0.013526 -0.505844 -0.147705 -0.834983 -0.815718   \n",
       "2    0.350503  0.322181 -0.084656 -0.505844  0.449529 -0.834983 -0.438305   \n",
       "3   -0.195767 -0.756760 -0.138211 -0.505844  2.017268 -0.834983 -0.815718   \n",
       "4    0.350503 -1.149102 -0.004325 -0.505844 -0.371668  1.197629  0.599578   \n",
       "..        ...       ...       ...       ...       ...       ...       ...   \n",
       "903 -0.086513 -0.413461 -1.798388 -0.505844 -0.595631 -0.834983  0.599578   \n",
       "904  0.896773  1.597292 -0.281021 -0.505844 -0.595631  1.197629  2.014874   \n",
       "905  0.241249  1.793463 -1.798388 -0.505844 -0.483649  1.197629  1.543109   \n",
       "906  0.241249  0.518352  0.058155  1.976894 -1.155538  1.197629 -0.343952   \n",
       "907  0.350503  0.420266  0.674027  1.976894  1.718651 -0.834983 -0.343952   \n",
       "\n",
       "            7  \n",
       "0   -0.881977  \n",
       "1   -0.881977  \n",
       "2   -0.881977  \n",
       "3   -0.881977  \n",
       "4   -0.881977  \n",
       "..        ...  \n",
       "903  2.615119  \n",
       "904  2.615119  \n",
       "905  2.615119  \n",
       "906  2.615119  \n",
       "907  2.615119  \n",
       "\n",
       "[908 rows x 8 columns]"
      ]
     },
     "execution_count": 38,
     "metadata": {},
     "output_type": "execute_result"
    }
   ],
   "source": [
    "df2"
   ]
  },
  {
   "cell_type": "code",
   "execution_count": 39,
   "id": "8e743e59-2315-45bc-8b82-7bfdc6f2e396",
   "metadata": {},
   "outputs": [
    {
     "data": {
      "text/html": [
       "<div>\n",
       "<style scoped>\n",
       "    .dataframe tbody tr th:only-of-type {\n",
       "        vertical-align: middle;\n",
       "    }\n",
       "\n",
       "    .dataframe tbody tr th {\n",
       "        vertical-align: top;\n",
       "    }\n",
       "\n",
       "    .dataframe thead th {\n",
       "        text-align: right;\n",
       "    }\n",
       "</style>\n",
       "<table border=\"1\" class=\"dataframe\">\n",
       "  <thead>\n",
       "    <tr style=\"text-align: right;\">\n",
       "      <th></th>\n",
       "      <th>sex</th>\n",
       "      <th>cp</th>\n",
       "      <th>slope</th>\n",
       "      <th>thal</th>\n",
       "      <th>4</th>\n",
       "      <th>5</th>\n",
       "      <th>6</th>\n",
       "      <th>7</th>\n",
       "      <th>8</th>\n",
       "      <th>9</th>\n",
       "      <th>10</th>\n",
       "      <th>11</th>\n",
       "    </tr>\n",
       "  </thead>\n",
       "  <tbody>\n",
       "    <tr>\n",
       "      <th>0</th>\n",
       "      <td>1.0</td>\n",
       "      <td>3.0</td>\n",
       "      <td>0.0</td>\n",
       "      <td>0.0</td>\n",
       "      <td>1.006027</td>\n",
       "      <td>0.567394</td>\n",
       "      <td>0.281297</td>\n",
       "      <td>1.976894</td>\n",
       "      <td>0.524183</td>\n",
       "      <td>-0.834983</td>\n",
       "      <td>1.354403</td>\n",
       "      <td>-0.881977</td>\n",
       "    </tr>\n",
       "    <tr>\n",
       "      <th>1</th>\n",
       "      <td>1.0</td>\n",
       "      <td>1.0</td>\n",
       "      <td>1.0</td>\n",
       "      <td>0.0</td>\n",
       "      <td>-1.397560</td>\n",
       "      <td>0.076967</td>\n",
       "      <td>0.013526</td>\n",
       "      <td>-0.505844</td>\n",
       "      <td>-0.147705</td>\n",
       "      <td>-0.834983</td>\n",
       "      <td>-0.815718</td>\n",
       "      <td>-0.881977</td>\n",
       "    </tr>\n",
       "    <tr>\n",
       "      <th>2</th>\n",
       "      <td>1.0</td>\n",
       "      <td>0.0</td>\n",
       "      <td>1.0</td>\n",
       "      <td>0.0</td>\n",
       "      <td>0.350503</td>\n",
       "      <td>0.322181</td>\n",
       "      <td>-0.084656</td>\n",
       "      <td>-0.505844</td>\n",
       "      <td>0.449529</td>\n",
       "      <td>-0.834983</td>\n",
       "      <td>-0.438305</td>\n",
       "      <td>-0.881977</td>\n",
       "    </tr>\n",
       "    <tr>\n",
       "      <th>3</th>\n",
       "      <td>1.0</td>\n",
       "      <td>3.0</td>\n",
       "      <td>1.0</td>\n",
       "      <td>0.0</td>\n",
       "      <td>-0.195767</td>\n",
       "      <td>-0.756760</td>\n",
       "      <td>-0.138211</td>\n",
       "      <td>-0.505844</td>\n",
       "      <td>2.017268</td>\n",
       "      <td>-0.834983</td>\n",
       "      <td>-0.815718</td>\n",
       "      <td>-0.881977</td>\n",
       "    </tr>\n",
       "    <tr>\n",
       "      <th>4</th>\n",
       "      <td>1.0</td>\n",
       "      <td>0.0</td>\n",
       "      <td>1.0</td>\n",
       "      <td>0.0</td>\n",
       "      <td>0.350503</td>\n",
       "      <td>-1.149102</td>\n",
       "      <td>-0.004325</td>\n",
       "      <td>-0.505844</td>\n",
       "      <td>-0.371668</td>\n",
       "      <td>1.197629</td>\n",
       "      <td>0.599578</td>\n",
       "      <td>-0.881977</td>\n",
       "    </tr>\n",
       "    <tr>\n",
       "      <th>...</th>\n",
       "      <td>...</td>\n",
       "      <td>...</td>\n",
       "      <td>...</td>\n",
       "      <td>...</td>\n",
       "      <td>...</td>\n",
       "      <td>...</td>\n",
       "      <td>...</td>\n",
       "      <td>...</td>\n",
       "      <td>...</td>\n",
       "      <td>...</td>\n",
       "      <td>...</td>\n",
       "      <td>...</td>\n",
       "    </tr>\n",
       "    <tr>\n",
       "      <th>903</th>\n",
       "      <td>1.0</td>\n",
       "      <td>0.0</td>\n",
       "      <td>2.0</td>\n",
       "      <td>2.0</td>\n",
       "      <td>-0.086513</td>\n",
       "      <td>-0.413461</td>\n",
       "      <td>-1.798388</td>\n",
       "      <td>-0.505844</td>\n",
       "      <td>-0.595631</td>\n",
       "      <td>-0.834983</td>\n",
       "      <td>0.599578</td>\n",
       "      <td>2.615119</td>\n",
       "    </tr>\n",
       "    <tr>\n",
       "      <th>904</th>\n",
       "      <td>1.0</td>\n",
       "      <td>0.0</td>\n",
       "      <td>1.0</td>\n",
       "      <td>2.0</td>\n",
       "      <td>0.896773</td>\n",
       "      <td>1.597292</td>\n",
       "      <td>-0.281021</td>\n",
       "      <td>-0.505844</td>\n",
       "      <td>-0.595631</td>\n",
       "      <td>1.197629</td>\n",
       "      <td>2.014874</td>\n",
       "      <td>2.615119</td>\n",
       "    </tr>\n",
       "    <tr>\n",
       "      <th>905</th>\n",
       "      <td>1.0</td>\n",
       "      <td>2.0</td>\n",
       "      <td>0.0</td>\n",
       "      <td>1.0</td>\n",
       "      <td>0.241249</td>\n",
       "      <td>1.793463</td>\n",
       "      <td>-1.798388</td>\n",
       "      <td>-0.505844</td>\n",
       "      <td>-0.483649</td>\n",
       "      <td>1.197629</td>\n",
       "      <td>1.543109</td>\n",
       "      <td>2.615119</td>\n",
       "    </tr>\n",
       "    <tr>\n",
       "      <th>906</th>\n",
       "      <td>1.0</td>\n",
       "      <td>2.0</td>\n",
       "      <td>0.0</td>\n",
       "      <td>0.0</td>\n",
       "      <td>0.241249</td>\n",
       "      <td>0.518352</td>\n",
       "      <td>0.058155</td>\n",
       "      <td>1.976894</td>\n",
       "      <td>-1.155538</td>\n",
       "      <td>1.197629</td>\n",
       "      <td>-0.343952</td>\n",
       "      <td>2.615119</td>\n",
       "    </tr>\n",
       "    <tr>\n",
       "      <th>907</th>\n",
       "      <td>1.0</td>\n",
       "      <td>0.0</td>\n",
       "      <td>1.0</td>\n",
       "      <td>2.0</td>\n",
       "      <td>0.350503</td>\n",
       "      <td>0.420266</td>\n",
       "      <td>0.674027</td>\n",
       "      <td>1.976894</td>\n",
       "      <td>1.718651</td>\n",
       "      <td>-0.834983</td>\n",
       "      <td>-0.343952</td>\n",
       "      <td>2.615119</td>\n",
       "    </tr>\n",
       "  </tbody>\n",
       "</table>\n",
       "<p>908 rows × 12 columns</p>\n",
       "</div>"
      ],
      "text/plain": [
       "     sex   cp  slope  thal         4         5         6         7         8  \\\n",
       "0    1.0  3.0    0.0   0.0  1.006027  0.567394  0.281297  1.976894  0.524183   \n",
       "1    1.0  1.0    1.0   0.0 -1.397560  0.076967  0.013526 -0.505844 -0.147705   \n",
       "2    1.0  0.0    1.0   0.0  0.350503  0.322181 -0.084656 -0.505844  0.449529   \n",
       "3    1.0  3.0    1.0   0.0 -0.195767 -0.756760 -0.138211 -0.505844  2.017268   \n",
       "4    1.0  0.0    1.0   0.0  0.350503 -1.149102 -0.004325 -0.505844 -0.371668   \n",
       "..   ...  ...    ...   ...       ...       ...       ...       ...       ...   \n",
       "903  1.0  0.0    2.0   2.0 -0.086513 -0.413461 -1.798388 -0.505844 -0.595631   \n",
       "904  1.0  0.0    1.0   2.0  0.896773  1.597292 -0.281021 -0.505844 -0.595631   \n",
       "905  1.0  2.0    0.0   1.0  0.241249  1.793463 -1.798388 -0.505844 -0.483649   \n",
       "906  1.0  2.0    0.0   0.0  0.241249  0.518352  0.058155  1.976894 -1.155538   \n",
       "907  1.0  0.0    1.0   2.0  0.350503  0.420266  0.674027  1.976894  1.718651   \n",
       "\n",
       "            9        10        11  \n",
       "0   -0.834983  1.354403 -0.881977  \n",
       "1   -0.834983 -0.815718 -0.881977  \n",
       "2   -0.834983 -0.438305 -0.881977  \n",
       "3   -0.834983 -0.815718 -0.881977  \n",
       "4    1.197629  0.599578 -0.881977  \n",
       "..        ...       ...       ...  \n",
       "903 -0.834983  0.599578  2.615119  \n",
       "904  1.197629  2.014874  2.615119  \n",
       "905  1.197629  1.543109  2.615119  \n",
       "906  1.197629 -0.343952  2.615119  \n",
       "907 -0.834983 -0.343952  2.615119  \n",
       "\n",
       "[908 rows x 12 columns]"
      ]
     },
     "execution_count": 39,
     "metadata": {},
     "output_type": "execute_result"
    }
   ],
   "source": [
    "features1=pd.concat([df1,df2],axis=1,ignore_index=True)\n",
    "features1\n",
    "old_name=range(0,5)\n",
    "new_name=cat_col\n",
    "old_name1=range(5,12)\n",
    "new_name1=num_col\n",
    "features1=features1.rename(columns=dict(zip(old_name,new_name)))\n",
    "features1"
   ]
  },
  {
   "cell_type": "code",
   "execution_count": 40,
   "id": "8a05e663-edc7-4582-ba26-48d8878ac090",
   "metadata": {},
   "outputs": [
    {
     "data": {
      "text/html": [
       "<div>\n",
       "<style scoped>\n",
       "    .dataframe tbody tr th:only-of-type {\n",
       "        vertical-align: middle;\n",
       "    }\n",
       "\n",
       "    .dataframe tbody tr th {\n",
       "        vertical-align: top;\n",
       "    }\n",
       "\n",
       "    .dataframe thead th {\n",
       "        text-align: right;\n",
       "    }\n",
       "</style>\n",
       "<table border=\"1\" class=\"dataframe\">\n",
       "  <thead>\n",
       "    <tr style=\"text-align: right;\">\n",
       "      <th></th>\n",
       "      <th>sex</th>\n",
       "      <th>cp</th>\n",
       "      <th>slope</th>\n",
       "      <th>thal</th>\n",
       "      <th>4</th>\n",
       "      <th>age</th>\n",
       "      <th>trestbps</th>\n",
       "      <th>chol</th>\n",
       "      <th>fbs</th>\n",
       "      <th>thalch</th>\n",
       "      <th>exang</th>\n",
       "      <th>oldpeak</th>\n",
       "    </tr>\n",
       "  </thead>\n",
       "  <tbody>\n",
       "    <tr>\n",
       "      <th>0</th>\n",
       "      <td>1.0</td>\n",
       "      <td>3.0</td>\n",
       "      <td>0.0</td>\n",
       "      <td>0.0</td>\n",
       "      <td>1.006027</td>\n",
       "      <td>0.567394</td>\n",
       "      <td>0.281297</td>\n",
       "      <td>1.976894</td>\n",
       "      <td>0.524183</td>\n",
       "      <td>-0.834983</td>\n",
       "      <td>1.354403</td>\n",
       "      <td>-0.881977</td>\n",
       "    </tr>\n",
       "    <tr>\n",
       "      <th>1</th>\n",
       "      <td>1.0</td>\n",
       "      <td>1.0</td>\n",
       "      <td>1.0</td>\n",
       "      <td>0.0</td>\n",
       "      <td>-1.397560</td>\n",
       "      <td>0.076967</td>\n",
       "      <td>0.013526</td>\n",
       "      <td>-0.505844</td>\n",
       "      <td>-0.147705</td>\n",
       "      <td>-0.834983</td>\n",
       "      <td>-0.815718</td>\n",
       "      <td>-0.881977</td>\n",
       "    </tr>\n",
       "    <tr>\n",
       "      <th>2</th>\n",
       "      <td>1.0</td>\n",
       "      <td>0.0</td>\n",
       "      <td>1.0</td>\n",
       "      <td>0.0</td>\n",
       "      <td>0.350503</td>\n",
       "      <td>0.322181</td>\n",
       "      <td>-0.084656</td>\n",
       "      <td>-0.505844</td>\n",
       "      <td>0.449529</td>\n",
       "      <td>-0.834983</td>\n",
       "      <td>-0.438305</td>\n",
       "      <td>-0.881977</td>\n",
       "    </tr>\n",
       "    <tr>\n",
       "      <th>3</th>\n",
       "      <td>1.0</td>\n",
       "      <td>3.0</td>\n",
       "      <td>1.0</td>\n",
       "      <td>0.0</td>\n",
       "      <td>-0.195767</td>\n",
       "      <td>-0.756760</td>\n",
       "      <td>-0.138211</td>\n",
       "      <td>-0.505844</td>\n",
       "      <td>2.017268</td>\n",
       "      <td>-0.834983</td>\n",
       "      <td>-0.815718</td>\n",
       "      <td>-0.881977</td>\n",
       "    </tr>\n",
       "    <tr>\n",
       "      <th>4</th>\n",
       "      <td>1.0</td>\n",
       "      <td>0.0</td>\n",
       "      <td>1.0</td>\n",
       "      <td>0.0</td>\n",
       "      <td>0.350503</td>\n",
       "      <td>-1.149102</td>\n",
       "      <td>-0.004325</td>\n",
       "      <td>-0.505844</td>\n",
       "      <td>-0.371668</td>\n",
       "      <td>1.197629</td>\n",
       "      <td>0.599578</td>\n",
       "      <td>-0.881977</td>\n",
       "    </tr>\n",
       "    <tr>\n",
       "      <th>...</th>\n",
       "      <td>...</td>\n",
       "      <td>...</td>\n",
       "      <td>...</td>\n",
       "      <td>...</td>\n",
       "      <td>...</td>\n",
       "      <td>...</td>\n",
       "      <td>...</td>\n",
       "      <td>...</td>\n",
       "      <td>...</td>\n",
       "      <td>...</td>\n",
       "      <td>...</td>\n",
       "      <td>...</td>\n",
       "    </tr>\n",
       "    <tr>\n",
       "      <th>903</th>\n",
       "      <td>1.0</td>\n",
       "      <td>0.0</td>\n",
       "      <td>2.0</td>\n",
       "      <td>2.0</td>\n",
       "      <td>-0.086513</td>\n",
       "      <td>-0.413461</td>\n",
       "      <td>-1.798388</td>\n",
       "      <td>-0.505844</td>\n",
       "      <td>-0.595631</td>\n",
       "      <td>-0.834983</td>\n",
       "      <td>0.599578</td>\n",
       "      <td>2.615119</td>\n",
       "    </tr>\n",
       "    <tr>\n",
       "      <th>904</th>\n",
       "      <td>1.0</td>\n",
       "      <td>0.0</td>\n",
       "      <td>1.0</td>\n",
       "      <td>2.0</td>\n",
       "      <td>0.896773</td>\n",
       "      <td>1.597292</td>\n",
       "      <td>-0.281021</td>\n",
       "      <td>-0.505844</td>\n",
       "      <td>-0.595631</td>\n",
       "      <td>1.197629</td>\n",
       "      <td>2.014874</td>\n",
       "      <td>2.615119</td>\n",
       "    </tr>\n",
       "    <tr>\n",
       "      <th>905</th>\n",
       "      <td>1.0</td>\n",
       "      <td>2.0</td>\n",
       "      <td>0.0</td>\n",
       "      <td>1.0</td>\n",
       "      <td>0.241249</td>\n",
       "      <td>1.793463</td>\n",
       "      <td>-1.798388</td>\n",
       "      <td>-0.505844</td>\n",
       "      <td>-0.483649</td>\n",
       "      <td>1.197629</td>\n",
       "      <td>1.543109</td>\n",
       "      <td>2.615119</td>\n",
       "    </tr>\n",
       "    <tr>\n",
       "      <th>906</th>\n",
       "      <td>1.0</td>\n",
       "      <td>2.0</td>\n",
       "      <td>0.0</td>\n",
       "      <td>0.0</td>\n",
       "      <td>0.241249</td>\n",
       "      <td>0.518352</td>\n",
       "      <td>0.058155</td>\n",
       "      <td>1.976894</td>\n",
       "      <td>-1.155538</td>\n",
       "      <td>1.197629</td>\n",
       "      <td>-0.343952</td>\n",
       "      <td>2.615119</td>\n",
       "    </tr>\n",
       "    <tr>\n",
       "      <th>907</th>\n",
       "      <td>1.0</td>\n",
       "      <td>0.0</td>\n",
       "      <td>1.0</td>\n",
       "      <td>2.0</td>\n",
       "      <td>0.350503</td>\n",
       "      <td>0.420266</td>\n",
       "      <td>0.674027</td>\n",
       "      <td>1.976894</td>\n",
       "      <td>1.718651</td>\n",
       "      <td>-0.834983</td>\n",
       "      <td>-0.343952</td>\n",
       "      <td>2.615119</td>\n",
       "    </tr>\n",
       "  </tbody>\n",
       "</table>\n",
       "<p>908 rows × 12 columns</p>\n",
       "</div>"
      ],
      "text/plain": [
       "     sex   cp  slope  thal         4       age  trestbps      chol       fbs  \\\n",
       "0    1.0  3.0    0.0   0.0  1.006027  0.567394  0.281297  1.976894  0.524183   \n",
       "1    1.0  1.0    1.0   0.0 -1.397560  0.076967  0.013526 -0.505844 -0.147705   \n",
       "2    1.0  0.0    1.0   0.0  0.350503  0.322181 -0.084656 -0.505844  0.449529   \n",
       "3    1.0  3.0    1.0   0.0 -0.195767 -0.756760 -0.138211 -0.505844  2.017268   \n",
       "4    1.0  0.0    1.0   0.0  0.350503 -1.149102 -0.004325 -0.505844 -0.371668   \n",
       "..   ...  ...    ...   ...       ...       ...       ...       ...       ...   \n",
       "903  1.0  0.0    2.0   2.0 -0.086513 -0.413461 -1.798388 -0.505844 -0.595631   \n",
       "904  1.0  0.0    1.0   2.0  0.896773  1.597292 -0.281021 -0.505844 -0.595631   \n",
       "905  1.0  2.0    0.0   1.0  0.241249  1.793463 -1.798388 -0.505844 -0.483649   \n",
       "906  1.0  2.0    0.0   0.0  0.241249  0.518352  0.058155  1.976894 -1.155538   \n",
       "907  1.0  0.0    1.0   2.0  0.350503  0.420266  0.674027  1.976894  1.718651   \n",
       "\n",
       "       thalch     exang   oldpeak  \n",
       "0   -0.834983  1.354403 -0.881977  \n",
       "1   -0.834983 -0.815718 -0.881977  \n",
       "2   -0.834983 -0.438305 -0.881977  \n",
       "3   -0.834983 -0.815718 -0.881977  \n",
       "4    1.197629  0.599578 -0.881977  \n",
       "..        ...       ...       ...  \n",
       "903 -0.834983  0.599578  2.615119  \n",
       "904  1.197629  2.014874  2.615119  \n",
       "905  1.197629  1.543109  2.615119  \n",
       "906  1.197629 -0.343952  2.615119  \n",
       "907 -0.834983 -0.343952  2.615119  \n",
       "\n",
       "[908 rows x 12 columns]"
      ]
     },
     "execution_count": 40,
     "metadata": {},
     "output_type": "execute_result"
    }
   ],
   "source": [
    "features1=features1.rename(columns=dict(zip(old_name1,new_name1)))\n",
    "features1"
   ]
  },
  {
   "cell_type": "code",
   "execution_count": 41,
   "id": "fce43599-df75-4c29-8656-0ab8c74f2701",
   "metadata": {},
   "outputs": [],
   "source": [
    "x_train,x_test,y_train,y_test= train_test_split(features1,target,train_size=0.75,random_state=100)"
   ]
  },
  {
   "cell_type": "code",
   "execution_count": 42,
   "id": "13e85182-d57a-43d2-a35d-481e56a8fa09",
   "metadata": {},
   "outputs": [
    {
     "name": "stdout",
     "output_type": "stream",
     "text": [
      "(681, 12)\n",
      "(227, 12)\n",
      "(681, 1)\n",
      "(227, 1)\n"
     ]
    }
   ],
   "source": [
    "print(x_train.shape)\n",
    "print(x_test.shape)\n",
    "print(y_train.shape)\n",
    "print(y_test.shape)"
   ]
  },
  {
   "cell_type": "code",
   "execution_count": 43,
   "id": "3426bc2b-1224-46f1-9583-7d8a691ca651",
   "metadata": {},
   "outputs": [],
   "source": [
    "dec_tree=DecisionTreeClassifier(criterion='gini',splitter='random',max_depth=3)"
   ]
  },
  {
   "cell_type": "code",
   "execution_count": 47,
   "id": "bcccc8ff-e6e9-4fc5-bc2d-8422babbc679",
   "metadata": {},
   "outputs": [],
   "source": [
    "# Convert all column names to strings to ensure compatibility\n",
    "x_train.columns = x_train.columns.astype(str)\n",
    "x_test.columns = x_test.columns.astype(str)"
   ]
  },
  {
   "cell_type": "code",
   "execution_count": 48,
   "id": "2e6577b5-3d6d-4a97-b7ce-4e7be5071229",
   "metadata": {},
   "outputs": [
    {
     "data": {
      "text/html": [
       "<style>#sk-container-id-1 {color: black;background-color: white;}#sk-container-id-1 pre{padding: 0;}#sk-container-id-1 div.sk-toggleable {background-color: white;}#sk-container-id-1 label.sk-toggleable__label {cursor: pointer;display: block;width: 100%;margin-bottom: 0;padding: 0.3em;box-sizing: border-box;text-align: center;}#sk-container-id-1 label.sk-toggleable__label-arrow:before {content: \"▸\";float: left;margin-right: 0.25em;color: #696969;}#sk-container-id-1 label.sk-toggleable__label-arrow:hover:before {color: black;}#sk-container-id-1 div.sk-estimator:hover label.sk-toggleable__label-arrow:before {color: black;}#sk-container-id-1 div.sk-toggleable__content {max-height: 0;max-width: 0;overflow: hidden;text-align: left;background-color: #f0f8ff;}#sk-container-id-1 div.sk-toggleable__content pre {margin: 0.2em;color: black;border-radius: 0.25em;background-color: #f0f8ff;}#sk-container-id-1 input.sk-toggleable__control:checked~div.sk-toggleable__content {max-height: 200px;max-width: 100%;overflow: auto;}#sk-container-id-1 input.sk-toggleable__control:checked~label.sk-toggleable__label-arrow:before {content: \"▾\";}#sk-container-id-1 div.sk-estimator input.sk-toggleable__control:checked~label.sk-toggleable__label {background-color: #d4ebff;}#sk-container-id-1 div.sk-label input.sk-toggleable__control:checked~label.sk-toggleable__label {background-color: #d4ebff;}#sk-container-id-1 input.sk-hidden--visually {border: 0;clip: rect(1px 1px 1px 1px);clip: rect(1px, 1px, 1px, 1px);height: 1px;margin: -1px;overflow: hidden;padding: 0;position: absolute;width: 1px;}#sk-container-id-1 div.sk-estimator {font-family: monospace;background-color: #f0f8ff;border: 1px dotted black;border-radius: 0.25em;box-sizing: border-box;margin-bottom: 0.5em;}#sk-container-id-1 div.sk-estimator:hover {background-color: #d4ebff;}#sk-container-id-1 div.sk-parallel-item::after {content: \"\";width: 100%;border-bottom: 1px solid gray;flex-grow: 1;}#sk-container-id-1 div.sk-label:hover label.sk-toggleable__label {background-color: #d4ebff;}#sk-container-id-1 div.sk-serial::before {content: \"\";position: absolute;border-left: 1px solid gray;box-sizing: border-box;top: 0;bottom: 0;left: 50%;z-index: 0;}#sk-container-id-1 div.sk-serial {display: flex;flex-direction: column;align-items: center;background-color: white;padding-right: 0.2em;padding-left: 0.2em;position: relative;}#sk-container-id-1 div.sk-item {position: relative;z-index: 1;}#sk-container-id-1 div.sk-parallel {display: flex;align-items: stretch;justify-content: center;background-color: white;position: relative;}#sk-container-id-1 div.sk-item::before, #sk-container-id-1 div.sk-parallel-item::before {content: \"\";position: absolute;border-left: 1px solid gray;box-sizing: border-box;top: 0;bottom: 0;left: 50%;z-index: -1;}#sk-container-id-1 div.sk-parallel-item {display: flex;flex-direction: column;z-index: 1;position: relative;background-color: white;}#sk-container-id-1 div.sk-parallel-item:first-child::after {align-self: flex-end;width: 50%;}#sk-container-id-1 div.sk-parallel-item:last-child::after {align-self: flex-start;width: 50%;}#sk-container-id-1 div.sk-parallel-item:only-child::after {width: 0;}#sk-container-id-1 div.sk-dashed-wrapped {border: 1px dashed gray;margin: 0 0.4em 0.5em 0.4em;box-sizing: border-box;padding-bottom: 0.4em;background-color: white;}#sk-container-id-1 div.sk-label label {font-family: monospace;font-weight: bold;display: inline-block;line-height: 1.2em;}#sk-container-id-1 div.sk-label-container {text-align: center;}#sk-container-id-1 div.sk-container {/* jupyter's `normalize.less` sets `[hidden] { display: none; }` but bootstrap.min.css set `[hidden] { display: none !important; }` so we also need the `!important` here to be able to override the default hidden behavior on the sphinx rendered scikit-learn.org. See: https://github.com/scikit-learn/scikit-learn/issues/21755 */display: inline-block !important;position: relative;}#sk-container-id-1 div.sk-text-repr-fallback {display: none;}</style><div id=\"sk-container-id-1\" class=\"sk-top-container\"><div class=\"sk-text-repr-fallback\"><pre>DecisionTreeClassifier(max_depth=3, splitter=&#x27;random&#x27;)</pre><b>In a Jupyter environment, please rerun this cell to show the HTML representation or trust the notebook. <br />On GitHub, the HTML representation is unable to render, please try loading this page with nbviewer.org.</b></div><div class=\"sk-container\" hidden><div class=\"sk-item\"><div class=\"sk-estimator sk-toggleable\"><input class=\"sk-toggleable__control sk-hidden--visually\" id=\"sk-estimator-id-1\" type=\"checkbox\" checked><label for=\"sk-estimator-id-1\" class=\"sk-toggleable__label sk-toggleable__label-arrow\">DecisionTreeClassifier</label><div class=\"sk-toggleable__content\"><pre>DecisionTreeClassifier(max_depth=3, splitter=&#x27;random&#x27;)</pre></div></div></div></div></div>"
      ],
      "text/plain": [
       "DecisionTreeClassifier(max_depth=3, splitter='random')"
      ]
     },
     "execution_count": 48,
     "metadata": {},
     "output_type": "execute_result"
    }
   ],
   "source": [
    "dec_tree.fit(x_train,y_train)"
   ]
  },
  {
   "cell_type": "code",
   "execution_count": 49,
   "id": "7221fbfd-3226-4f53-a7fd-62130354a9eb",
   "metadata": {},
   "outputs": [],
   "source": [
    "y_pred= dec_tree.predict(x_test)"
   ]
  },
  {
   "cell_type": "code",
   "execution_count": 50,
   "id": "99ab7262-025e-4dc6-ae22-ba521d4a59d9",
   "metadata": {},
   "outputs": [
    {
     "data": {
      "text/plain": [
       "array(['normal', 'normal', 'normal', 'normal', 'lv hypertrophy', 'normal',\n",
       "       'normal', 'lv hypertrophy', 'normal', 'normal', 'normal', 'normal',\n",
       "       'normal', 'normal', 'normal', 'normal', 'normal', 'normal',\n",
       "       'normal', 'normal', 'normal', 'normal', 'normal', 'normal',\n",
       "       'normal', 'normal', 'normal', 'normal', 'normal', 'normal',\n",
       "       'normal', 'normal', 'normal', 'normal', 'normal', 'normal',\n",
       "       'normal', 'normal', 'normal', 'normal', 'normal', 'normal',\n",
       "       'normal', 'normal', 'normal', 'normal', 'normal', 'normal',\n",
       "       'normal', 'normal', 'normal', 'normal', 'normal', 'normal',\n",
       "       'normal', 'normal', 'normal', 'normal', 'normal', 'normal',\n",
       "       'normal', 'normal', 'normal', 'normal', 'normal', 'normal',\n",
       "       'normal', 'normal', 'normal', 'normal', 'normal', 'normal',\n",
       "       'normal', 'lv hypertrophy', 'normal', 'normal', 'normal', 'normal',\n",
       "       'normal', 'normal', 'normal', 'normal', 'normal', 'normal',\n",
       "       'normal', 'normal', 'normal', 'normal', 'normal', 'normal',\n",
       "       'normal', 'normal', 'normal', 'normal', 'normal', 'normal',\n",
       "       'normal', 'normal', 'normal', 'normal', 'normal', 'normal',\n",
       "       'normal', 'normal', 'normal', 'normal', 'normal', 'normal',\n",
       "       'lv hypertrophy', 'normal', 'normal', 'normal', 'lv hypertrophy',\n",
       "       'normal', 'normal', 'normal', 'normal', 'normal', 'normal',\n",
       "       'normal', 'normal', 'normal', 'normal', 'normal', 'normal',\n",
       "       'normal', 'normal', 'normal', 'normal', 'normal', 'normal',\n",
       "       'normal', 'normal', 'normal', 'normal', 'lv hypertrophy', 'normal',\n",
       "       'normal', 'normal', 'normal', 'normal', 'normal', 'normal',\n",
       "       'normal', 'normal', 'normal', 'normal', 'normal', 'normal',\n",
       "       'normal', 'normal', 'normal', 'normal', 'normal', 'normal',\n",
       "       'normal', 'normal', 'normal', 'normal', 'normal', 'normal',\n",
       "       'normal', 'normal', 'normal', 'normal', 'normal', 'normal',\n",
       "       'normal', 'normal', 'normal', 'normal', 'normal', 'normal',\n",
       "       'lv hypertrophy', 'lv hypertrophy', 'normal', 'normal', 'normal',\n",
       "       'normal', 'lv hypertrophy', 'normal', 'normal', 'normal', 'normal',\n",
       "       'normal', 'normal', 'normal', 'normal', 'normal', 'normal',\n",
       "       'normal', 'lv hypertrophy', 'normal', 'normal', 'normal', 'normal',\n",
       "       'normal', 'normal', 'normal', 'normal', 'normal', 'normal',\n",
       "       'normal', 'normal', 'normal', 'normal', 'normal', 'normal',\n",
       "       'normal', 'normal', 'normal', 'normal', 'normal', 'normal',\n",
       "       'normal', 'normal', 'normal', 'normal', 'normal', 'normal',\n",
       "       'normal', 'normal', 'normal', 'normal', 'normal', 'normal',\n",
       "       'normal'], dtype=object)"
      ]
     },
     "execution_count": 50,
     "metadata": {},
     "output_type": "execute_result"
    }
   ],
   "source": [
    "y_pred"
   ]
  },
  {
   "cell_type": "code",
   "execution_count": 51,
   "id": "9ac65b7a-9bad-48ef-871b-c8301f55bc01",
   "metadata": {},
   "outputs": [
    {
     "data": {
      "text/plain": [
       "0.5550660792951542"
      ]
     },
     "execution_count": 51,
     "metadata": {},
     "output_type": "execute_result"
    }
   ],
   "source": [
    "accuracy_score(y_test,y_pred)"
   ]
  },
  {
   "cell_type": "code",
   "execution_count": 52,
   "id": "9de4ea62-0336-4713-9918-d7497343a1c7",
   "metadata": {},
   "outputs": [
    {
     "data": {
      "text/plain": [
       "0.35709616516778653"
      ]
     },
     "execution_count": 52,
     "metadata": {},
     "output_type": "execute_result"
    }
   ],
   "source": [
    "precision_score(y_test,y_pred,average='weighted')"
   ]
  },
  {
   "cell_type": "code",
   "execution_count": 53,
   "id": "a66fe597-ce3b-4839-aeb6-010153d5e90a",
   "metadata": {},
   "outputs": [
    {
     "data": {
      "text/plain": [
       "0.5550660792951542"
      ]
     },
     "execution_count": 53,
     "metadata": {},
     "output_type": "execute_result"
    }
   ],
   "source": [
    "recall_score(y_test,y_pred,average='weighted')"
   ]
  },
  {
   "cell_type": "code",
   "execution_count": 54,
   "id": "00886215-033e-4074-8534-4637f5d4e4b0",
   "metadata": {},
   "outputs": [
    {
     "data": {
      "text/plain": [
       "0.42205359074567644"
      ]
     },
     "execution_count": 54,
     "metadata": {},
     "output_type": "execute_result"
    }
   ],
   "source": [
    "f1_score(y_test,y_pred,average='weighted')"
   ]
  },
  {
   "cell_type": "code",
   "execution_count": 55,
   "id": "e5f3fc63-3ef9-4b67-8864-c408b33b2c54",
   "metadata": {},
   "outputs": [],
   "source": [
    "params={'criterion':['gini','entropy'],'splitter':['best','random'],'max_depth':[1,2,3,4,5,6]}"
   ]
  },
  {
   "cell_type": "code",
   "execution_count": 56,
   "id": "74c21378-d2c9-4b5f-88d3-84e4dde3f7e5",
   "metadata": {},
   "outputs": [],
   "source": [
    "grid_search= GridSearchCV(dec_tree,params)"
   ]
  },
  {
   "cell_type": "code",
   "execution_count": 57,
   "id": "a15c1d08-7465-456b-b356-b5f2876e7d40",
   "metadata": {},
   "outputs": [
    {
     "data": {
      "text/html": [
       "<style>#sk-container-id-2 {color: black;background-color: white;}#sk-container-id-2 pre{padding: 0;}#sk-container-id-2 div.sk-toggleable {background-color: white;}#sk-container-id-2 label.sk-toggleable__label {cursor: pointer;display: block;width: 100%;margin-bottom: 0;padding: 0.3em;box-sizing: border-box;text-align: center;}#sk-container-id-2 label.sk-toggleable__label-arrow:before {content: \"▸\";float: left;margin-right: 0.25em;color: #696969;}#sk-container-id-2 label.sk-toggleable__label-arrow:hover:before {color: black;}#sk-container-id-2 div.sk-estimator:hover label.sk-toggleable__label-arrow:before {color: black;}#sk-container-id-2 div.sk-toggleable__content {max-height: 0;max-width: 0;overflow: hidden;text-align: left;background-color: #f0f8ff;}#sk-container-id-2 div.sk-toggleable__content pre {margin: 0.2em;color: black;border-radius: 0.25em;background-color: #f0f8ff;}#sk-container-id-2 input.sk-toggleable__control:checked~div.sk-toggleable__content {max-height: 200px;max-width: 100%;overflow: auto;}#sk-container-id-2 input.sk-toggleable__control:checked~label.sk-toggleable__label-arrow:before {content: \"▾\";}#sk-container-id-2 div.sk-estimator input.sk-toggleable__control:checked~label.sk-toggleable__label {background-color: #d4ebff;}#sk-container-id-2 div.sk-label input.sk-toggleable__control:checked~label.sk-toggleable__label {background-color: #d4ebff;}#sk-container-id-2 input.sk-hidden--visually {border: 0;clip: rect(1px 1px 1px 1px);clip: rect(1px, 1px, 1px, 1px);height: 1px;margin: -1px;overflow: hidden;padding: 0;position: absolute;width: 1px;}#sk-container-id-2 div.sk-estimator {font-family: monospace;background-color: #f0f8ff;border: 1px dotted black;border-radius: 0.25em;box-sizing: border-box;margin-bottom: 0.5em;}#sk-container-id-2 div.sk-estimator:hover {background-color: #d4ebff;}#sk-container-id-2 div.sk-parallel-item::after {content: \"\";width: 100%;border-bottom: 1px solid gray;flex-grow: 1;}#sk-container-id-2 div.sk-label:hover label.sk-toggleable__label {background-color: #d4ebff;}#sk-container-id-2 div.sk-serial::before {content: \"\";position: absolute;border-left: 1px solid gray;box-sizing: border-box;top: 0;bottom: 0;left: 50%;z-index: 0;}#sk-container-id-2 div.sk-serial {display: flex;flex-direction: column;align-items: center;background-color: white;padding-right: 0.2em;padding-left: 0.2em;position: relative;}#sk-container-id-2 div.sk-item {position: relative;z-index: 1;}#sk-container-id-2 div.sk-parallel {display: flex;align-items: stretch;justify-content: center;background-color: white;position: relative;}#sk-container-id-2 div.sk-item::before, #sk-container-id-2 div.sk-parallel-item::before {content: \"\";position: absolute;border-left: 1px solid gray;box-sizing: border-box;top: 0;bottom: 0;left: 50%;z-index: -1;}#sk-container-id-2 div.sk-parallel-item {display: flex;flex-direction: column;z-index: 1;position: relative;background-color: white;}#sk-container-id-2 div.sk-parallel-item:first-child::after {align-self: flex-end;width: 50%;}#sk-container-id-2 div.sk-parallel-item:last-child::after {align-self: flex-start;width: 50%;}#sk-container-id-2 div.sk-parallel-item:only-child::after {width: 0;}#sk-container-id-2 div.sk-dashed-wrapped {border: 1px dashed gray;margin: 0 0.4em 0.5em 0.4em;box-sizing: border-box;padding-bottom: 0.4em;background-color: white;}#sk-container-id-2 div.sk-label label {font-family: monospace;font-weight: bold;display: inline-block;line-height: 1.2em;}#sk-container-id-2 div.sk-label-container {text-align: center;}#sk-container-id-2 div.sk-container {/* jupyter's `normalize.less` sets `[hidden] { display: none; }` but bootstrap.min.css set `[hidden] { display: none !important; }` so we also need the `!important` here to be able to override the default hidden behavior on the sphinx rendered scikit-learn.org. See: https://github.com/scikit-learn/scikit-learn/issues/21755 */display: inline-block !important;position: relative;}#sk-container-id-2 div.sk-text-repr-fallback {display: none;}</style><div id=\"sk-container-id-2\" class=\"sk-top-container\"><div class=\"sk-text-repr-fallback\"><pre>GridSearchCV(estimator=DecisionTreeClassifier(max_depth=3, splitter=&#x27;random&#x27;),\n",
       "             param_grid={&#x27;criterion&#x27;: [&#x27;gini&#x27;, &#x27;entropy&#x27;],\n",
       "                         &#x27;max_depth&#x27;: [1, 2, 3, 4, 5, 6],\n",
       "                         &#x27;splitter&#x27;: [&#x27;best&#x27;, &#x27;random&#x27;]})</pre><b>In a Jupyter environment, please rerun this cell to show the HTML representation or trust the notebook. <br />On GitHub, the HTML representation is unable to render, please try loading this page with nbviewer.org.</b></div><div class=\"sk-container\" hidden><div class=\"sk-item sk-dashed-wrapped\"><div class=\"sk-label-container\"><div class=\"sk-label sk-toggleable\"><input class=\"sk-toggleable__control sk-hidden--visually\" id=\"sk-estimator-id-2\" type=\"checkbox\" ><label for=\"sk-estimator-id-2\" class=\"sk-toggleable__label sk-toggleable__label-arrow\">GridSearchCV</label><div class=\"sk-toggleable__content\"><pre>GridSearchCV(estimator=DecisionTreeClassifier(max_depth=3, splitter=&#x27;random&#x27;),\n",
       "             param_grid={&#x27;criterion&#x27;: [&#x27;gini&#x27;, &#x27;entropy&#x27;],\n",
       "                         &#x27;max_depth&#x27;: [1, 2, 3, 4, 5, 6],\n",
       "                         &#x27;splitter&#x27;: [&#x27;best&#x27;, &#x27;random&#x27;]})</pre></div></div></div><div class=\"sk-parallel\"><div class=\"sk-parallel-item\"><div class=\"sk-item\"><div class=\"sk-label-container\"><div class=\"sk-label sk-toggleable\"><input class=\"sk-toggleable__control sk-hidden--visually\" id=\"sk-estimator-id-3\" type=\"checkbox\" ><label for=\"sk-estimator-id-3\" class=\"sk-toggleable__label sk-toggleable__label-arrow\">estimator: DecisionTreeClassifier</label><div class=\"sk-toggleable__content\"><pre>DecisionTreeClassifier(max_depth=3, splitter=&#x27;random&#x27;)</pre></div></div></div><div class=\"sk-serial\"><div class=\"sk-item\"><div class=\"sk-estimator sk-toggleable\"><input class=\"sk-toggleable__control sk-hidden--visually\" id=\"sk-estimator-id-4\" type=\"checkbox\" ><label for=\"sk-estimator-id-4\" class=\"sk-toggleable__label sk-toggleable__label-arrow\">DecisionTreeClassifier</label><div class=\"sk-toggleable__content\"><pre>DecisionTreeClassifier(max_depth=3, splitter=&#x27;random&#x27;)</pre></div></div></div></div></div></div></div></div></div></div>"
      ],
      "text/plain": [
       "GridSearchCV(estimator=DecisionTreeClassifier(max_depth=3, splitter='random'),\n",
       "             param_grid={'criterion': ['gini', 'entropy'],\n",
       "                         'max_depth': [1, 2, 3, 4, 5, 6],\n",
       "                         'splitter': ['best', 'random']})"
      ]
     },
     "execution_count": 57,
     "metadata": {},
     "output_type": "execute_result"
    }
   ],
   "source": [
    "grid_search.fit(x_train,y_train)"
   ]
  },
  {
   "cell_type": "code",
   "execution_count": 58,
   "id": "1a596201-669d-49ab-99c8-551a1f06f237",
   "metadata": {},
   "outputs": [
    {
     "data": {
      "text/plain": [
       "{'criterion': 'entropy', 'max_depth': 3, 'splitter': 'best'}"
      ]
     },
     "execution_count": 58,
     "metadata": {},
     "output_type": "execute_result"
    }
   ],
   "source": [
    "grid_search.best_params_"
   ]
  },
  {
   "cell_type": "code",
   "execution_count": 59,
   "id": "5f86f6dc-edce-4a41-b02d-f3096b048922",
   "metadata": {},
   "outputs": [
    {
     "data": {
      "text/html": [
       "<style>#sk-container-id-3 {color: black;background-color: white;}#sk-container-id-3 pre{padding: 0;}#sk-container-id-3 div.sk-toggleable {background-color: white;}#sk-container-id-3 label.sk-toggleable__label {cursor: pointer;display: block;width: 100%;margin-bottom: 0;padding: 0.3em;box-sizing: border-box;text-align: center;}#sk-container-id-3 label.sk-toggleable__label-arrow:before {content: \"▸\";float: left;margin-right: 0.25em;color: #696969;}#sk-container-id-3 label.sk-toggleable__label-arrow:hover:before {color: black;}#sk-container-id-3 div.sk-estimator:hover label.sk-toggleable__label-arrow:before {color: black;}#sk-container-id-3 div.sk-toggleable__content {max-height: 0;max-width: 0;overflow: hidden;text-align: left;background-color: #f0f8ff;}#sk-container-id-3 div.sk-toggleable__content pre {margin: 0.2em;color: black;border-radius: 0.25em;background-color: #f0f8ff;}#sk-container-id-3 input.sk-toggleable__control:checked~div.sk-toggleable__content {max-height: 200px;max-width: 100%;overflow: auto;}#sk-container-id-3 input.sk-toggleable__control:checked~label.sk-toggleable__label-arrow:before {content: \"▾\";}#sk-container-id-3 div.sk-estimator input.sk-toggleable__control:checked~label.sk-toggleable__label {background-color: #d4ebff;}#sk-container-id-3 div.sk-label input.sk-toggleable__control:checked~label.sk-toggleable__label {background-color: #d4ebff;}#sk-container-id-3 input.sk-hidden--visually {border: 0;clip: rect(1px 1px 1px 1px);clip: rect(1px, 1px, 1px, 1px);height: 1px;margin: -1px;overflow: hidden;padding: 0;position: absolute;width: 1px;}#sk-container-id-3 div.sk-estimator {font-family: monospace;background-color: #f0f8ff;border: 1px dotted black;border-radius: 0.25em;box-sizing: border-box;margin-bottom: 0.5em;}#sk-container-id-3 div.sk-estimator:hover {background-color: #d4ebff;}#sk-container-id-3 div.sk-parallel-item::after {content: \"\";width: 100%;border-bottom: 1px solid gray;flex-grow: 1;}#sk-container-id-3 div.sk-label:hover label.sk-toggleable__label {background-color: #d4ebff;}#sk-container-id-3 div.sk-serial::before {content: \"\";position: absolute;border-left: 1px solid gray;box-sizing: border-box;top: 0;bottom: 0;left: 50%;z-index: 0;}#sk-container-id-3 div.sk-serial {display: flex;flex-direction: column;align-items: center;background-color: white;padding-right: 0.2em;padding-left: 0.2em;position: relative;}#sk-container-id-3 div.sk-item {position: relative;z-index: 1;}#sk-container-id-3 div.sk-parallel {display: flex;align-items: stretch;justify-content: center;background-color: white;position: relative;}#sk-container-id-3 div.sk-item::before, #sk-container-id-3 div.sk-parallel-item::before {content: \"\";position: absolute;border-left: 1px solid gray;box-sizing: border-box;top: 0;bottom: 0;left: 50%;z-index: -1;}#sk-container-id-3 div.sk-parallel-item {display: flex;flex-direction: column;z-index: 1;position: relative;background-color: white;}#sk-container-id-3 div.sk-parallel-item:first-child::after {align-self: flex-end;width: 50%;}#sk-container-id-3 div.sk-parallel-item:last-child::after {align-self: flex-start;width: 50%;}#sk-container-id-3 div.sk-parallel-item:only-child::after {width: 0;}#sk-container-id-3 div.sk-dashed-wrapped {border: 1px dashed gray;margin: 0 0.4em 0.5em 0.4em;box-sizing: border-box;padding-bottom: 0.4em;background-color: white;}#sk-container-id-3 div.sk-label label {font-family: monospace;font-weight: bold;display: inline-block;line-height: 1.2em;}#sk-container-id-3 div.sk-label-container {text-align: center;}#sk-container-id-3 div.sk-container {/* jupyter's `normalize.less` sets `[hidden] { display: none; }` but bootstrap.min.css set `[hidden] { display: none !important; }` so we also need the `!important` here to be able to override the default hidden behavior on the sphinx rendered scikit-learn.org. See: https://github.com/scikit-learn/scikit-learn/issues/21755 */display: inline-block !important;position: relative;}#sk-container-id-3 div.sk-text-repr-fallback {display: none;}</style><div id=\"sk-container-id-3\" class=\"sk-top-container\"><div class=\"sk-text-repr-fallback\"><pre>DecisionTreeClassifier(criterion=&#x27;entropy&#x27;, max_depth=3)</pre><b>In a Jupyter environment, please rerun this cell to show the HTML representation or trust the notebook. <br />On GitHub, the HTML representation is unable to render, please try loading this page with nbviewer.org.</b></div><div class=\"sk-container\" hidden><div class=\"sk-item\"><div class=\"sk-estimator sk-toggleable\"><input class=\"sk-toggleable__control sk-hidden--visually\" id=\"sk-estimator-id-5\" type=\"checkbox\" checked><label for=\"sk-estimator-id-5\" class=\"sk-toggleable__label sk-toggleable__label-arrow\">DecisionTreeClassifier</label><div class=\"sk-toggleable__content\"><pre>DecisionTreeClassifier(criterion=&#x27;entropy&#x27;, max_depth=3)</pre></div></div></div></div></div>"
      ],
      "text/plain": [
       "DecisionTreeClassifier(criterion='entropy', max_depth=3)"
      ]
     },
     "execution_count": 59,
     "metadata": {},
     "output_type": "execute_result"
    }
   ],
   "source": [
    "best_model=grid_search.best_estimator_\n",
    "best_model"
   ]
  },
  {
   "cell_type": "code",
   "execution_count": 60,
   "id": "60e03f21-ff97-4c83-a536-8c4ff726625b",
   "metadata": {},
   "outputs": [
    {
     "data": {
      "image/png": "[encoded data removed]",
      "text/plain": [
       "<Figure size 1200x1200 with 1 Axes>"
      ]
     },
     "metadata": {},
     "output_type": "display_data"
    }
   ],
   "source": [
    "#plot the decision tree\n",
    "plt.figure(figsize=(12,12))\n",
    "plot_tree(dec_tree,filled=True,max_depth=3,rounded=True,class_names=['normal','lv hypertrophy','st-t abnormality']);    "
   ]
  }
 ],
 "metadata": {
  "kernelspec": {
   "display_name": "Python 3 (ipykernel)",
   "language": "python",
   "name": "python3"
  },
  "language_info": {
   "codemirror_mode": {
    "name": "ipython",
    "version": 3
   },
   "file_extension": ".py",
   "mimetype": "text/x-python",
   "name": "python",
   "nbconvert_exporter": "python",
   "pygments_lexer": "ipython3",
   "version": "3.11.7"
  }
 },
 "nbformat": 4,
 "nbformat_minor": 5
}
