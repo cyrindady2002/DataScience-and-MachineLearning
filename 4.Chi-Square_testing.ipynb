{
 "cells": [
  {
   "cell_type": "markdown",
   "id": "446dec90-ab0a-42f2-ac70-8e615fdde3e4",
   "metadata": {},
   "source": [
    "## Chi-Square Testing"
   ]
  },
  {
   "cell_type": "code",
   "execution_count": 1,
   "id": "665f68ef-79b5-4693-b2c6-64f6e2cabc42",
   "metadata": {},
   "outputs": [],
   "source": [
    "# Satisfaction\t     Smart Thermostat\tSmart Light\t  Total\n",
    "# Very Satisfied\t       50\t            70\t       120\n",
    "# Satisfied\t               80\t            100\t       180\n",
    "# Neutral\t               60\t            90\t       150\n",
    "# Unsatisfied\t           30\t            50\t       80\n",
    "# Very Unsatisfied\t       20\t            50\t       70\n",
    "# Total\t                   240\t            360\t       600"
   ]
  },
  {
   "cell_type": "code",
   "execution_count": 2,
   "id": "52486ad8-0637-4f01-b17a-7e7554f24f27",
   "metadata": {},
   "outputs": [],
   "source": [
    "import scipy.stats as stats\n",
    "import numpy as np"
   ]
  },
  {
   "cell_type": "code",
   "execution_count": 3,
   "id": "39f9065c-1c6b-4d22-8d4f-ab2797e604f2",
   "metadata": {},
   "outputs": [],
   "source": [
    "## Ho: there's no significant association between the type of smart home device purchased and the customer satisfaction level.\n",
    "## Ha: there's a significant association between the type of smart home device purchased and the customer satisfaction level."
   ]
  },
  {
   "cell_type": "code",
   "execution_count": 4,
   "id": "1662d257-c3b2-4bd9-b7a3-20e8e59b74ae",
   "metadata": {},
   "outputs": [
    {
     "data": {
      "text/plain": [
       "array([[ 50,  70],\n",
       "       [ 80, 100],\n",
       "       [ 60,  90],\n",
       "       [ 30,  50],\n",
       "       [ 20,  50]])"
      ]
     },
     "execution_count": 4,
     "metadata": {},
     "output_type": "execute_result"
    }
   ],
   "source": [
    "Observed=np.array([[50,70],[80,100],[60,90],[30,50],[20,50]])\n",
    "Observed"
   ]
  },
  {
   "cell_type": "code",
   "execution_count": 5,
   "id": "88309e9f-876f-4176-8713-a393b6362c9e",
   "metadata": {},
   "outputs": [
    {
     "data": {
      "text/plain": [
       "Chi2ContingencyResult(statistic=5.638227513227513, pvalue=0.22784371130697179, dof=4, expected_freq=array([[ 48.,  72.],\n",
       "       [ 72., 108.],\n",
       "       [ 60.,  90.],\n",
       "       [ 32.,  48.],\n",
       "       [ 28.,  42.]]))"
      ]
     },
     "execution_count": 5,
     "metadata": {},
     "output_type": "execute_result"
    }
   ],
   "source": [
    "Expected=stats.chi2_contingency(Observed)\n",
    "Expected"
   ]
  },
  {
   "cell_type": "code",
   "execution_count": 9,
   "id": "2afef538-c452-4dd1-bbfa-85d4401a0b91",
   "metadata": {},
   "outputs": [
    {
     "data": {
      "text/plain": [
       "9.487729036781154"
      ]
     },
     "execution_count": 9,
     "metadata": {},
     "output_type": "execute_result"
    }
   ],
   "source": [
    "# Critical value calculation\n",
    "# alpha=0.05\n",
    "# Degree of Freedom=5-1=4\n",
    "# chi_critical=stats.chi2.ppf(1-alpha,dof-1)\n",
    "chi_critical=stats.chi2.ppf(.95,4)\n",
    "chi_critical"
   ]
  },
  {
   "cell_type": "code",
   "execution_count": 10,
   "id": "ae722701-36fb-4f51-bb75-595314b2680f",
   "metadata": {},
   "outputs": [],
   "source": [
    "## chi_stats<chi_critical: Fail to reject Ho"
   ]
  },
  {
   "cell_type": "markdown",
   "id": "a6255fd2-800f-4100-90b3-4f00139e7ec5",
   "metadata": {},
   "source": [
    "## Hypothesis testing"
   ]
  },
  {
   "cell_type": "code",
   "execution_count": 11,
   "id": "a228660f-871a-4f5e-85b7-8e8c2d0bd3a9",
   "metadata": {},
   "outputs": [],
   "source": [
    "## Ho:Observed weekly operating costs are lesser.\n",
    "## Ha:Observed weekly operating costs are higher."
   ]
  },
  {
   "cell_type": "code",
   "execution_count": 12,
   "id": "7971a992-1543-43ab-81e6-a6849678620d",
   "metadata": {},
   "outputs": [],
   "source": [
    "## Since sample standard deviation is given we can use T_test for hypothesis testing and also the sample size is small.\n",
    "x_bar=3050\n",
    "theoritical_mean=1000+(5*600)\n",
    "sample_std_dev=5*25\n",
    "n=25\n",
    "alpha=0.05\n",
    "dof=n-1"
   ]
  },
  {
   "cell_type": "code",
   "execution_count": 13,
   "id": "4c90b4af-902f-43a5-852d-7c62ddeea974",
   "metadata": {},
   "outputs": [
    {
     "data": {
      "text/plain": [
       "-38.0"
      ]
     },
     "execution_count": 13,
     "metadata": {},
     "output_type": "execute_result"
    }
   ],
   "source": [
    "import math\n",
    "t_stat=((x_bar-theoritical_mean)/(sample_std_dev/math.sqrt(n)))\n",
    "t_stat"
   ]
  },
  {
   "cell_type": "code",
   "execution_count": 16,
   "id": "86be79d9-abc4-4070-8250-18b0d6402c1e",
   "metadata": {},
   "outputs": [
    {
     "data": {
      "text/plain": [
       "1.959963984540054"
      ]
     },
     "execution_count": 16,
     "metadata": {},
     "output_type": "execute_result"
    }
   ],
   "source": [
    "z_critical=stats.norm.ppf(1-(alpha/2))\n",
    "z_critical"
   ]
  },
  {
   "cell_type": "code",
   "execution_count": null,
   "id": "51a12389-af98-43f6-ac81-a5b8d72b1759",
   "metadata": {},
   "outputs": [],
   "source": [
    "## Conclusion\n",
    "## t_stat<z_critical: Fail to reject Ho\n",
    "## Observed weekly operating costs are may be lesser."
   ]
  }
 ],
 "metadata": {
  "kernelspec": {
   "display_name": "Python 3 (ipykernel)",
   "language": "python",
   "name": "python3"
  },
  "language_info": {
   "codemirror_mode": {
    "name": "ipython",
    "version": 3
   },
   "file_extension": ".py",
   "mimetype": "text/x-python",
   "name": "python",
   "nbconvert_exporter": "python",
   "pygments_lexer": "ipython3",
   "version": "3.11.7"
  }
 },
 "nbformat": 4,
 "nbformat_minor": 5
}
