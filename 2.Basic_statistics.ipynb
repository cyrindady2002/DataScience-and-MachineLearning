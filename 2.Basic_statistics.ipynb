{
 "cells": [
  {
   "cell_type": "markdown",
   "id": "3a593343-d7f1-48c0-8869-e2917b224961",
   "metadata": {},
   "source": [
    "## BASIC STATISTICS"
   ]
  },
  {
   "cell_type": "markdown",
   "id": "1867d95a-4ae6-403e-bd23-988d2c48da0f",
   "metadata": {},
   "source": [
    "##### Descriptive Analytics and Data Preprocessing on Sales & Discounts Dataset"
   ]
  },
  {
   "cell_type": "markdown",
   "id": "e8983557-deda-40b3-b6e6-075f65e1e3d0",
   "metadata": {},
   "source": [
    "#### Descriptive Analytics for Numerical Columns\n",
    "- Objective: To compute and analyze basic statistical measures for numerical columns in the dataset.\t"
   ]
  },
  {
   "cell_type": "code",
   "execution_count": 1,
   "id": "333e7731-b0d6-4d51-81c3-d56a8097dbbe",
   "metadata": {},
   "outputs": [],
   "source": [
    "import pandas as pd\n",
    "import numpy as np\n",
    "import matplotlib.pyplot as plt\n",
    "import seaborn as sns\n",
    "import warnings\n",
    "import warnings\n",
    "warnings.filterwarnings('ignore')"
   ]
  },
  {
   "cell_type": "code",
   "execution_count": 2,
   "id": "70950036-6d16-40b1-907d-00390ead4626",
   "metadata": {},
   "outputs": [
    {
     "data": {
      "text/html": [
       "<div>\n",
       "<style scoped>\n",
       "    .dataframe tbody tr th:only-of-type {\n",
       "        vertical-align: middle;\n",
       "    }\n",
       "\n",
       "    .dataframe tbody tr th {\n",
       "        vertical-align: top;\n",
       "    }\n",
       "\n",
       "    .dataframe thead th {\n",
       "        text-align: right;\n",
       "    }\n",
       "</style>\n",
       "<table border=\"1\" class=\"dataframe\">\n",
       "  <thead>\n",
       "    <tr style=\"text-align: right;\">\n",
       "      <th></th>\n",
       "      <th>Date</th>\n",
       "      <th>Day</th>\n",
       "      <th>SKU</th>\n",
       "      <th>City</th>\n",
       "      <th>Volume</th>\n",
       "      <th>BU</th>\n",
       "      <th>Brand</th>\n",
       "      <th>Model</th>\n",
       "      <th>Avg Price</th>\n",
       "      <th>Total Sales Value</th>\n",
       "      <th>Discount Rate (%)</th>\n",
       "      <th>Discount Amount</th>\n",
       "      <th>Net Sales Value</th>\n",
       "    </tr>\n",
       "  </thead>\n",
       "  <tbody>\n",
       "    <tr>\n",
       "      <th>0</th>\n",
       "      <td>01-04-2021</td>\n",
       "      <td>Thursday</td>\n",
       "      <td>M01</td>\n",
       "      <td>C</td>\n",
       "      <td>15</td>\n",
       "      <td>Mobiles</td>\n",
       "      <td>RealU</td>\n",
       "      <td>RU-10</td>\n",
       "      <td>12100</td>\n",
       "      <td>181500</td>\n",
       "      <td>11.654820</td>\n",
       "      <td>21153.498820</td>\n",
       "      <td>160346.501180</td>\n",
       "    </tr>\n",
       "    <tr>\n",
       "      <th>1</th>\n",
       "      <td>01-04-2021</td>\n",
       "      <td>Thursday</td>\n",
       "      <td>M02</td>\n",
       "      <td>C</td>\n",
       "      <td>10</td>\n",
       "      <td>Mobiles</td>\n",
       "      <td>RealU</td>\n",
       "      <td>RU-9 Plus</td>\n",
       "      <td>10100</td>\n",
       "      <td>101000</td>\n",
       "      <td>11.560498</td>\n",
       "      <td>11676.102961</td>\n",
       "      <td>89323.897039</td>\n",
       "    </tr>\n",
       "    <tr>\n",
       "      <th>2</th>\n",
       "      <td>01-04-2021</td>\n",
       "      <td>Thursday</td>\n",
       "      <td>M03</td>\n",
       "      <td>C</td>\n",
       "      <td>7</td>\n",
       "      <td>Mobiles</td>\n",
       "      <td>YouM</td>\n",
       "      <td>YM-99</td>\n",
       "      <td>16100</td>\n",
       "      <td>112700</td>\n",
       "      <td>9.456886</td>\n",
       "      <td>10657.910157</td>\n",
       "      <td>102042.089843</td>\n",
       "    </tr>\n",
       "    <tr>\n",
       "      <th>3</th>\n",
       "      <td>01-04-2021</td>\n",
       "      <td>Thursday</td>\n",
       "      <td>M04</td>\n",
       "      <td>C</td>\n",
       "      <td>6</td>\n",
       "      <td>Mobiles</td>\n",
       "      <td>YouM</td>\n",
       "      <td>YM-99 Plus</td>\n",
       "      <td>20100</td>\n",
       "      <td>120600</td>\n",
       "      <td>6.935385</td>\n",
       "      <td>8364.074702</td>\n",
       "      <td>112235.925298</td>\n",
       "    </tr>\n",
       "    <tr>\n",
       "      <th>4</th>\n",
       "      <td>01-04-2021</td>\n",
       "      <td>Thursday</td>\n",
       "      <td>M05</td>\n",
       "      <td>C</td>\n",
       "      <td>3</td>\n",
       "      <td>Mobiles</td>\n",
       "      <td>YouM</td>\n",
       "      <td>YM-98</td>\n",
       "      <td>8100</td>\n",
       "      <td>24300</td>\n",
       "      <td>17.995663</td>\n",
       "      <td>4372.946230</td>\n",
       "      <td>19927.053770</td>\n",
       "    </tr>\n",
       "  </tbody>\n",
       "</table>\n",
       "</div>"
      ],
      "text/plain": [
       "         Date       Day  SKU City  Volume       BU  Brand       Model  \\\n",
       "0  01-04-2021  Thursday  M01    C      15  Mobiles  RealU       RU-10   \n",
       "1  01-04-2021  Thursday  M02    C      10  Mobiles  RealU   RU-9 Plus   \n",
       "2  01-04-2021  Thursday  M03    C       7  Mobiles   YouM       YM-99   \n",
       "3  01-04-2021  Thursday  M04    C       6  Mobiles   YouM  YM-99 Plus   \n",
       "4  01-04-2021  Thursday  M05    C       3  Mobiles   YouM      YM-98    \n",
       "\n",
       "   Avg Price  Total Sales Value  Discount Rate (%)  Discount Amount  \\\n",
       "0      12100             181500          11.654820     21153.498820   \n",
       "1      10100             101000          11.560498     11676.102961   \n",
       "2      16100             112700           9.456886     10657.910157   \n",
       "3      20100             120600           6.935385      8364.074702   \n",
       "4       8100              24300          17.995663      4372.946230   \n",
       "\n",
       "   Net Sales Value  \n",
       "0    160346.501180  \n",
       "1     89323.897039  \n",
       "2    102042.089843  \n",
       "3    112235.925298  \n",
       "4     19927.053770  "
      ]
     },
     "execution_count": 2,
     "metadata": {},
     "output_type": "execute_result"
    }
   ],
   "source": [
    "# Load the dataset into a data analysis tool or programming environment (e.g., Python with pandas library).\n",
    "df=pd.read_csv('sales_data_with_discounts.csv')\n",
    "df.head()"
   ]
  },
  {
   "cell_type": "code",
   "execution_count": 3,
   "id": "4ed80bcb-4b60-4d28-a86e-5258aa56b58a",
   "metadata": {},
   "outputs": [
    {
     "data": {
      "text/plain": [
       "['Volume',\n",
       " 'Avg Price',\n",
       " 'Total Sales Value',\n",
       " 'Discount Rate (%)',\n",
       " 'Discount Amount',\n",
       " 'Net Sales Value']"
      ]
     },
     "execution_count": 3,
     "metadata": {},
     "output_type": "execute_result"
    }
   ],
   "source": [
    "# Identify numerical columns in the dataset.\n",
    "num_col=[i for i in df.columns if df[i].dtype!='O']\n",
    "num_col"
   ]
  },
  {
   "cell_type": "code",
   "execution_count": 4,
   "id": "9ff56290-e27c-4429-b982-1d2ceba9e300",
   "metadata": {},
   "outputs": [
    {
     "data": {
      "text/plain": [
       "Volume                   5.066667\n",
       "Avg Price            10453.433333\n",
       "Total Sales Value    33812.835556\n",
       "Discount Rate (%)       15.155242\n",
       "Discount Amount       3346.499424\n",
       "Net Sales Value      30466.336131\n",
       "dtype: float64"
      ]
     },
     "execution_count": 4,
     "metadata": {},
     "output_type": "execute_result"
    }
   ],
   "source": [
    "# Calculate the mean, median, mode, and standard deviation for these columns.\n",
    "df[num_col].mean()"
   ]
  },
  {
   "cell_type": "code",
   "execution_count": 5,
   "id": "482afee2-f29d-43b5-9c2a-5df96098433c",
   "metadata": {},
   "outputs": [
    {
     "data": {
      "text/plain": [
       "Volume                  4.000000\n",
       "Avg Price            1450.000000\n",
       "Total Sales Value    5700.000000\n",
       "Discount Rate (%)      16.577766\n",
       "Discount Amount       988.933733\n",
       "Net Sales Value      4677.788059\n",
       "dtype: float64"
      ]
     },
     "execution_count": 5,
     "metadata": {},
     "output_type": "execute_result"
    }
   ],
   "source": [
    "df[num_col].median()"
   ]
  },
  {
   "cell_type": "code",
   "execution_count": 6,
   "id": "af5f641d-171a-4549-9b11-d7c14bba5780",
   "metadata": {},
   "outputs": [
    {
     "data": {
      "text/plain": [
       "Volume                   4.231602\n",
       "Avg Price            18079.904840\n",
       "Total Sales Value    50535.074173\n",
       "Discount Rate (%)        4.220602\n",
       "Discount Amount       4509.902963\n",
       "Net Sales Value      46358.656624\n",
       "dtype: float64"
      ]
     },
     "execution_count": 6,
     "metadata": {},
     "output_type": "execute_result"
    }
   ],
   "source": [
    "df[num_col].std()"
   ]
  },
  {
   "cell_type": "code",
   "execution_count": 7,
   "id": "23f7413c-626c-4ee3-9fe8-5bf1a776009c",
   "metadata": {},
   "outputs": [
    {
     "name": "stdout",
     "output_type": "stream",
     "text": [
      "Volume : 3\n",
      "Avg Price : 400\n",
      "Total Sales Value : 24300\n",
      "Discount Rate (%) : 5.007822189204133\n",
      "Discount Amount : 69.17794228822787\n",
      "Net Sales Value : 326.97480055470817\n"
     ]
    }
   ],
   "source": [
    "for i in num_col:\n",
    "    print(i,':',df[i].mode()[0])"
   ]
  },
  {
   "cell_type": "code",
   "execution_count": 8,
   "id": "d977630e-d89b-4bd4-974c-a80d8d18c8b3",
   "metadata": {},
   "outputs": [
    {
     "data": {
      "text/plain": [
       "Volume                   5.066667\n",
       "Avg Price            10453.433333\n",
       "Total Sales Value    33812.835556\n",
       "Discount Rate (%)       15.155242\n",
       "Discount Amount       3346.499424\n",
       "Net Sales Value      30466.336131\n",
       "dtype: float64"
      ]
     },
     "execution_count": 8,
     "metadata": {},
     "output_type": "execute_result"
    }
   ],
   "source": [
    "df[num_col].mean()"
   ]
  },
  {
   "cell_type": "markdown",
   "id": "7c069653-7bd1-401a-b920-9da73c13f0c4",
   "metadata": {},
   "source": [
    "##### A brief interpretation of these statistics.\n",
    "- The csv file is first loaded to a dataframe using the pandas library function called read_csv.\n",
    "- Extracted numerical columns using for loop by checking their datatype.\n",
    "- mean, median, standard deviation and mode  are found using pandas inbuilt functions."
   ]
  },
  {
   "cell_type": "markdown",
   "id": "cadf0abc-131a-48af-a730-99b93724e94f",
   "metadata": {},
   "source": [
    "#### Data Visualization\n",
    "- Objective: To visualize the distribution and relationship of numerical and categorical variables in the dataset.\n",
    "- Histograms:\n",
    "\tPlot histograms for each numerical column.\n",
    "\tAnalyze the distribution (e.g., skewness, presence of outliers) and provide inferences."
   ]
  },
  {
   "cell_type": "markdown",
   "id": "cfb55805-8d22-4a31-a568-65058c54a931",
   "metadata": {},
   "source": [
    " outliers are extreme individual data points, while skewness refers to the shape or asymmetry of the entire distribution of data points in a dataset."
   ]
  },
  {
   "cell_type": "code",
   "execution_count": 9,
   "id": "f1e58cd4-7b4e-4f58-8685-f442ce8c24f9",
   "metadata": {},
   "outputs": [
    {
     "data": {
      "text/plain": [
       "array([[<Axes: title={'center': 'Volume'}>]], dtype=object)"
      ]
     },
     "execution_count": 9,
     "metadata": {},
     "output_type": "execute_result"
    },
    {
     "data": {
      "image/png": "[encoded data removed]",
      "text/plain": [
       "<Figure size 200x200 with 1 Axes>"
      ]
     },
     "metadata": {},
     "output_type": "display_data"
    }
   ],
   "source": [
    "df.hist('Volume',bins=20,edgecolor='white',figsize=(2,2))\n",
    "# skewness_Vol=3*(df['Volume'].mean()-df['Volume'].median())/df['Volume'].std() = 0.756214715882607\n",
    "# From this histogram we can see that it has a positive skewness since it has a pattern of decreasing.\n",
    "# Volume data has not much outliers since most of the data stick together."
   ]
  },
  {
   "cell_type": "code",
   "execution_count": 10,
   "id": "07e0fbb2-1fcf-4af7-b5e6-7bd29ad25e86",
   "metadata": {},
   "outputs": [
    {
     "data": {
      "text/plain": [
       "array([[<Axes: title={'center': 'Avg Price'}>]], dtype=object)"
      ]
     },
     "execution_count": 10,
     "metadata": {},
     "output_type": "execute_result"
    },
    {
     "data": {
      "image/png": "[encoded data removed]",
      "text/plain": [
       "<Figure size 200x200 with 1 Axes>"
      ]
     },
     "metadata": {},
     "output_type": "display_data"
    }
   ],
   "source": [
    "df.hist('Avg Price',bins=20,edgecolor='white',figsize=(2,2))\n",
    "# skewness_avg=3*(df['Avg Price'].mean()-df['Avg Price'].median())/df['Avg Price'].std()=1.4939403851472337\n",
    "# From this histogram we can see that it has a positive skewness since it has a pattern of decreasing.\n",
    "# Here we can see the presence of outliers in the rightmost end of the graph."
   ]
  },
  {
   "cell_type": "code",
   "execution_count": 11,
   "id": "6147d364-1c1a-4633-aa2d-473ea9776c92",
   "metadata": {},
   "outputs": [
    {
     "data": {
      "text/plain": [
       "array([[<Axes: title={'center': 'Total Sales Value'}>]], dtype=object)"
      ]
     },
     "execution_count": 11,
     "metadata": {},
     "output_type": "execute_result"
    },
    {
     "data": {
      "image/png": "[encoded data removed]",
      "text/plain": [
       "<Figure size 200x200 with 1 Axes>"
      ]
     },
     "metadata": {},
     "output_type": "display_data"
    }
   ],
   "source": [
    "df.hist('Total Sales Value',bins=20,edgecolor='white',figsize=(2,2))\n",
    "# skewness_tsv=3*(df['Total Sales Value'].mean()-df['Total Sales Value'].median())/df['Total Sales Value'].std()=1.668910317192584\n",
    "# From this histogram we can see that it has a positive skewness since it has a pattern of decreasing.\n",
    "# Total Sales Value data has outliers, since there is data at right most ends."
   ]
  },
  {
   "cell_type": "code",
   "execution_count": 12,
   "id": "aaf3b6c2-5375-4272-8c15-6ff4a7e3f730",
   "metadata": {},
   "outputs": [
    {
     "data": {
      "text/plain": [
       "array([[<Axes: title={'center': 'Discount Rate (%)'}>]], dtype=object)"
      ]
     },
     "execution_count": 12,
     "metadata": {},
     "output_type": "execute_result"
    },
    {
     "data": {
      "image/png": "[encoded data removed]",
      "text/plain": [
       "<Figure size 200x200 with 1 Axes>"
      ]
     },
     "metadata": {},
     "output_type": "display_data"
    }
   ],
   "source": [
    "df.hist('Discount Rate (%)',bins=20,edgecolor='white',figsize=(2,2))\n",
    "# skewness_dr=3*(df['Discount Rate (%)'].mean()-df['Discount Rate (%)'].median())/df['Discount Rate (%)'].std() = -1.0111285325797998\n",
    "# From the figure we can see Discount rate is having negative skewness since the graph is going up with respect to x.\n",
    "# discount rate data has not much outliers since most of the data stick together."
   ]
  },
  {
   "cell_type": "code",
   "execution_count": 13,
   "id": "29d29711-f7ca-4b92-b9f9-0af89c5b869a",
   "metadata": {},
   "outputs": [
    {
     "data": {
      "text/plain": [
       "array([[<Axes: title={'center': 'Discount Amount'}>]], dtype=object)"
      ]
     },
     "execution_count": 13,
     "metadata": {},
     "output_type": "execute_result"
    },
    {
     "data": {
      "image/png": "[encoded data removed]",
      "text/plain": [
       "<Figure size 200x200 with 1 Axes>"
      ]
     },
     "metadata": {},
     "output_type": "display_data"
    }
   ],
   "source": [
    "df.hist('Discount Amount',bins=20,edgecolor='white',figsize=(2,2))\n",
    "# skewness_da=3*(df['Discount Amount'].mean()-df['Discount Amount'].median())/df['Discount Amount'].std()=1.5682592576343306\n",
    "# From this histogram we can see that it has a positive skewness since it has a pattern of decreasing.\n",
    "# Volume data has not much outliers since most of the data stick together."
   ]
  },
  {
   "cell_type": "code",
   "execution_count": 14,
   "id": "1554d4ce-0370-436a-9530-b08a7c0f7588",
   "metadata": {},
   "outputs": [
    {
     "data": {
      "text/plain": [
       "array([[<Axes: title={'center': 'Net Sales Value'}>]], dtype=object)"
      ]
     },
     "execution_count": 14,
     "metadata": {},
     "output_type": "execute_result"
    },
    {
     "data": {
      "image/png": "[encoded data removed]",
      "text/plain": [
       "<Figure size 200x200 with 1 Axes>"
      ]
     },
     "metadata": {},
     "output_type": "display_data"
    }
   ],
   "source": [
    "df.hist('Net Sales Value',bins=20,edgecolor='white',figsize=(2,2))\n",
    "# skewness_nsv=3*(df['Net Sales Value'].mean()-df['Net Sales Value'].median())/df['Net Sales Value'].std()=1.6688500023475823\n",
    "# From this histogram we can see that it has a positive skewness since it has a pattern of decreasing.\n",
    "# Net Sales Value data has some outliers."
   ]
  },
  {
   "cell_type": "markdown",
   "id": "f4e6ef91-386e-4d23-b710-1a626759280a",
   "metadata": {},
   "source": [
    "- Boxplots:\n",
    "\tCreate boxplots for numerical variables to identify outliers and the interquartile range.\n",
    "\tDiscuss any findings, such as extreme values or unusual distributions."
   ]
  },
  {
   "cell_type": "code",
   "execution_count": 15,
   "id": "fba57eb9-7946-4089-9259-bf477dd6b5fe",
   "metadata": {
    "scrolled": true
   },
   "outputs": [
    {
     "data": {
      "text/plain": [
       "([<matplotlib.axis.XTick at 0x20a6be38bd0>,\n",
       "  <matplotlib.axis.XTick at 0x20a6be26e90>,\n",
       "  <matplotlib.axis.XTick at 0x20a6be3fa50>,\n",
       "  <matplotlib.axis.XTick at 0x20a6beb6c90>,\n",
       "  <matplotlib.axis.XTick at 0x20a6bebcdd0>,\n",
       "  <matplotlib.axis.XTick at 0x20a6bebed90>],\n",
       " [Text(1, 0, 'vol'),\n",
       "  Text(2, 0, 'avg_p'),\n",
       "  Text(3, 0, 'T_sale_p'),\n",
       "  Text(4, 0, 'Dis_rate'),\n",
       "  Text(5, 0, 'Dis_amt'),\n",
       "  Text(6, 0, 'Net_s_val')])"
      ]
     },
     "execution_count": 15,
     "metadata": {},
     "output_type": "execute_result"
    },
    {
     "data": {
      "image/png": "[encoded data removed]",
      "text/plain": [
       "<Figure size 640x480 with 1 Axes>"
      ]
     },
     "metadata": {},
     "output_type": "display_data"
    }
   ],
   "source": [
    "plt.boxplot(df[num_col])\n",
    "plt.xticks([1, 2, 3, 4, 5, 6], ['vol', 'avg_p', 'T_sale_p', 'Dis_rate', 'Dis_amt','Net_s_val'])\n",
    "# From the boxplot we can understand that most of the values comes under 0 to 60000, above that the most of the outliers exist.\n",
    "# IQR = Q3-Q1\n",
    "# IQR_vol=7-3=4\n",
    "# IQR_avg_p=11000-0=11000\n",
    "# IQR_T_sale_p=60000-0=60000\n",
    "# IQR_Dis_rate=18-14=4\n",
    "# IQR_Dis_amt=6000-0=6000\n",
    "# IQR_Net_s_val=55000-0=55000"
   ]
  },
  {
   "cell_type": "markdown",
   "id": "753e88c9-7d03-435a-9ed4-c8b8986168a9",
   "metadata": {},
   "source": [
    "- Bar Chart Analysis for Categorical Column:\n",
    "\t- Identify categorical columns in the dataset.\n",
    "\t- Create bar charts to visualize the frequency or count of each category.\n",
    "\t- Analyze the distribution of categories and provide insights."
   ]
  },
  {
   "cell_type": "code",
   "execution_count": 16,
   "id": "effb29b6-f632-41f3-944e-197e6ca01440",
   "metadata": {},
   "outputs": [
    {
     "data": {
      "text/plain": [
       "['Date', 'Day', 'SKU', 'City', 'BU', 'Brand', 'Model']"
      ]
     },
     "execution_count": 16,
     "metadata": {},
     "output_type": "execute_result"
    }
   ],
   "source": [
    "# Identify categorical columns in the dataset.\n",
    "cat_col=[i for i in df.columns if df[i].dtype=='O']\n",
    "cat_col"
   ]
  },
  {
   "cell_type": "code",
   "execution_count": 17,
   "id": "448119fa-7e42-465c-b928-ce29709a0598",
   "metadata": {},
   "outputs": [
    {
     "name": "stdout",
     "output_type": "stream",
     "text": [
      "<class 'pandas.core.frame.DataFrame'>\n",
      "RangeIndex: 450 entries, 0 to 449\n",
      "Data columns (total 7 columns):\n",
      " #   Column  Non-Null Count  Dtype \n",
      "---  ------  --------------  ----- \n",
      " 0   Date    450 non-null    object\n",
      " 1   Day     450 non-null    object\n",
      " 2   SKU     450 non-null    object\n",
      " 3   City    450 non-null    object\n",
      " 4   BU      450 non-null    object\n",
      " 5   Brand   450 non-null    object\n",
      " 6   Model   450 non-null    object\n",
      "dtypes: object(7)\n",
      "memory usage: 24.7+ KB\n"
     ]
    }
   ],
   "source": [
    "df[cat_col].info()"
   ]
  },
  {
   "cell_type": "code",
   "execution_count": 18,
   "id": "185bd962-f957-48ed-b029-a63505c8e69b",
   "metadata": {},
   "outputs": [
    {
     "data": {
      "text/plain": [
       "<Axes: title={'center': 'Date V/S Frequency'}, xlabel='Date'>"
      ]
     },
     "execution_count": 18,
     "metadata": {},
     "output_type": "execute_result"
    },
    {
     "data": {
      "image/png": "[encoded data removed]",
      "text/plain": [
       "<Figure size 640x480 with 1 Axes>"
      ]
     },
     "metadata": {},
     "output_type": "display_data"
    }
   ],
   "source": [
    "freq = df['Date'].value_counts().sort_index()\n",
    "freq.plot.bar(title='Date V/S Frequency')"
   ]
  },
  {
   "cell_type": "code",
   "execution_count": 19,
   "id": "021ed781-0d64-414d-be44-4d198fb61ef6",
   "metadata": {},
   "outputs": [
    {
     "data": {
      "text/plain": [
       "<Axes: title={'center': 'Day V/S Frequency'}, xlabel='Day'>"
      ]
     },
     "execution_count": 19,
     "metadata": {},
     "output_type": "execute_result"
    },
    {
     "data": {
      "image/png": "[encoded data removed]",
      "text/plain": [
       "<Figure size 640x480 with 1 Axes>"
      ]
     },
     "metadata": {},
     "output_type": "display_data"
    }
   ],
   "source": [
    "freq = df['Day'].value_counts().sort_index()\n",
    "freq.plot.bar(title='Day V/S Frequency')"
   ]
  },
  {
   "cell_type": "code",
   "execution_count": 20,
   "id": "a1f06085-9df8-4b38-902c-9dd4409f1e2e",
   "metadata": {},
   "outputs": [
    {
     "data": {
      "text/plain": [
       "<Axes: title={'center': 'SKU V/S Frequency'}, xlabel='SKU'>"
      ]
     },
     "execution_count": 20,
     "metadata": {},
     "output_type": "execute_result"
    },
    {
     "data": {
      "image/png": "[encoded data removed]",
      "text/plain": [
       "<Figure size 640x480 with 1 Axes>"
      ]
     },
     "metadata": {},
     "output_type": "display_data"
    }
   ],
   "source": [
    "freq = df['SKU'].value_counts().sort_index()\n",
    "freq.plot.bar(title='SKU V/S Frequency')"
   ]
  },
  {
   "cell_type": "code",
   "execution_count": 21,
   "id": "0e91bec3-89b8-4f99-ba7b-32fed01e9067",
   "metadata": {},
   "outputs": [
    {
     "data": {
      "text/plain": [
       "<Axes: title={'center': 'City V/S Frequency'}, xlabel='City'>"
      ]
     },
     "execution_count": 21,
     "metadata": {},
     "output_type": "execute_result"
    },
    {
     "data": {
      "image/png": "[encoded data removed]",
      "text/plain": [
       "<Figure size 640x480 with 1 Axes>"
      ]
     },
     "metadata": {},
     "output_type": "display_data"
    }
   ],
   "source": [
    "freq = df['City'].value_counts().sort_index()\n",
    "freq.plot.bar(title='City V/S Frequency')"
   ]
  },
  {
   "cell_type": "code",
   "execution_count": 22,
   "id": "9b89660c-cdcc-4465-b814-96c14b49ebf9",
   "metadata": {},
   "outputs": [
    {
     "data": {
      "text/plain": [
       "<Axes: title={'center': ' BU V/S Frequency'}, xlabel='BU'>"
      ]
     },
     "execution_count": 22,
     "metadata": {},
     "output_type": "execute_result"
    },
    {
     "data": {
      "image/png": "[encoded data removed]",
      "text/plain": [
       "<Figure size 640x480 with 1 Axes>"
      ]
     },
     "metadata": {},
     "output_type": "display_data"
    }
   ],
   "source": [
    "freq = df['BU'].value_counts().sort_index()\n",
    "freq.plot.bar(title=' BU V/S Frequency')"
   ]
  },
  {
   "cell_type": "code",
   "execution_count": 23,
   "id": "63a20a10-0806-41e1-8da7-df65a7e57141",
   "metadata": {},
   "outputs": [
    {
     "data": {
      "text/plain": [
       "<Axes: title={'center': 'Brand V/S Frequency'}, xlabel='Brand'>"
      ]
     },
     "execution_count": 23,
     "metadata": {},
     "output_type": "execute_result"
    },
    {
     "data": {
      "image/png": "[encoded data removed]",
      "text/plain": [
       "<Figure size 640x480 with 1 Axes>"
      ]
     },
     "metadata": {},
     "output_type": "display_data"
    }
   ],
   "source": [
    "freq = df['Brand'].value_counts().sort_index()\n",
    "freq.plot.bar(title='Brand V/S Frequency')"
   ]
  },
  {
   "cell_type": "code",
   "execution_count": 24,
   "id": "ccb4a9a2-9a69-49de-83c0-3aa1e46b4010",
   "metadata": {},
   "outputs": [
    {
     "data": {
      "text/plain": [
       "<Axes: title={'center': 'Model V/S Frequency '}, xlabel='Model'>"
      ]
     },
     "execution_count": 24,
     "metadata": {},
     "output_type": "execute_result"
    },
    {
     "data": {
      "image/png": "[encoded data removed]",
      "text/plain": [
       "<Figure size 640x480 with 1 Axes>"
      ]
     },
     "metadata": {},
     "output_type": "display_data"
    }
   ],
   "source": [
    "freq = df['Model'].value_counts().sort_index()\n",
    "freq.plot.bar(title='Model V/S Frequency ')"
   ]
  },
  {
   "cell_type": "markdown",
   "id": "a755b385-54b2-406a-a4ce-3be93ed1b053",
   "metadata": {},
   "source": [
    "- Standardization of Numerical Variables\n",
    " - Objective: To scale numerical variables for uniformity, improving the dataset’s suitability for analytical models.\n",
    "  - Steps:\n",
    "\tExplain the concept of standardization (z-score normalization).\n",
    "\tStandardize the numerical columns using the formula: z=x-mu/sigma\n",
    "\t\n",
    "\tShow before and after comparisons of the data distributions.\n"
   ]
  },
  {
   "cell_type": "markdown",
   "id": "627c3753-1a13-443e-9232-7641aafe05a0",
   "metadata": {},
   "source": [
    "#### Explain the concept of standardization (z-score normalization).\n",
    " - Standardization (also called Z-score normalization) is a technique used to scale data by transforming it into a distribution with a mean of 0 and a standard deviation of 1. This is especially useful when comparing datasets that have different units or scales.\n",
    "\n",
    " - The formula for Z-score normalization is:\n",
    "     𝑧=x−μ/σ\n",
    " - Where:\n",
    "   - z is the standardized value,\n",
    "   - x is the original data point,\n",
    "   - μ is the mean of the dataset,\n",
    "   - σ is the standard deviation of the dataset.\n",
    "\n",
    "1. Eliminate Units: It ensures that features with different units or magnitudes do not disproportionately influence the model.\n",
    "2. Improve Performance: Standardization can help gradient-based models (like logistic regression, neural networks, etc.) converge faster.\n",
    "3. Handle Different Scales: When datasets have different ranges, standardization ensures they are comparable."
   ]
  },
  {
   "cell_type": "markdown",
   "id": "c6c7dff9-1c13-4a71-8b22-b6cff61138da",
   "metadata": {},
   "source": [
    "#### Standardize the numerical columns using the formula: z=x-mu/sigma"
   ]
  },
  {
   "cell_type": "code",
   "execution_count": 25,
   "id": "2e975bb6-4ab0-4dec-90ad-9a81da716ea0",
   "metadata": {},
   "outputs": [
    {
     "data": {
      "text/plain": [
       "0      2.347417\n",
       "1      1.165831\n",
       "2      0.456880\n",
       "3      0.220563\n",
       "4     -0.488389\n",
       "         ...   \n",
       "445   -0.724706\n",
       "446    0.220563\n",
       "447   -0.724706\n",
       "448   -0.488389\n",
       "449   -0.961023\n",
       "Name: Volume, Length: 450, dtype: float64"
      ]
     },
     "execution_count": 25,
     "metadata": {},
     "output_type": "execute_result"
    }
   ],
   "source": [
    "zscore_vol=(df['Volume']-df['Volume'].mean())/df['Volume'].std()\n",
    "zscore_vol"
   ]
  },
  {
   "cell_type": "code",
   "execution_count": 46,
   "id": "8b84cba4-7cb3-401e-a95b-506a6debf27e",
   "metadata": {},
   "outputs": [
    {
     "data": {
      "text/plain": [
       "<Axes: >"
      ]
     },
     "execution_count": 46,
     "metadata": {},
     "output_type": "execute_result"
    },
    {
     "data": {
      "image/png": "[encoded data removed]",
      "text/plain": [
       "<Figure size 640x480 with 1 Axes>"
      ]
     },
     "metadata": {},
     "output_type": "display_data"
    }
   ],
   "source": [
    "zscore_vol.plot.bar()"
   ]
  },
  {
   "cell_type": "code",
   "execution_count": 27,
   "id": "fe9a4881-3a80-4636-9379-390198d35ff0",
   "metadata": {},
   "outputs": [
    {
     "data": {
      "text/plain": [
       "0      0.091072\n",
       "1     -0.019548\n",
       "2      0.312312\n",
       "3      0.533552\n",
       "4     -0.130168\n",
       "         ...   \n",
       "445   -0.506277\n",
       "446   -0.434374\n",
       "447   -0.489684\n",
       "448   -0.473091\n",
       "449   -0.406719\n",
       "Name: Avg Price, Length: 450, dtype: float64"
      ]
     },
     "execution_count": 27,
     "metadata": {},
     "output_type": "execute_result"
    }
   ],
   "source": [
    "zscore_AvgPrice=(df['Avg Price']-df['Avg Price'].mean())/df['Avg Price'].std()\n",
    "zscore_AvgPrice"
   ]
  },
  {
   "cell_type": "code",
   "execution_count": 28,
   "id": "ca1442ce-1d72-4a03-b316-8cc484d9e21f",
   "metadata": {},
   "outputs": [
    {
     "data": {
      "text/plain": [
       "<Axes: >"
      ]
     },
     "execution_count": 28,
     "metadata": {},
     "output_type": "execute_result"
    },
    {
     "data": {
      "image/png": "[encoded data removed]",
      "text/plain": [
       "<Figure size 640x480 with 1 Axes>"
      ]
     },
     "metadata": {},
     "output_type": "display_data"
    }
   ],
   "source": [
    "zscore_AvgPrice.plot.bar()"
   ]
  },
  {
   "cell_type": "code",
   "execution_count": 29,
   "id": "86e675f4-7310-4b44-be5b-08dc1110eca2",
   "metadata": {},
   "outputs": [
    {
     "data": {
      "text/plain": [
       "0      2.922469\n",
       "1      1.329516\n",
       "2      1.561038\n",
       "3      1.717365\n",
       "4     -0.188242\n",
       "         ...   \n",
       "445   -0.617647\n",
       "446   -0.360400\n",
       "447   -0.605774\n",
       "448   -0.556303\n",
       "449   -0.607753\n",
       "Name: Total Sales Value, Length: 450, dtype: float64"
      ]
     },
     "execution_count": 29,
     "metadata": {},
     "output_type": "execute_result"
    }
   ],
   "source": [
    "zscore_TotalSalesValue=(df['Total Sales Value']-df['Total Sales Value'].mean())/df['Total Sales Value'].std()\n",
    "zscore_TotalSalesValue"
   ]
  },
  {
   "cell_type": "code",
   "execution_count": 30,
   "id": "2da01126-526f-4a02-8080-899d505de456",
   "metadata": {},
   "outputs": [
    {
     "data": {
      "text/plain": [
       "<Axes: >"
      ]
     },
     "execution_count": 30,
     "metadata": {},
     "output_type": "execute_result"
    },
    {
     "data": {
      "image/png": "[encoded data removed]",
      "text/plain": [
       "<Figure size 640x480 with 1 Axes>"
      ]
     },
     "metadata": {},
     "output_type": "display_data"
    }
   ],
   "source": [
    "zscore_TotalSalesValue.plot.bar()"
   ]
  },
  {
   "cell_type": "code",
   "execution_count": 31,
   "id": "4da6933d-8b42-443a-8121-920da4ab017f",
   "metadata": {},
   "outputs": [
    {
     "data": {
      "text/plain": [
       "0     -0.829365\n",
       "1     -0.851714\n",
       "2     -1.350129\n",
       "3     -1.947555\n",
       "4      0.672990\n",
       "         ...   \n",
       "445    0.075924\n",
       "446    0.450596\n",
       "447    0.902788\n",
       "448    0.388042\n",
       "449    0.042188\n",
       "Name: Discount Rate (%), Length: 450, dtype: float64"
      ]
     },
     "execution_count": 31,
     "metadata": {},
     "output_type": "execute_result"
    }
   ],
   "source": [
    "zscore_DiscountRate=(df['Discount Rate (%)']-df['Discount Rate (%)'].mean())/df['Discount Rate (%)'].std()\n",
    "zscore_DiscountRate"
   ]
  },
  {
   "cell_type": "code",
   "execution_count": 32,
   "id": "29ff2f64-3e77-4d0f-825b-ab1b137cdcaf",
   "metadata": {},
   "outputs": [
    {
     "data": {
      "text/plain": [
       "<Axes: >"
      ]
     },
     "execution_count": 32,
     "metadata": {},
     "output_type": "execute_result"
    },
    {
     "data": {
      "image/png": "[encoded data removed]",
      "text/plain": [
       "<Figure size 640x480 with 1 Axes>"
      ]
     },
     "metadata": {},
     "output_type": "display_data"
    }
   ],
   "source": [
    "zscore_DiscountRate.plot.bar()"
   ]
  },
  {
   "cell_type": "code",
   "execution_count": 33,
   "id": "ab884e23-aab1-4940-82ec-fd5702a9eba7",
   "metadata": {},
   "outputs": [
    {
     "data": {
      "text/plain": [
       "0      3.948422\n",
       "1      1.846958\n",
       "2      1.621190\n",
       "3      1.112568\n",
       "4      0.227598\n",
       "         ...   \n",
       "445   -0.652815\n",
       "446   -0.152022\n",
       "447   -0.607464\n",
       "448   -0.529789\n",
       "449   -0.636636\n",
       "Name: Discount Amount, Length: 450, dtype: float64"
      ]
     },
     "execution_count": 33,
     "metadata": {},
     "output_type": "execute_result"
    }
   ],
   "source": [
    "zscore_DiscountAmount=(df['Discount Amount']-df['Discount Amount'].mean())/df['Discount Amount'].std()\n",
    "zscore_DiscountAmount"
   ]
  },
  {
   "cell_type": "code",
   "execution_count": 34,
   "id": "16e42a05-6f80-4bc4-aeca-bf1a50341097",
   "metadata": {},
   "outputs": [
    {
     "data": {
      "text/plain": [
       "<Axes: >"
      ]
     },
     "execution_count": 34,
     "metadata": {},
     "output_type": "execute_result"
    },
    {
     "data": {
      "image/png": "[encoded data removed]",
      "text/plain": [
       "<Figure size 640x480 with 1 Axes>"
      ]
     },
     "metadata": {},
     "output_type": "display_data"
    }
   ],
   "source": [
    "zscore_DiscountAmount.plot.bar()"
   ]
  },
  {
   "cell_type": "code",
   "execution_count": 35,
   "id": "887d8c6e-11a3-4aeb-97b2-1d1b92c59978",
   "metadata": {},
   "outputs": [
    {
     "data": {
      "text/plain": [
       "0      2.801638\n",
       "1      1.269613\n",
       "2      1.543957\n",
       "3      1.763847\n",
       "4     -0.227342\n",
       "         ...   \n",
       "445   -0.609783\n",
       "446   -0.378079\n",
       "447   -0.601252\n",
       "448   -0.554881\n",
       "449   -0.600571\n",
       "Name: Net Sales Value, Length: 450, dtype: float64"
      ]
     },
     "execution_count": 35,
     "metadata": {},
     "output_type": "execute_result"
    }
   ],
   "source": [
    "zscore_NetSalesValue=(df['Net Sales Value']-df['Net Sales Value'].mean())/df['Net Sales Value'].std()\n",
    "zscore_NetSalesValue"
   ]
  },
  {
   "cell_type": "code",
   "execution_count": 36,
   "id": "47448d1a-d555-463a-9e9a-514e5c8a096d",
   "metadata": {},
   "outputs": [
    {
     "data": {
      "text/plain": [
       "<Axes: >"
      ]
     },
     "execution_count": 36,
     "metadata": {},
     "output_type": "execute_result"
    },
    {
     "data": {
      "image/png": "[encoded data removed]",
      "text/plain": [
       "<Figure size 640x480 with 1 Axes>"
      ]
     },
     "metadata": {},
     "output_type": "display_data"
    }
   ],
   "source": [
    "zscore_NetSalesValue.plot.bar()"
   ]
  },
  {
   "cell_type": "markdown",
   "id": "44104449-4d76-4e28-a6dc-f8ce04c07fda",
   "metadata": {},
   "source": [
    "#### Show before and after comparisons of the data distributions.\n",
    " - Before Standardization: The data have different scales and units (like hundreds or thousands).\n",
    " - After Standardization: The transformed is centered around 0 with most of the values falling between -5 and 5. Each feature will have a mean of 0 and a standard deviation of 1."
   ]
  },
  {
   "cell_type": "markdown",
   "id": "3a78489a-e059-4f69-8101-946097af830c",
   "metadata": {},
   "source": [
    "##### Conversion of Categorical Data into Dummy Variables\n",
    "- Objective: To transform categorical variables into a format that can be provided to ML algorithms.\n",
    "- Steps:\n",
    "\t- Discuss the need for converting categorical data into dummy variables (one-hot encoding).\n",
    "\t- Apply one-hot encoding to the categorical columns, creating binary (0 or 1) columns for each category.\n",
    "\t- Display a portion of the transformed dataset.\n"
   ]
  },
  {
   "cell_type": "code",
   "execution_count": 37,
   "id": "773772e6-48d8-47cb-b94a-6750c5ee9e56",
   "metadata": {},
   "outputs": [],
   "source": [
    "data=df"
   ]
  },
  {
   "cell_type": "markdown",
   "id": "2a66c506-765a-4f74-9ca5-250d2d8c04e9",
   "metadata": {},
   "source": [
    "### Discuss the need for converting categorical data into dummy variables (one-hot encoding).\n",
    "- Converts Categorical Data: One-hot encoding transforms categorical features into binary variables, making them suitable for machine learning models.\n",
    "- Avoids False Relationships: It prevents the introduction of false ordinal relationships between categories.\n",
    "- Creates Independent Features: Each category is treated as a separate, independent feature.\n",
    "- Increases Dimensionality: One-hot encoding can significantly increase the number of features, especially for categories with many unique values.\n",
    "- Improves Model Compatibility: It is crucial for ensuring that non-numeric data can be effectively used in machine learning algorithms."
   ]
  },
  {
   "cell_type": "code",
   "execution_count": 38,
   "id": "929843cd-1961-4fff-9554-c3283c6cefc2",
   "metadata": {},
   "outputs": [
    {
     "data": {
      "text/html": [
       "<div>\n",
       "<style scoped>\n",
       "    .dataframe tbody tr th:only-of-type {\n",
       "        vertical-align: middle;\n",
       "    }\n",
       "\n",
       "    .dataframe tbody tr th {\n",
       "        vertical-align: top;\n",
       "    }\n",
       "\n",
       "    .dataframe thead th {\n",
       "        text-align: right;\n",
       "    }\n",
       "</style>\n",
       "<table border=\"1\" class=\"dataframe\">\n",
       "  <thead>\n",
       "    <tr style=\"text-align: right;\">\n",
       "      <th></th>\n",
       "      <th>Volume</th>\n",
       "      <th>Avg Price</th>\n",
       "      <th>Total Sales Value</th>\n",
       "      <th>Discount Rate (%)</th>\n",
       "      <th>Discount Amount</th>\n",
       "      <th>Net Sales Value</th>\n",
       "      <th>Date_01-04-2021</th>\n",
       "      <th>Date_02-04-2021</th>\n",
       "      <th>Date_03-04-2021</th>\n",
       "      <th>Date_04-04-2021</th>\n",
       "      <th>...</th>\n",
       "      <th>Model_Vedic Cream</th>\n",
       "      <th>Model_Vedic Oil</th>\n",
       "      <th>Model_Vedic Shampoo</th>\n",
       "      <th>Model_W-Casuals</th>\n",
       "      <th>Model_W-Inners</th>\n",
       "      <th>Model_W-Lounge</th>\n",
       "      <th>Model_W-Western</th>\n",
       "      <th>Model_YM-98</th>\n",
       "      <th>Model_YM-99</th>\n",
       "      <th>Model_YM-99 Plus</th>\n",
       "    </tr>\n",
       "  </thead>\n",
       "  <tbody>\n",
       "    <tr>\n",
       "      <th>0</th>\n",
       "      <td>15</td>\n",
       "      <td>12100</td>\n",
       "      <td>181500</td>\n",
       "      <td>11.654820</td>\n",
       "      <td>21153.498820</td>\n",
       "      <td>160346.501180</td>\n",
       "      <td>1</td>\n",
       "      <td>0</td>\n",
       "      <td>0</td>\n",
       "      <td>0</td>\n",
       "      <td>...</td>\n",
       "      <td>0</td>\n",
       "      <td>0</td>\n",
       "      <td>0</td>\n",
       "      <td>0</td>\n",
       "      <td>0</td>\n",
       "      <td>0</td>\n",
       "      <td>0</td>\n",
       "      <td>0</td>\n",
       "      <td>0</td>\n",
       "      <td>0</td>\n",
       "    </tr>\n",
       "    <tr>\n",
       "      <th>1</th>\n",
       "      <td>10</td>\n",
       "      <td>10100</td>\n",
       "      <td>101000</td>\n",
       "      <td>11.560498</td>\n",
       "      <td>11676.102961</td>\n",
       "      <td>89323.897039</td>\n",
       "      <td>1</td>\n",
       "      <td>0</td>\n",
       "      <td>0</td>\n",
       "      <td>0</td>\n",
       "      <td>...</td>\n",
       "      <td>0</td>\n",
       "      <td>0</td>\n",
       "      <td>0</td>\n",
       "      <td>0</td>\n",
       "      <td>0</td>\n",
       "      <td>0</td>\n",
       "      <td>0</td>\n",
       "      <td>0</td>\n",
       "      <td>0</td>\n",
       "      <td>0</td>\n",
       "    </tr>\n",
       "    <tr>\n",
       "      <th>2</th>\n",
       "      <td>7</td>\n",
       "      <td>16100</td>\n",
       "      <td>112700</td>\n",
       "      <td>9.456886</td>\n",
       "      <td>10657.910157</td>\n",
       "      <td>102042.089843</td>\n",
       "      <td>1</td>\n",
       "      <td>0</td>\n",
       "      <td>0</td>\n",
       "      <td>0</td>\n",
       "      <td>...</td>\n",
       "      <td>0</td>\n",
       "      <td>0</td>\n",
       "      <td>0</td>\n",
       "      <td>0</td>\n",
       "      <td>0</td>\n",
       "      <td>0</td>\n",
       "      <td>0</td>\n",
       "      <td>0</td>\n",
       "      <td>1</td>\n",
       "      <td>0</td>\n",
       "    </tr>\n",
       "    <tr>\n",
       "      <th>3</th>\n",
       "      <td>6</td>\n",
       "      <td>20100</td>\n",
       "      <td>120600</td>\n",
       "      <td>6.935385</td>\n",
       "      <td>8364.074702</td>\n",
       "      <td>112235.925298</td>\n",
       "      <td>1</td>\n",
       "      <td>0</td>\n",
       "      <td>0</td>\n",
       "      <td>0</td>\n",
       "      <td>...</td>\n",
       "      <td>0</td>\n",
       "      <td>0</td>\n",
       "      <td>0</td>\n",
       "      <td>0</td>\n",
       "      <td>0</td>\n",
       "      <td>0</td>\n",
       "      <td>0</td>\n",
       "      <td>0</td>\n",
       "      <td>0</td>\n",
       "      <td>1</td>\n",
       "    </tr>\n",
       "    <tr>\n",
       "      <th>4</th>\n",
       "      <td>3</td>\n",
       "      <td>8100</td>\n",
       "      <td>24300</td>\n",
       "      <td>17.995663</td>\n",
       "      <td>4372.946230</td>\n",
       "      <td>19927.053770</td>\n",
       "      <td>1</td>\n",
       "      <td>0</td>\n",
       "      <td>0</td>\n",
       "      <td>0</td>\n",
       "      <td>...</td>\n",
       "      <td>0</td>\n",
       "      <td>0</td>\n",
       "      <td>0</td>\n",
       "      <td>0</td>\n",
       "      <td>0</td>\n",
       "      <td>0</td>\n",
       "      <td>0</td>\n",
       "      <td>1</td>\n",
       "      <td>0</td>\n",
       "      <td>0</td>\n",
       "    </tr>\n",
       "  </tbody>\n",
       "</table>\n",
       "<p>5 rows × 101 columns</p>\n",
       "</div>"
      ],
      "text/plain": [
       "   Volume  Avg Price  Total Sales Value  Discount Rate (%)  Discount Amount  \\\n",
       "0      15      12100             181500          11.654820     21153.498820   \n",
       "1      10      10100             101000          11.560498     11676.102961   \n",
       "2       7      16100             112700           9.456886     10657.910157   \n",
       "3       6      20100             120600           6.935385      8364.074702   \n",
       "4       3       8100              24300          17.995663      4372.946230   \n",
       "\n",
       "   Net Sales Value  Date_01-04-2021  Date_02-04-2021  Date_03-04-2021  \\\n",
       "0    160346.501180                1                0                0   \n",
       "1     89323.897039                1                0                0   \n",
       "2    102042.089843                1                0                0   \n",
       "3    112235.925298                1                0                0   \n",
       "4     19927.053770                1                0                0   \n",
       "\n",
       "   Date_04-04-2021  ...  Model_Vedic Cream  Model_Vedic Oil  \\\n",
       "0                0  ...                  0                0   \n",
       "1                0  ...                  0                0   \n",
       "2                0  ...                  0                0   \n",
       "3                0  ...                  0                0   \n",
       "4                0  ...                  0                0   \n",
       "\n",
       "   Model_Vedic Shampoo  Model_W-Casuals  Model_W-Inners  Model_W-Lounge  \\\n",
       "0                    0                0               0               0   \n",
       "1                    0                0               0               0   \n",
       "2                    0                0               0               0   \n",
       "3                    0                0               0               0   \n",
       "4                    0                0               0               0   \n",
       "\n",
       "   Model_W-Western  Model_YM-98   Model_YM-99  Model_YM-99 Plus  \n",
       "0                0             0            0                 0  \n",
       "1                0             0            0                 0  \n",
       "2                0             0            1                 0  \n",
       "3                0             0            0                 1  \n",
       "4                0             1            0                 0  \n",
       "\n",
       "[5 rows x 101 columns]"
      ]
     },
     "execution_count": 38,
     "metadata": {},
     "output_type": "execute_result"
    }
   ],
   "source": [
    "pd.get_dummies(data,dtype='int').head()"
   ]
  },
  {
   "cell_type": "code",
   "execution_count": 39,
   "id": "02ecf3c7-0937-4a0c-b89b-57b90de4e0db",
   "metadata": {},
   "outputs": [],
   "source": [
    "from sklearn.preprocessing import OneHotEncoder"
   ]
  },
  {
   "cell_type": "code",
   "execution_count": 40,
   "id": "4f1a9ae3-4a07-4e9b-a353-e54d6cb19fa3",
   "metadata": {},
   "outputs": [],
   "source": [
    "one_hot=OneHotEncoder()"
   ]
  },
  {
   "cell_type": "code",
   "execution_count": 41,
   "id": "c237805f-7bfc-46c4-a5f1-af343817f7a1",
   "metadata": {},
   "outputs": [],
   "source": [
    "df1=pd.DataFrame(one_hot.fit_transform(data[['Volume','Avg Price','Total Sales Value','Discount Rate (%)','Discount Amount','Net Sales Value']]).toarray())"
   ]
  },
  {
   "cell_type": "code",
   "execution_count": 42,
   "id": "89943c3e-6471-43a0-9b75-f315902cf13b",
   "metadata": {},
   "outputs": [
    {
     "data": {
      "text/html": [
       "<div>\n",
       "<style scoped>\n",
       "    .dataframe tbody tr th:only-of-type {\n",
       "        vertical-align: middle;\n",
       "    }\n",
       "\n",
       "    .dataframe tbody tr th {\n",
       "        vertical-align: top;\n",
       "    }\n",
       "\n",
       "    .dataframe thead th {\n",
       "        text-align: right;\n",
       "    }\n",
       "</style>\n",
       "<table border=\"1\" class=\"dataframe\">\n",
       "  <thead>\n",
       "    <tr style=\"text-align: right;\">\n",
       "      <th></th>\n",
       "      <th>0</th>\n",
       "      <th>1</th>\n",
       "      <th>2</th>\n",
       "      <th>3</th>\n",
       "      <th>4</th>\n",
       "      <th>5</th>\n",
       "      <th>6</th>\n",
       "      <th>7</th>\n",
       "      <th>8</th>\n",
       "      <th>9</th>\n",
       "      <th>...</th>\n",
       "      <th>1522</th>\n",
       "      <th>1523</th>\n",
       "      <th>1524</th>\n",
       "      <th>1525</th>\n",
       "      <th>1526</th>\n",
       "      <th>1527</th>\n",
       "      <th>1528</th>\n",
       "      <th>1529</th>\n",
       "      <th>1530</th>\n",
       "      <th>1531</th>\n",
       "    </tr>\n",
       "  </thead>\n",
       "  <tbody>\n",
       "    <tr>\n",
       "      <th>0</th>\n",
       "      <td>0.0</td>\n",
       "      <td>0.0</td>\n",
       "      <td>0.0</td>\n",
       "      <td>0.0</td>\n",
       "      <td>0.0</td>\n",
       "      <td>0.0</td>\n",
       "      <td>0.0</td>\n",
       "      <td>0.0</td>\n",
       "      <td>0.0</td>\n",
       "      <td>0.0</td>\n",
       "      <td>...</td>\n",
       "      <td>0.0</td>\n",
       "      <td>0.0</td>\n",
       "      <td>0.0</td>\n",
       "      <td>1.0</td>\n",
       "      <td>0.0</td>\n",
       "      <td>0.0</td>\n",
       "      <td>0.0</td>\n",
       "      <td>0.0</td>\n",
       "      <td>0.0</td>\n",
       "      <td>0.0</td>\n",
       "    </tr>\n",
       "    <tr>\n",
       "      <th>1</th>\n",
       "      <td>0.0</td>\n",
       "      <td>0.0</td>\n",
       "      <td>0.0</td>\n",
       "      <td>0.0</td>\n",
       "      <td>0.0</td>\n",
       "      <td>0.0</td>\n",
       "      <td>0.0</td>\n",
       "      <td>0.0</td>\n",
       "      <td>0.0</td>\n",
       "      <td>1.0</td>\n",
       "      <td>...</td>\n",
       "      <td>0.0</td>\n",
       "      <td>0.0</td>\n",
       "      <td>0.0</td>\n",
       "      <td>0.0</td>\n",
       "      <td>0.0</td>\n",
       "      <td>0.0</td>\n",
       "      <td>0.0</td>\n",
       "      <td>0.0</td>\n",
       "      <td>0.0</td>\n",
       "      <td>0.0</td>\n",
       "    </tr>\n",
       "    <tr>\n",
       "      <th>2</th>\n",
       "      <td>0.0</td>\n",
       "      <td>0.0</td>\n",
       "      <td>0.0</td>\n",
       "      <td>0.0</td>\n",
       "      <td>0.0</td>\n",
       "      <td>0.0</td>\n",
       "      <td>1.0</td>\n",
       "      <td>0.0</td>\n",
       "      <td>0.0</td>\n",
       "      <td>0.0</td>\n",
       "      <td>...</td>\n",
       "      <td>0.0</td>\n",
       "      <td>0.0</td>\n",
       "      <td>0.0</td>\n",
       "      <td>0.0</td>\n",
       "      <td>0.0</td>\n",
       "      <td>0.0</td>\n",
       "      <td>0.0</td>\n",
       "      <td>0.0</td>\n",
       "      <td>0.0</td>\n",
       "      <td>0.0</td>\n",
       "    </tr>\n",
       "    <tr>\n",
       "      <th>3</th>\n",
       "      <td>0.0</td>\n",
       "      <td>0.0</td>\n",
       "      <td>0.0</td>\n",
       "      <td>0.0</td>\n",
       "      <td>0.0</td>\n",
       "      <td>1.0</td>\n",
       "      <td>0.0</td>\n",
       "      <td>0.0</td>\n",
       "      <td>0.0</td>\n",
       "      <td>0.0</td>\n",
       "      <td>...</td>\n",
       "      <td>0.0</td>\n",
       "      <td>0.0</td>\n",
       "      <td>0.0</td>\n",
       "      <td>0.0</td>\n",
       "      <td>0.0</td>\n",
       "      <td>0.0</td>\n",
       "      <td>0.0</td>\n",
       "      <td>0.0</td>\n",
       "      <td>0.0</td>\n",
       "      <td>0.0</td>\n",
       "    </tr>\n",
       "    <tr>\n",
       "      <th>4</th>\n",
       "      <td>0.0</td>\n",
       "      <td>0.0</td>\n",
       "      <td>1.0</td>\n",
       "      <td>0.0</td>\n",
       "      <td>0.0</td>\n",
       "      <td>0.0</td>\n",
       "      <td>0.0</td>\n",
       "      <td>0.0</td>\n",
       "      <td>0.0</td>\n",
       "      <td>0.0</td>\n",
       "      <td>...</td>\n",
       "      <td>0.0</td>\n",
       "      <td>0.0</td>\n",
       "      <td>0.0</td>\n",
       "      <td>0.0</td>\n",
       "      <td>0.0</td>\n",
       "      <td>0.0</td>\n",
       "      <td>0.0</td>\n",
       "      <td>0.0</td>\n",
       "      <td>0.0</td>\n",
       "      <td>0.0</td>\n",
       "    </tr>\n",
       "    <tr>\n",
       "      <th>...</th>\n",
       "      <td>...</td>\n",
       "      <td>...</td>\n",
       "      <td>...</td>\n",
       "      <td>...</td>\n",
       "      <td>...</td>\n",
       "      <td>...</td>\n",
       "      <td>...</td>\n",
       "      <td>...</td>\n",
       "      <td>...</td>\n",
       "      <td>...</td>\n",
       "      <td>...</td>\n",
       "      <td>...</td>\n",
       "      <td>...</td>\n",
       "      <td>...</td>\n",
       "      <td>...</td>\n",
       "      <td>...</td>\n",
       "      <td>...</td>\n",
       "      <td>...</td>\n",
       "      <td>...</td>\n",
       "      <td>...</td>\n",
       "      <td>...</td>\n",
       "    </tr>\n",
       "    <tr>\n",
       "      <th>445</th>\n",
       "      <td>0.0</td>\n",
       "      <td>1.0</td>\n",
       "      <td>0.0</td>\n",
       "      <td>0.0</td>\n",
       "      <td>0.0</td>\n",
       "      <td>0.0</td>\n",
       "      <td>0.0</td>\n",
       "      <td>0.0</td>\n",
       "      <td>0.0</td>\n",
       "      <td>0.0</td>\n",
       "      <td>...</td>\n",
       "      <td>0.0</td>\n",
       "      <td>0.0</td>\n",
       "      <td>0.0</td>\n",
       "      <td>0.0</td>\n",
       "      <td>0.0</td>\n",
       "      <td>0.0</td>\n",
       "      <td>0.0</td>\n",
       "      <td>0.0</td>\n",
       "      <td>0.0</td>\n",
       "      <td>0.0</td>\n",
       "    </tr>\n",
       "    <tr>\n",
       "      <th>446</th>\n",
       "      <td>0.0</td>\n",
       "      <td>0.0</td>\n",
       "      <td>0.0</td>\n",
       "      <td>0.0</td>\n",
       "      <td>0.0</td>\n",
       "      <td>1.0</td>\n",
       "      <td>0.0</td>\n",
       "      <td>0.0</td>\n",
       "      <td>0.0</td>\n",
       "      <td>0.0</td>\n",
       "      <td>...</td>\n",
       "      <td>0.0</td>\n",
       "      <td>0.0</td>\n",
       "      <td>0.0</td>\n",
       "      <td>0.0</td>\n",
       "      <td>0.0</td>\n",
       "      <td>0.0</td>\n",
       "      <td>0.0</td>\n",
       "      <td>0.0</td>\n",
       "      <td>0.0</td>\n",
       "      <td>0.0</td>\n",
       "    </tr>\n",
       "    <tr>\n",
       "      <th>447</th>\n",
       "      <td>0.0</td>\n",
       "      <td>1.0</td>\n",
       "      <td>0.0</td>\n",
       "      <td>0.0</td>\n",
       "      <td>0.0</td>\n",
       "      <td>0.0</td>\n",
       "      <td>0.0</td>\n",
       "      <td>0.0</td>\n",
       "      <td>0.0</td>\n",
       "      <td>0.0</td>\n",
       "      <td>...</td>\n",
       "      <td>0.0</td>\n",
       "      <td>0.0</td>\n",
       "      <td>0.0</td>\n",
       "      <td>0.0</td>\n",
       "      <td>0.0</td>\n",
       "      <td>0.0</td>\n",
       "      <td>0.0</td>\n",
       "      <td>0.0</td>\n",
       "      <td>0.0</td>\n",
       "      <td>0.0</td>\n",
       "    </tr>\n",
       "    <tr>\n",
       "      <th>448</th>\n",
       "      <td>0.0</td>\n",
       "      <td>0.0</td>\n",
       "      <td>1.0</td>\n",
       "      <td>0.0</td>\n",
       "      <td>0.0</td>\n",
       "      <td>0.0</td>\n",
       "      <td>0.0</td>\n",
       "      <td>0.0</td>\n",
       "      <td>0.0</td>\n",
       "      <td>0.0</td>\n",
       "      <td>...</td>\n",
       "      <td>0.0</td>\n",
       "      <td>0.0</td>\n",
       "      <td>0.0</td>\n",
       "      <td>0.0</td>\n",
       "      <td>0.0</td>\n",
       "      <td>0.0</td>\n",
       "      <td>0.0</td>\n",
       "      <td>0.0</td>\n",
       "      <td>0.0</td>\n",
       "      <td>0.0</td>\n",
       "    </tr>\n",
       "    <tr>\n",
       "      <th>449</th>\n",
       "      <td>1.0</td>\n",
       "      <td>0.0</td>\n",
       "      <td>0.0</td>\n",
       "      <td>0.0</td>\n",
       "      <td>0.0</td>\n",
       "      <td>0.0</td>\n",
       "      <td>0.0</td>\n",
       "      <td>0.0</td>\n",
       "      <td>0.0</td>\n",
       "      <td>0.0</td>\n",
       "      <td>...</td>\n",
       "      <td>0.0</td>\n",
       "      <td>0.0</td>\n",
       "      <td>0.0</td>\n",
       "      <td>0.0</td>\n",
       "      <td>0.0</td>\n",
       "      <td>0.0</td>\n",
       "      <td>0.0</td>\n",
       "      <td>0.0</td>\n",
       "      <td>0.0</td>\n",
       "      <td>0.0</td>\n",
       "    </tr>\n",
       "  </tbody>\n",
       "</table>\n",
       "<p>450 rows × 1532 columns</p>\n",
       "</div>"
      ],
      "text/plain": [
       "     0     1     2     3     4     5     6     7     8     9     ...  1522  \\\n",
       "0     0.0   0.0   0.0   0.0   0.0   0.0   0.0   0.0   0.0   0.0  ...   0.0   \n",
       "1     0.0   0.0   0.0   0.0   0.0   0.0   0.0   0.0   0.0   1.0  ...   0.0   \n",
       "2     0.0   0.0   0.0   0.0   0.0   0.0   1.0   0.0   0.0   0.0  ...   0.0   \n",
       "3     0.0   0.0   0.0   0.0   0.0   1.0   0.0   0.0   0.0   0.0  ...   0.0   \n",
       "4     0.0   0.0   1.0   0.0   0.0   0.0   0.0   0.0   0.0   0.0  ...   0.0   \n",
       "..    ...   ...   ...   ...   ...   ...   ...   ...   ...   ...  ...   ...   \n",
       "445   0.0   1.0   0.0   0.0   0.0   0.0   0.0   0.0   0.0   0.0  ...   0.0   \n",
       "446   0.0   0.0   0.0   0.0   0.0   1.0   0.0   0.0   0.0   0.0  ...   0.0   \n",
       "447   0.0   1.0   0.0   0.0   0.0   0.0   0.0   0.0   0.0   0.0  ...   0.0   \n",
       "448   0.0   0.0   1.0   0.0   0.0   0.0   0.0   0.0   0.0   0.0  ...   0.0   \n",
       "449   1.0   0.0   0.0   0.0   0.0   0.0   0.0   0.0   0.0   0.0  ...   0.0   \n",
       "\n",
       "     1523  1524  1525  1526  1527  1528  1529  1530  1531  \n",
       "0     0.0   0.0   1.0   0.0   0.0   0.0   0.0   0.0   0.0  \n",
       "1     0.0   0.0   0.0   0.0   0.0   0.0   0.0   0.0   0.0  \n",
       "2     0.0   0.0   0.0   0.0   0.0   0.0   0.0   0.0   0.0  \n",
       "3     0.0   0.0   0.0   0.0   0.0   0.0   0.0   0.0   0.0  \n",
       "4     0.0   0.0   0.0   0.0   0.0   0.0   0.0   0.0   0.0  \n",
       "..    ...   ...   ...   ...   ...   ...   ...   ...   ...  \n",
       "445   0.0   0.0   0.0   0.0   0.0   0.0   0.0   0.0   0.0  \n",
       "446   0.0   0.0   0.0   0.0   0.0   0.0   0.0   0.0   0.0  \n",
       "447   0.0   0.0   0.0   0.0   0.0   0.0   0.0   0.0   0.0  \n",
       "448   0.0   0.0   0.0   0.0   0.0   0.0   0.0   0.0   0.0  \n",
       "449   0.0   0.0   0.0   0.0   0.0   0.0   0.0   0.0   0.0  \n",
       "\n",
       "[450 rows x 1532 columns]"
      ]
     },
     "execution_count": 42,
     "metadata": {},
     "output_type": "execute_result"
    }
   ],
   "source": [
    "df1"
   ]
  },
  {
   "cell_type": "code",
   "execution_count": 43,
   "id": "e3b7a03c-aa1c-48b3-93d2-2abf35acb59c",
   "metadata": {},
   "outputs": [],
   "source": [
    "df=data.join(df1)"
   ]
  },
  {
   "cell_type": "code",
   "execution_count": 44,
   "id": "465b5b2e-996a-436e-8054-c37d5c349e44",
   "metadata": {},
   "outputs": [
    {
     "data": {
      "text/html": [
       "<div>\n",
       "<style scoped>\n",
       "    .dataframe tbody tr th:only-of-type {\n",
       "        vertical-align: middle;\n",
       "    }\n",
       "\n",
       "    .dataframe tbody tr th {\n",
       "        vertical-align: top;\n",
       "    }\n",
       "\n",
       "    .dataframe thead th {\n",
       "        text-align: right;\n",
       "    }\n",
       "</style>\n",
       "<table border=\"1\" class=\"dataframe\">\n",
       "  <thead>\n",
       "    <tr style=\"text-align: right;\">\n",
       "      <th></th>\n",
       "      <th>Date</th>\n",
       "      <th>Day</th>\n",
       "      <th>SKU</th>\n",
       "      <th>City</th>\n",
       "      <th>Volume</th>\n",
       "      <th>BU</th>\n",
       "      <th>Brand</th>\n",
       "      <th>Model</th>\n",
       "      <th>Avg Price</th>\n",
       "      <th>Total Sales Value</th>\n",
       "      <th>...</th>\n",
       "      <th>1522</th>\n",
       "      <th>1523</th>\n",
       "      <th>1524</th>\n",
       "      <th>1525</th>\n",
       "      <th>1526</th>\n",
       "      <th>1527</th>\n",
       "      <th>1528</th>\n",
       "      <th>1529</th>\n",
       "      <th>1530</th>\n",
       "      <th>1531</th>\n",
       "    </tr>\n",
       "  </thead>\n",
       "  <tbody>\n",
       "    <tr>\n",
       "      <th>0</th>\n",
       "      <td>01-04-2021</td>\n",
       "      <td>Thursday</td>\n",
       "      <td>M01</td>\n",
       "      <td>C</td>\n",
       "      <td>15</td>\n",
       "      <td>Mobiles</td>\n",
       "      <td>RealU</td>\n",
       "      <td>RU-10</td>\n",
       "      <td>12100</td>\n",
       "      <td>181500</td>\n",
       "      <td>...</td>\n",
       "      <td>0.0</td>\n",
       "      <td>0.0</td>\n",
       "      <td>0.0</td>\n",
       "      <td>1.0</td>\n",
       "      <td>0.0</td>\n",
       "      <td>0.0</td>\n",
       "      <td>0.0</td>\n",
       "      <td>0.0</td>\n",
       "      <td>0.0</td>\n",
       "      <td>0.0</td>\n",
       "    </tr>\n",
       "    <tr>\n",
       "      <th>1</th>\n",
       "      <td>01-04-2021</td>\n",
       "      <td>Thursday</td>\n",
       "      <td>M02</td>\n",
       "      <td>C</td>\n",
       "      <td>10</td>\n",
       "      <td>Mobiles</td>\n",
       "      <td>RealU</td>\n",
       "      <td>RU-9 Plus</td>\n",
       "      <td>10100</td>\n",
       "      <td>101000</td>\n",
       "      <td>...</td>\n",
       "      <td>0.0</td>\n",
       "      <td>0.0</td>\n",
       "      <td>0.0</td>\n",
       "      <td>0.0</td>\n",
       "      <td>0.0</td>\n",
       "      <td>0.0</td>\n",
       "      <td>0.0</td>\n",
       "      <td>0.0</td>\n",
       "      <td>0.0</td>\n",
       "      <td>0.0</td>\n",
       "    </tr>\n",
       "    <tr>\n",
       "      <th>2</th>\n",
       "      <td>01-04-2021</td>\n",
       "      <td>Thursday</td>\n",
       "      <td>M03</td>\n",
       "      <td>C</td>\n",
       "      <td>7</td>\n",
       "      <td>Mobiles</td>\n",
       "      <td>YouM</td>\n",
       "      <td>YM-99</td>\n",
       "      <td>16100</td>\n",
       "      <td>112700</td>\n",
       "      <td>...</td>\n",
       "      <td>0.0</td>\n",
       "      <td>0.0</td>\n",
       "      <td>0.0</td>\n",
       "      <td>0.0</td>\n",
       "      <td>0.0</td>\n",
       "      <td>0.0</td>\n",
       "      <td>0.0</td>\n",
       "      <td>0.0</td>\n",
       "      <td>0.0</td>\n",
       "      <td>0.0</td>\n",
       "    </tr>\n",
       "    <tr>\n",
       "      <th>3</th>\n",
       "      <td>01-04-2021</td>\n",
       "      <td>Thursday</td>\n",
       "      <td>M04</td>\n",
       "      <td>C</td>\n",
       "      <td>6</td>\n",
       "      <td>Mobiles</td>\n",
       "      <td>YouM</td>\n",
       "      <td>YM-99 Plus</td>\n",
       "      <td>20100</td>\n",
       "      <td>120600</td>\n",
       "      <td>...</td>\n",
       "      <td>0.0</td>\n",
       "      <td>0.0</td>\n",
       "      <td>0.0</td>\n",
       "      <td>0.0</td>\n",
       "      <td>0.0</td>\n",
       "      <td>0.0</td>\n",
       "      <td>0.0</td>\n",
       "      <td>0.0</td>\n",
       "      <td>0.0</td>\n",
       "      <td>0.0</td>\n",
       "    </tr>\n",
       "    <tr>\n",
       "      <th>4</th>\n",
       "      <td>01-04-2021</td>\n",
       "      <td>Thursday</td>\n",
       "      <td>M05</td>\n",
       "      <td>C</td>\n",
       "      <td>3</td>\n",
       "      <td>Mobiles</td>\n",
       "      <td>YouM</td>\n",
       "      <td>YM-98</td>\n",
       "      <td>8100</td>\n",
       "      <td>24300</td>\n",
       "      <td>...</td>\n",
       "      <td>0.0</td>\n",
       "      <td>0.0</td>\n",
       "      <td>0.0</td>\n",
       "      <td>0.0</td>\n",
       "      <td>0.0</td>\n",
       "      <td>0.0</td>\n",
       "      <td>0.0</td>\n",
       "      <td>0.0</td>\n",
       "      <td>0.0</td>\n",
       "      <td>0.0</td>\n",
       "    </tr>\n",
       "    <tr>\n",
       "      <th>...</th>\n",
       "      <td>...</td>\n",
       "      <td>...</td>\n",
       "      <td>...</td>\n",
       "      <td>...</td>\n",
       "      <td>...</td>\n",
       "      <td>...</td>\n",
       "      <td>...</td>\n",
       "      <td>...</td>\n",
       "      <td>...</td>\n",
       "      <td>...</td>\n",
       "      <td>...</td>\n",
       "      <td>...</td>\n",
       "      <td>...</td>\n",
       "      <td>...</td>\n",
       "      <td>...</td>\n",
       "      <td>...</td>\n",
       "      <td>...</td>\n",
       "      <td>...</td>\n",
       "      <td>...</td>\n",
       "      <td>...</td>\n",
       "      <td>...</td>\n",
       "    </tr>\n",
       "    <tr>\n",
       "      <th>445</th>\n",
       "      <td>15-04-2021</td>\n",
       "      <td>Thursday</td>\n",
       "      <td>L06</td>\n",
       "      <td>C</td>\n",
       "      <td>2</td>\n",
       "      <td>Lifestyle</td>\n",
       "      <td>Jeera</td>\n",
       "      <td>M-Casuals</td>\n",
       "      <td>1300</td>\n",
       "      <td>2600</td>\n",
       "      <td>...</td>\n",
       "      <td>0.0</td>\n",
       "      <td>0.0</td>\n",
       "      <td>0.0</td>\n",
       "      <td>0.0</td>\n",
       "      <td>0.0</td>\n",
       "      <td>0.0</td>\n",
       "      <td>0.0</td>\n",
       "      <td>0.0</td>\n",
       "      <td>0.0</td>\n",
       "      <td>0.0</td>\n",
       "    </tr>\n",
       "    <tr>\n",
       "      <th>446</th>\n",
       "      <td>15-04-2021</td>\n",
       "      <td>Thursday</td>\n",
       "      <td>L07</td>\n",
       "      <td>C</td>\n",
       "      <td>6</td>\n",
       "      <td>Lifestyle</td>\n",
       "      <td>Viva</td>\n",
       "      <td>W-Western</td>\n",
       "      <td>2600</td>\n",
       "      <td>15600</td>\n",
       "      <td>...</td>\n",
       "      <td>0.0</td>\n",
       "      <td>0.0</td>\n",
       "      <td>0.0</td>\n",
       "      <td>0.0</td>\n",
       "      <td>0.0</td>\n",
       "      <td>0.0</td>\n",
       "      <td>0.0</td>\n",
       "      <td>0.0</td>\n",
       "      <td>0.0</td>\n",
       "      <td>0.0</td>\n",
       "    </tr>\n",
       "    <tr>\n",
       "      <th>447</th>\n",
       "      <td>15-04-2021</td>\n",
       "      <td>Thursday</td>\n",
       "      <td>L08</td>\n",
       "      <td>C</td>\n",
       "      <td>2</td>\n",
       "      <td>Lifestyle</td>\n",
       "      <td>Viva</td>\n",
       "      <td>W-Lounge</td>\n",
       "      <td>1600</td>\n",
       "      <td>3200</td>\n",
       "      <td>...</td>\n",
       "      <td>0.0</td>\n",
       "      <td>0.0</td>\n",
       "      <td>0.0</td>\n",
       "      <td>0.0</td>\n",
       "      <td>0.0</td>\n",
       "      <td>0.0</td>\n",
       "      <td>0.0</td>\n",
       "      <td>0.0</td>\n",
       "      <td>0.0</td>\n",
       "      <td>0.0</td>\n",
       "    </tr>\n",
       "    <tr>\n",
       "      <th>448</th>\n",
       "      <td>15-04-2021</td>\n",
       "      <td>Thursday</td>\n",
       "      <td>L09</td>\n",
       "      <td>C</td>\n",
       "      <td>3</td>\n",
       "      <td>Lifestyle</td>\n",
       "      <td>Jeera</td>\n",
       "      <td>M-Formals</td>\n",
       "      <td>1900</td>\n",
       "      <td>5700</td>\n",
       "      <td>...</td>\n",
       "      <td>0.0</td>\n",
       "      <td>0.0</td>\n",
       "      <td>0.0</td>\n",
       "      <td>0.0</td>\n",
       "      <td>0.0</td>\n",
       "      <td>0.0</td>\n",
       "      <td>0.0</td>\n",
       "      <td>0.0</td>\n",
       "      <td>0.0</td>\n",
       "      <td>0.0</td>\n",
       "    </tr>\n",
       "    <tr>\n",
       "      <th>449</th>\n",
       "      <td>15-04-2021</td>\n",
       "      <td>Thursday</td>\n",
       "      <td>L10</td>\n",
       "      <td>C</td>\n",
       "      <td>1</td>\n",
       "      <td>Lifestyle</td>\n",
       "      <td>Jeera</td>\n",
       "      <td>M-Shoes</td>\n",
       "      <td>3100</td>\n",
       "      <td>3100</td>\n",
       "      <td>...</td>\n",
       "      <td>0.0</td>\n",
       "      <td>0.0</td>\n",
       "      <td>0.0</td>\n",
       "      <td>0.0</td>\n",
       "      <td>0.0</td>\n",
       "      <td>0.0</td>\n",
       "      <td>0.0</td>\n",
       "      <td>0.0</td>\n",
       "      <td>0.0</td>\n",
       "      <td>0.0</td>\n",
       "    </tr>\n",
       "  </tbody>\n",
       "</table>\n",
       "<p>450 rows × 1545 columns</p>\n",
       "</div>"
      ],
      "text/plain": [
       "           Date       Day  SKU City  Volume         BU  Brand       Model  \\\n",
       "0    01-04-2021  Thursday  M01    C      15    Mobiles  RealU       RU-10   \n",
       "1    01-04-2021  Thursday  M02    C      10    Mobiles  RealU   RU-9 Plus   \n",
       "2    01-04-2021  Thursday  M03    C       7    Mobiles   YouM       YM-99   \n",
       "3    01-04-2021  Thursday  M04    C       6    Mobiles   YouM  YM-99 Plus   \n",
       "4    01-04-2021  Thursday  M05    C       3    Mobiles   YouM      YM-98    \n",
       "..          ...       ...  ...  ...     ...        ...    ...         ...   \n",
       "445  15-04-2021  Thursday  L06    C       2  Lifestyle  Jeera   M-Casuals   \n",
       "446  15-04-2021  Thursday  L07    C       6  Lifestyle   Viva   W-Western   \n",
       "447  15-04-2021  Thursday  L08    C       2  Lifestyle   Viva    W-Lounge   \n",
       "448  15-04-2021  Thursday  L09    C       3  Lifestyle  Jeera   M-Formals   \n",
       "449  15-04-2021  Thursday  L10    C       1  Lifestyle  Jeera     M-Shoes   \n",
       "\n",
       "     Avg Price  Total Sales Value  ...  1522  1523  1524  1525  1526  1527  \\\n",
       "0        12100             181500  ...   0.0   0.0   0.0   1.0   0.0   0.0   \n",
       "1        10100             101000  ...   0.0   0.0   0.0   0.0   0.0   0.0   \n",
       "2        16100             112700  ...   0.0   0.0   0.0   0.0   0.0   0.0   \n",
       "3        20100             120600  ...   0.0   0.0   0.0   0.0   0.0   0.0   \n",
       "4         8100              24300  ...   0.0   0.0   0.0   0.0   0.0   0.0   \n",
       "..         ...                ...  ...   ...   ...   ...   ...   ...   ...   \n",
       "445       1300               2600  ...   0.0   0.0   0.0   0.0   0.0   0.0   \n",
       "446       2600              15600  ...   0.0   0.0   0.0   0.0   0.0   0.0   \n",
       "447       1600               3200  ...   0.0   0.0   0.0   0.0   0.0   0.0   \n",
       "448       1900               5700  ...   0.0   0.0   0.0   0.0   0.0   0.0   \n",
       "449       3100               3100  ...   0.0   0.0   0.0   0.0   0.0   0.0   \n",
       "\n",
       "     1528  1529  1530  1531  \n",
       "0     0.0   0.0   0.0   0.0  \n",
       "1     0.0   0.0   0.0   0.0  \n",
       "2     0.0   0.0   0.0   0.0  \n",
       "3     0.0   0.0   0.0   0.0  \n",
       "4     0.0   0.0   0.0   0.0  \n",
       "..    ...   ...   ...   ...  \n",
       "445   0.0   0.0   0.0   0.0  \n",
       "446   0.0   0.0   0.0   0.0  \n",
       "447   0.0   0.0   0.0   0.0  \n",
       "448   0.0   0.0   0.0   0.0  \n",
       "449   0.0   0.0   0.0   0.0  \n",
       "\n",
       "[450 rows x 1545 columns]"
      ]
     },
     "execution_count": 44,
     "metadata": {},
     "output_type": "execute_result"
    }
   ],
   "source": [
    "## Transformed Dataset\n",
    "df"
   ]
  },
  {
   "cell_type": "markdown",
   "id": "f4052f84-e96c-4650-97d4-a9bb0fa89961",
   "metadata": {},
   "source": [
    "### Conclusion\n",
    "1. Descriptive analytics provided key statistical insights by calculating measures like mean, median, mode, and standard deviation for numerical columns.\n",
    "2. Data visualizations (histograms, boxplots, and bar charts) revealed distribution patterns, skewness, outliers, and category frequencies.\n",
    "3. Standardization using Z-score normalization ensured numerical features were on a uniform scale for better comparison and analysis.\n",
    "4. Categorical data was transformed into dummy variables using one-hot encoding, making the dataset suitable for machine learning models.\n",
    "5. Data preprocessing steps, including standardization and one-hot encoding, are essential for improving model accuracy and interpretability in analysis."
   ]
  },
  {
   "cell_type": "code",
   "execution_count": null,
   "id": "cf0f703c-b6bd-4c4f-98a4-a19a50cfebec",
   "metadata": {},
   "outputs": [],
   "source": []
  }
 ],
 "metadata": {
  "kernelspec": {
   "display_name": "Python 3 (ipykernel)",
   "language": "python",
   "name": "python3"
  },
  "language_info": {
   "codemirror_mode": {
    "name": "ipython",
    "version": 3
   },
   "file_extension": ".py",
   "mimetype": "text/x-python",
   "name": "python",
   "nbconvert_exporter": "python",
   "pygments_lexer": "ipython3",
   "version": "3.11.7"
  }
 },
 "nbformat": 4,
 "nbformat_minor": 5
}
