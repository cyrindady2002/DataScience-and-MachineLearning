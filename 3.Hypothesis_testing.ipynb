{
 "cells": [
  {
   "cell_type": "markdown",
   "id": "8bd2617e-3e52-44ae-8170-a8aaab1cc431",
   "metadata": {},
   "source": [
    "## Estimation And Confidence Intervals"
   ]
  },
  {
   "cell_type": "markdown",
   "id": "16c49f19-4769-474e-b645-28e9f04ea7fa",
   "metadata": {},
   "source": [
    "#### Hypothesis \n",
    "- H0: quality standards do not destroys the Print head.\n",
    "- H1: quality standards destroys the Print head."
   ]
  },
  {
   "cell_type": "code",
   "execution_count": 1,
   "id": "9f77f4a1-3161-4ed7-b55f-2b89d7c8c0a0",
   "metadata": {},
   "outputs": [],
   "source": [
    "import numpy as np\n",
    "import scipy.stats as stats"
   ]
  },
  {
   "cell_type": "code",
   "execution_count": 2,
   "id": "b136c43d-d5ad-4144-a132-e5510e10872f",
   "metadata": {},
   "outputs": [],
   "source": [
    "# Given data\n",
    "n=15\n",
    "p_head=[1.13, 1.55, 1.43, 0.92, 1.25, 1.36, 1.32, 0.85, 1.07, 1.48, 1.20, 1.33, 1.18, 1.22, 1.29]"
   ]
  },
  {
   "cell_type": "code",
   "execution_count": 3,
   "id": "acb00a7b-0212-45ca-abd3-2004ae553f14",
   "metadata": {},
   "outputs": [
    {
     "data": {
      "text/plain": [
       "1.2386666666666666"
      ]
     },
     "execution_count": 3,
     "metadata": {},
     "output_type": "execute_result"
    }
   ],
   "source": [
    "pop_mean=np.mean(p_head)\n",
    "pop_mean"
   ]
  },
  {
   "cell_type": "code",
   "execution_count": 4,
   "id": "e216d4d3-f1f7-4cd4-a4e5-9b5c3aec4834",
   "metadata": {},
   "outputs": [
    {
     "data": {
      "text/plain": [
       "0.18661427836285438"
      ]
     },
     "execution_count": 4,
     "metadata": {},
     "output_type": "execute_result"
    }
   ],
   "source": [
    "sample_std_dev=np.std(p_head)\n",
    "sample_std_dev"
   ]
  },
  {
   "cell_type": "markdown",
   "id": "ec89fb2a-02f4-4dcb-a8a1-cc592e8ea43a",
   "metadata": {},
   "source": [
    "### a. Build 99% Confidence Interval Using Sample Standard Deviation"
   ]
  },
  {
   "cell_type": "code",
   "execution_count": 5,
   "id": "2d4b4432-6052-452c-b2ce-7f1e29ad8042",
   "metadata": {},
   "outputs": [],
   "source": [
    "CI=0.99\n",
    "alpha=0.01"
   ]
  },
  {
   "cell_type": "markdown",
   "id": "e79e60b5-6c71-45ed-8c13-9e84069320b0",
   "metadata": {},
   "source": [
    "When we are using the sample standard deviation, we can go with t_test"
   ]
  },
  {
   "cell_type": "code",
   "execution_count": 6,
   "id": "b28e6ee9-956e-480c-85bd-b2e5e3e478c5",
   "metadata": {},
   "outputs": [],
   "source": [
    "## tstats_=(x_bar-pop_mean)/(s/np.sqrt(n))\n",
    "## Xbar=pop_mean because sample size is same as population size => tstats=0\n",
    "t_stat=0"
   ]
  },
  {
   "cell_type": "code",
   "execution_count": 7,
   "id": "205fd2b2-4ad7-4d7a-8ad3-74fb68ed178b",
   "metadata": {},
   "outputs": [
    {
     "data": {
      "text/plain": [
       "2.97684273411266"
      ]
     },
     "execution_count": 7,
     "metadata": {},
     "output_type": "execute_result"
    }
   ],
   "source": [
    "##(CI+alpha/2,degree of freedom=n-1)\n",
    "t_critical= stats.t.ppf(.995,14)\n",
    "t_critical"
   ]
  },
  {
   "cell_type": "code",
   "execution_count": 8,
   "id": "a8bd5fb3-aebd-439c-811e-75cc0833eaf6",
   "metadata": {},
   "outputs": [],
   "source": [
    "## t_critical>tstat => fail to reject H0\n",
    "## We can't reject the possibility that quality standards do not destroys the Print head."
   ]
  },
  {
   "cell_type": "code",
   "execution_count": 9,
   "id": "91d5fd78-e949-4c14-bee9-488fd79bddc9",
   "metadata": {},
   "outputs": [],
   "source": [
    "moe_p_head_a=t_critical*(sample_std_dev/np.sqrt(n))"
   ]
  },
  {
   "cell_type": "code",
   "execution_count": 10,
   "id": "5993f361-d716-4abc-9012-62c344950323",
   "metadata": {},
   "outputs": [],
   "source": [
    "CI_pop_a=(pop_mean-moe_p_head_a,pop_mean+moe_p_head_a)"
   ]
  },
  {
   "cell_type": "code",
   "execution_count": 11,
   "id": "f5d45b60-2448-4366-912c-69886702bddd",
   "metadata": {},
   "outputs": [
    {
     "data": {
      "text/plain": [
       "(1.0952316686385626, 1.3821016646947706)"
      ]
     },
     "execution_count": 11,
     "metadata": {},
     "output_type": "execute_result"
    }
   ],
   "source": [
    "CI_pop_a"
   ]
  },
  {
   "cell_type": "markdown",
   "id": "9abc2dd8-4118-499c-ac3e-9a2c514e8336",
   "metadata": {},
   "source": [
    "### b. Build 99% Confidence Interval Using Known Population Standard Deviation"
   ]
  },
  {
   "cell_type": "code",
   "execution_count": 12,
   "id": "76b0102b-bb17-4946-b147-098a44f9e8ee",
   "metadata": {},
   "outputs": [],
   "source": [
    "pop_std_dev=0.2"
   ]
  },
  {
   "cell_type": "code",
   "execution_count": 13,
   "id": "f62602c1-4814-4282-bbb5-6087c82f1590",
   "metadata": {},
   "outputs": [],
   "source": [
    "## Since population standard deviation is given, we can use z_test\n",
    "z_critical=stats.norm.ppf(1-alpha/2)"
   ]
  },
  {
   "cell_type": "code",
   "execution_count": 14,
   "id": "9980d0fc-cff4-4880-8d24-6269ab2e423e",
   "metadata": {},
   "outputs": [],
   "source": [
    "moe_p_head_b=z_critical*(pop_std_dev/np.sqrt(n))"
   ]
  },
  {
   "cell_type": "code",
   "execution_count": 15,
   "id": "4025ae44-626d-4bab-801c-e683695ae4bd",
   "metadata": {},
   "outputs": [],
   "source": [
    "CI_pop_b=(pop_mean-moe_p_head_b,pop_mean+moe_p_head_b)"
   ]
  },
  {
   "cell_type": "code",
   "execution_count": 16,
   "id": "2549d702-24dd-49b5-b9c5-4a51e364cb2e",
   "metadata": {},
   "outputs": [
    {
     "data": {
      "text/plain": [
       "(1.1056514133957607, 1.3716819199375725)"
      ]
     },
     "execution_count": 16,
     "metadata": {},
     "output_type": "execute_result"
    }
   ],
   "source": [
    "CI_pop_b"
   ]
  }
 ],
 "metadata": {
  "kernelspec": {
   "display_name": "Python 3 (ipykernel)",
   "language": "python",
   "name": "python3"
  },
  "language_info": {
   "codemirror_mode": {
    "name": "ipython",
    "version": 3
   },
   "file_extension": ".py",
   "mimetype": "text/x-python",
   "name": "python",
   "nbconvert_exporter": "python",
   "pygments_lexer": "ipython3",
   "version": "3.11.7"
  }
 },
 "nbformat": 4,
 "nbformat_minor": 5
}
